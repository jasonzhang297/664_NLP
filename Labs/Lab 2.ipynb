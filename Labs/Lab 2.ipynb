{
 "cells": [
  {
   "cell_type": "code",
   "execution_count": 3,
   "metadata": {
    "id": "5NinVuuybNW0"
   },
   "outputs": [],
   "source": [
    "# Week 2:  Bigram Frequencies and Mutual Information\n",
    "# This file has small examples that are meant to be run individually\n",
    "#   in the Python interpreter or jupyter notebook cells\n",
    "\n",
    "\n",
    "\n",
    "## Part 1: word frequency distribution\n",
    "\n",
    "# Getting started to process a text example\n",
    "import nltk"
   ]
  },
  {
   "cell_type": "code",
   "execution_count": 4,
   "metadata": {
    "id": "C4FULZIHbPuP"
   },
   "outputs": [],
   "source": [
    "# get the tokens of the book Emma from the Gutenberg corpus,\n",
    "# and reduce the tokens to lowercase.\n",
    "from nltk.corpus import gutenberg"
   ]
  },
  {
   "cell_type": "code",
   "execution_count": 5,
   "metadata": {
    "colab": {
     "base_uri": "https://localhost:8080/"
    },
    "id": "H5U1-9lQbTin",
    "outputId": "decb0240-c419-42f7-f4cd-ea56a5b5bb8c"
   },
   "outputs": [
    {
     "data": {
      "text/plain": [
       "['austen-emma.txt',\n",
       " 'austen-persuasion.txt',\n",
       " 'austen-sense.txt',\n",
       " 'bible-kjv.txt',\n",
       " 'blake-poems.txt',\n",
       " 'bryant-stories.txt',\n",
       " 'burgess-busterbrown.txt',\n",
       " 'carroll-alice.txt',\n",
       " 'chesterton-ball.txt',\n",
       " 'chesterton-brown.txt',\n",
       " 'chesterton-thursday.txt',\n",
       " 'edgeworth-parents.txt',\n",
       " 'melville-moby_dick.txt',\n",
       " 'milton-paradise.txt',\n",
       " 'shakespeare-caesar.txt',\n",
       " 'shakespeare-hamlet.txt',\n",
       " 'shakespeare-macbeth.txt',\n",
       " 'whitman-leaves.txt']"
      ]
     },
     "execution_count": 5,
     "metadata": {},
     "output_type": "execute_result"
    }
   ],
   "source": [
    "gutenberg.fileids()"
   ]
  },
  {
   "cell_type": "code",
   "execution_count": 6,
   "metadata": {
    "id": "3Na_wRZQbWIw"
   },
   "outputs": [],
   "source": [
    "emma=gutenberg.words(fileids='austen-emma.txt')\n",
    "emmawords =[w.lower() for w in emma]"
   ]
  },
  {
   "cell_type": "code",
   "execution_count": 7,
   "metadata": {
    "colab": {
     "base_uri": "https://localhost:8080/"
    },
    "id": "U7RD_h0Cbvhx",
    "outputId": "dc551195-7859-4caa-fe14-47e22090b6de"
   },
   "outputs": [
    {
     "data": {
      "text/plain": [
       "192427"
      ]
     },
     "execution_count": 7,
     "metadata": {},
     "output_type": "execute_result"
    }
   ],
   "source": [
    "# show some of the words\n",
    "len(emmawords)"
   ]
  },
  {
   "cell_type": "code",
   "execution_count": 8,
   "metadata": {
    "colab": {
     "base_uri": "https://localhost:8080/"
    },
    "id": "MmJme2Inbx6r",
    "outputId": "a0a4977f-ffd4-4c34-a8d6-2396f12fafa0"
   },
   "outputs": [
    {
     "data": {
      "text/plain": [
       "['[',\n",
       " 'emma',\n",
       " 'by',\n",
       " 'jane',\n",
       " 'austen',\n",
       " '1816',\n",
       " ']',\n",
       " 'volume',\n",
       " 'i',\n",
       " 'chapter',\n",
       " 'i',\n",
       " 'emma',\n",
       " 'woodhouse',\n",
       " ',',\n",
       " 'handsome',\n",
       " ',',\n",
       " 'clever',\n",
       " ',',\n",
       " 'and',\n",
       " 'rich',\n",
       " ',',\n",
       " 'with',\n",
       " 'a',\n",
       " 'comfortable',\n",
       " 'home',\n",
       " 'and',\n",
       " 'happy',\n",
       " 'disposition',\n",
       " ',',\n",
       " 'seemed']"
      ]
     },
     "execution_count": 8,
     "metadata": {},
     "output_type": "execute_result"
    }
   ],
   "source": [
    "# what does this code do?\n",
    "# Print the first 30 tokens\n",
    "emmawords[ :30]"
   ]
  },
  {
   "cell_type": "code",
   "execution_count": 12,
   "metadata": {
    "id": "tfjdfW9Ab0gg"
   },
   "outputs": [
    {
     "data": {
      "text/plain": [
       "FreqDist({',': 11454, '.': 6928, 'to': 5239, 'the': 5201, 'and': 4896, 'of': 4291, 'i': 3178, 'a': 3129, 'it': 2528, 'her': 2469, ...})"
      ]
     },
     "execution_count": 12,
     "metadata": {},
     "output_type": "execute_result"
    }
   ],
   "source": [
    "# Creating a frequency distribution of words\n",
    "from nltk import FreqDist\n",
    "ndist = FreqDist(emmawords)\n",
    "ndist"
   ]
  },
  {
   "cell_type": "code",
   "execution_count": 13,
   "metadata": {
    "colab": {
     "base_uri": "https://localhost:8080/"
    },
    "id": "zXDkHkSLb9D9",
    "outputId": "9952cbad-3f64-41b3-ae60-fb65e851a9a6"
   },
   "outputs": [
    {
     "data": {
      "text/plain": [
       "[(',', 11454),\n",
       " ('.', 6928),\n",
       " ('to', 5239),\n",
       " ('the', 5201),\n",
       " ('and', 4896),\n",
       " ('of', 4291),\n",
       " ('i', 3178),\n",
       " ('a', 3129),\n",
       " ('it', 2528),\n",
       " ('her', 2469),\n",
       " ('was', 2398),\n",
       " ('she', 2340),\n",
       " (';', 2199),\n",
       " ('in', 2188),\n",
       " ('not', 2140),\n",
       " ('\"', 2004),\n",
       " ('you', 1980),\n",
       " ('be', 1975),\n",
       " ('that', 1806),\n",
       " ('he', 1806),\n",
       " ('had', 1624),\n",
       " ('but', 1441),\n",
       " ('as', 1436),\n",
       " ('--', 1382),\n",
       " ('for', 1347),\n",
       " ('have', 1320),\n",
       " ('is', 1240),\n",
       " ('with', 1217),\n",
       " ('very', 1202),\n",
       " ('mr', 1153)]"
      ]
     },
     "execution_count": 13,
     "metadata": {},
     "output_type": "execute_result"
    }
   ],
   "source": [
    "# print the top 30 tokens by frequency\n",
    "nitems = ndist.most_common(30)\n",
    "nitems"
   ]
  },
  {
   "cell_type": "code",
   "execution_count": 14,
   "metadata": {
    "id": "DnE5QwlWcASM"
   },
   "outputs": [],
   "source": [
    "## Part 2: Define Python functions  \n",
    "\n",
    "\n",
    "# the function doublesum takes 2 numbers as parameters, either int or float\n",
    "#  and returns a result which is the sum of those numbers multiplied by 2\n",
    "def doublesum (x, y):\n",
    "    result = 2 * (x + y)\n",
    "    return result\n",
    "\n"
   ]
  },
  {
   "cell_type": "code",
   "execution_count": 17,
   "metadata": {
    "colab": {
     "base_uri": "https://localhost:8080/"
    },
    "id": "XwjTEFFOcD7P",
    "outputId": "86929ca0-c731-4351-84d6-aa18410557bd"
   },
   "outputs": [
    {
     "data": {
      "text/plain": [
       "16"
      ]
     },
     "execution_count": 17,
     "metadata": {},
     "output_type": "execute_result"
    }
   ],
   "source": [
    "# test our self-defined function\n",
    "doublesum(3, 5)\n",
    "\n"
   ]
  },
  {
   "cell_type": "code",
   "execution_count": 18,
   "metadata": {
    "id": "tY5M8ceycMEy"
   },
   "outputs": [],
   "source": [
    "# this following function takes a string and a list of words as parameters.\n",
    "#   It will return all the words in the list that contain the string as a substring\n",
    "def searchstring (substring, wordlist):\n",
    "    # initialize the result\n",
    "    result = [ ]\n",
    "    #  loop over all the words\n",
    "    for word in wordlist:\n",
    "        # test each word if it contains the substring\n",
    "        if substring in word:\n",
    "            # add it to the result\n",
    "            result.append(word)\n",
    "    return result\n"
   ]
  },
  {
   "cell_type": "code",
   "execution_count": 21,
   "metadata": {
    "colab": {
     "base_uri": "https://localhost:8080/"
    },
    "id": "-YB_Sg-ecPpE",
    "outputId": "82aebf46-2eaf-4dab-b6e4-a1326f6a4770"
   },
   "outputs": [
    {
     "data": {
      "text/plain": [
       "['drizzle',\n",
       " 'puzzled',\n",
       " 'puzzles',\n",
       " 'puzzling',\n",
       " 'puzzled',\n",
       " 'puzzle',\n",
       " 'puzzle',\n",
       " 'puzzled']"
      ]
     },
     "execution_count": 21,
     "metadata": {},
     "output_type": "execute_result"
    }
   ],
   "source": [
    "searchstring('zz', emmawords)"
   ]
  },
  {
   "cell_type": "code",
   "execution_count": 22,
   "metadata": {
    "colab": {
     "base_uri": "https://localhost:8080/"
    },
    "id": "MRapiC9ecRtw",
    "outputId": "e3e0aadb-66fc-4efd-e63c-30da4920caef"
   },
   "outputs": [
    {
     "name": "stdout",
     "output_type": "stream",
     "text": [
      "Zack\n",
      "22-15\n",
      "Room 159\n"
     ]
    }
   ],
   "source": [
    "# multiple variable assignment and use\n",
    "name, phone, location = ('Zack', '22-15', 'Room 159')\n",
    "print(name)\n",
    "print(phone)\n",
    "print(location)"
   ]
  },
  {
   "cell_type": "code",
   "execution_count": 24,
   "metadata": {
    "colab": {
     "base_uri": "https://localhost:8080/"
    },
    "id": "JIuc_Hyxca0M",
    "outputId": "f2e7bb91-225d-40e5-add9-7434341d7ff7"
   },
   "outputs": [
    {
     "data": {
      "text/plain": [
       "['[',\n",
       " 'emma',\n",
       " 'by',\n",
       " 'jane',\n",
       " 'austen',\n",
       " '1816',\n",
       " ']',\n",
       " 'volume',\n",
       " 'i',\n",
       " 'chapter',\n",
       " 'i',\n",
       " 'emma',\n",
       " 'woodhouse',\n",
       " ',',\n",
       " 'handsome',\n",
       " ',',\n",
       " 'clever',\n",
       " ',',\n",
       " 'and',\n",
       " 'rich']"
      ]
     },
     "execution_count": 24,
     "metadata": {},
     "output_type": "execute_result"
    }
   ],
   "source": [
    "# Part 3: Bigrams and Bigram frequency distribution\n",
    "\n",
    "emmabigrams = list(nltk.bigrams(emmawords))\n",
    "emmawords[:20]\n"
   ]
  },
  {
   "cell_type": "code",
   "execution_count": 25,
   "metadata": {
    "colab": {
     "base_uri": "https://localhost:8080/"
    },
    "id": "zhj7Ee-3cmmD",
    "outputId": "e1eba638-f467-4c28-e41c-052ccfaf0168"
   },
   "outputs": [
    {
     "data": {
      "text/plain": [
       "[('[', 'emma'),\n",
       " ('emma', 'by'),\n",
       " ('by', 'jane'),\n",
       " ('jane', 'austen'),\n",
       " ('austen', '1816'),\n",
       " ('1816', ']'),\n",
       " (']', 'volume'),\n",
       " ('volume', 'i'),\n",
       " ('i', 'chapter'),\n",
       " ('chapter', 'i'),\n",
       " ('i', 'emma'),\n",
       " ('emma', 'woodhouse'),\n",
       " ('woodhouse', ','),\n",
       " (',', 'handsome'),\n",
       " ('handsome', ','),\n",
       " (',', 'clever'),\n",
       " ('clever', ','),\n",
       " (',', 'and'),\n",
       " ('and', 'rich')]"
      ]
     },
     "execution_count": 25,
     "metadata": {},
     "output_type": "execute_result"
    }
   ],
   "source": [
    "emmabigrams[:19]"
   ]
  },
  {
   "cell_type": "code",
   "execution_count": 26,
   "metadata": {
    "id": "Qu4FQxL6co-R"
   },
   "outputs": [],
   "source": [
    "# setup for bigrams and bigram measures\n",
    "from nltk.collocations import *\n",
    "bigram_measures = nltk.collocations.BigramAssocMeasures()\n",
    "\n"
   ]
  },
  {
   "cell_type": "code",
   "execution_count": 27,
   "metadata": {
    "id": "3awF0nmCctVq"
   },
   "outputs": [],
   "source": [
    "# create the bigram finder and score the bigrams by frequency\n",
    "finder = BigramCollocationFinder.from_words(emmawords)\n",
    "scored = finder.score_ngrams(bigram_measures.raw_freq)\n"
   ]
  },
  {
   "cell_type": "code",
   "execution_count": 28,
   "metadata": {
    "colab": {
     "base_uri": "https://localhost:8080/"
    },
    "id": "4w5HK3ZUcy8I",
    "outputId": "f1399a70-3706-4b71-9f1d-d296dba452ac"
   },
   "outputs": [
    {
     "data": {
      "text/plain": [
       "list"
      ]
     },
     "execution_count": 28,
     "metadata": {},
     "output_type": "execute_result"
    }
   ],
   "source": [
    "# scored is a list of bigram pairs with their score\n",
    "type(scored)\n"
   ]
  },
  {
   "cell_type": "code",
   "execution_count": 30,
   "metadata": {
    "colab": {
     "base_uri": "https://localhost:8080/"
    },
    "id": "9phtJ8nNc4lQ",
    "outputId": "9f3c536a-feb2-4d8f-8068-d8e35f30bb38"
   },
   "outputs": [
    {
     "data": {
      "text/plain": [
       "tuple"
      ]
     },
     "execution_count": 30,
     "metadata": {},
     "output_type": "execute_result"
    }
   ],
   "source": [
    "first = scored[0]\n",
    "type(first)\n"
   ]
  },
  {
   "cell_type": "code",
   "execution_count": 31,
   "metadata": {
    "colab": {
     "base_uri": "https://localhost:8080/"
    },
    "id": "8n2FmytLc84O",
    "outputId": "96670103-1c10-4937-d650-29125e033e9f"
   },
   "outputs": [
    {
     "data": {
      "text/plain": [
       "((',', 'and'), 0.00977513550593212)"
      ]
     },
     "execution_count": 31,
     "metadata": {},
     "output_type": "execute_result"
    }
   ],
   "source": [
    "# let's check out first-- what it look like?\n",
    "first"
   ]
  },
  {
   "cell_type": "code",
   "execution_count": 33,
   "metadata": {
    "colab": {
     "base_uri": "https://localhost:8080/"
    },
    "id": "ZdwCbvTwdEbT",
    "outputId": "1624ca94-c38b-4941-f1ef-73a0db73cd92"
   },
   "outputs": [
    {
     "data": {
      "text/plain": [
       "[((',', 'and'), 0.00977513550593212),\n",
       " (('mr', '.'), 0.005991882636012618),\n",
       " ((\"'\", 's'), 0.0048433951576441975),\n",
       " ((';', 'and'), 0.004500407946909737),\n",
       " (('.\"', '\"'), 0.003933959371605855),\n",
       " (('mrs', '.'), 0.0036325463682331484),\n",
       " (('to', 'be'), 0.003154442983572991),\n",
       " (('.', 'i'), 0.0029621622745248846),\n",
       " ((',', 'i'), 0.0029517687226844466),\n",
       " (('of', 'the'), 0.002904997739402475),\n",
       " (('in', 'the'), 0.0023125652844974975),\n",
       " (('it', 'was'), 0.0023073685085772786),\n",
       " (('.', 'weston'), 0.002219023317933554),\n",
       " ((';', 'but'), 0.002219023317933554),\n",
       " (('.', '\"'), 0.002156662006890925),\n",
       " (('.', 'she'), 0.0021462684550504867),\n",
       " ((',', '\"'), 0.0020683168162472),\n",
       " (('i', 'am'), 0.002052726488486543),\n",
       " (('.', 'elton'), 0.0019799716256034758),\n",
       " ((',', 'that'), 0.0018656425553586556)]"
      ]
     },
     "execution_count": 33,
     "metadata": {},
     "output_type": "execute_result"
    }
   ],
   "source": [
    "# What do the two lines do?\n",
    "scored[:20]\n"
   ]
  },
  {
   "cell_type": "code",
   "execution_count": 34,
   "metadata": {
    "colab": {
     "base_uri": "https://localhost:8080/"
    },
    "id": "oBhBZeepdNlM",
    "outputId": "4799b40a-730d-4506-fcbe-d93716668c1a"
   },
   "outputs": [
    {
     "data": {
      "text/plain": [
       "[(('yourself', 'harriet'), 5.196775920219096e-06),\n",
       " (('yourself', 'how'), 5.196775920219096e-06),\n",
       " (('yourself', 'mistaken'), 5.196775920219096e-06),\n",
       " (('yourself', 'one'), 5.196775920219096e-06),\n",
       " (('yourself', 'only'), 5.196775920219096e-06),\n",
       " (('yourself', 'out'), 5.196775920219096e-06),\n",
       " (('yourself', 'particularly'), 5.196775920219096e-06),\n",
       " (('yourself', 'this'), 5.196775920219096e-06),\n",
       " (('yourself', 'too'), 5.196775920219096e-06),\n",
       " (('yourself', 'when'), 5.196775920219096e-06),\n",
       " (('youth', 'had'), 5.196775920219096e-06),\n",
       " (('youth', 'is'), 5.196775920219096e-06),\n",
       " (('youth', 'on'), 5.196775920219096e-06),\n",
       " (('youthful', 'expression'), 5.196775920219096e-06),\n",
       " (('youthful', 'simplicity'), 5.196775920219096e-06),\n",
       " (('zeal', '!--'), 5.196775920219096e-06),\n",
       " (('zeal', 'and'), 5.196775920219096e-06),\n",
       " (('zeal', 'in'), 5.196775920219096e-06),\n",
       " (('zeal', 'of'), 5.196775920219096e-06),\n",
       " (('zigzags', 'of'), 5.196775920219096e-06)]"
      ]
     },
     "execution_count": 34,
     "metadata": {},
     "output_type": "execute_result"
    }
   ],
   "source": [
    "scored[-20:]"
   ]
  },
  {
   "cell_type": "code",
   "execution_count": 35,
   "metadata": {
    "colab": {
     "base_uri": "https://localhost:8080/"
    },
    "id": "Zdsc6l4ldTxA",
    "outputId": "699b811f-f156-4cf9-c2e2-914bd9d5c8ef"
   },
   "outputs": [
    {
     "data": {
      "text/plain": [
       "[(('your', 'little'), 1.0393551840438192e-05),\n",
       " (('your', 'manners'), 1.0393551840438192e-05),\n",
       " (('your', 'meaning'), 1.0393551840438192e-05),\n",
       " (('your', 'name'), 1.0393551840438192e-05),\n",
       " (('your', 'not'), 1.0393551840438192e-05),\n",
       " (('your', 'only'), 1.0393551840438192e-05),\n",
       " (('your', 'picture'), 1.0393551840438192e-05),\n",
       " (('your', 'real'), 1.0393551840438192e-05),\n",
       " (('your', 'resolution'), 1.0393551840438192e-05),\n",
       " (('your', 'sensations'), 1.0393551840438192e-05),\n",
       " (('your', 'sister'), 1.0393551840438192e-05),\n",
       " (('your', 'taste'), 1.0393551840438192e-05),\n",
       " (('your', 'thoughts'), 1.0393551840438192e-05),\n",
       " (('your', 'tippet'), 1.0393551840438192e-05),\n",
       " (('your', 'way'), 1.0393551840438192e-05),\n",
       " (('yours', ','), 1.0393551840438192e-05),\n",
       " (('yourself', '.\"'), 1.0393551840438192e-05),\n",
       " (('yourself', '.--'), 1.0393551840438192e-05),\n",
       " (('yourself', 'for'), 1.0393551840438192e-05),\n",
       " (('yourself', 'very'), 1.0393551840438192e-05)]"
      ]
     },
     "execution_count": 35,
     "metadata": {},
     "output_type": "execute_result"
    }
   ],
   "source": [
    "# apply a filter (on a new finder) to remove low frequency words\n",
    "finder2 = BigramCollocationFinder.from_words(emmawords)\n",
    "finder2.apply_freq_filter(2)\n",
    "scored2 = finder2.score_ngrams(bigram_measures.raw_freq)\n",
    "scored2[-20:]\n"
   ]
  },
  {
   "cell_type": "code",
   "execution_count": 36,
   "metadata": {
    "colab": {
     "base_uri": "https://localhost:8080/"
    },
    "id": "cz9QXWZadYdF",
    "outputId": "2115dce1-ce35-4847-c05c-7e2eb3804c5b"
   },
   "outputs": [
    {
     "data": {
      "text/plain": [
       "[(('----', 'mum'), 17.553951716544702),\n",
       " (('1816', ']'), 17.553951716544702),\n",
       " (('26th', 'ult'), 17.553951716544702),\n",
       " (('_______', 'regiment'), 17.553951716544702),\n",
       " (('_a_', '_source_'), 17.553951716544702),\n",
       " (('_amor_', '_patriae_'), 17.553951716544702),\n",
       " (('_and_', '_misery_'), 17.553951716544702),\n",
       " (('_any_', '_thing_'), 17.553951716544702),\n",
       " (('_be_', '_a_'), 17.553951716544702),\n",
       " (('_caro_', '_sposo_'), 17.553951716544702),\n",
       " (('_dissolved_', '_it_'), 17.553951716544702),\n",
       " (('_great_', '_way_'), 17.553951716544702),\n",
       " (('_most_', '_precious_'), 17.553951716544702),\n",
       " (('_precious_', '_treasures_'), 17.553951716544702),\n",
       " (('_repentance_', '_and_'), 17.553951716544702),\n",
       " (('_robin_', '_adair_'), 17.553951716544702),\n",
       " (('_with_', '_time_'), 17.553951716544702),\n",
       " (('adequate', 'restoratives'), 17.553951716544702),\n",
       " (('austen', '1816'), 17.553951716544702),\n",
       " (('base', 'aspersion'), 17.553951716544702)]"
      ]
     },
     "execution_count": 36,
     "metadata": {},
     "output_type": "execute_result"
    }
   ],
   "source": [
    "### pointwise mutual information\n",
    "finder3 = BigramCollocationFinder.from_words(emmawords)\n",
    "scored3 = finder3.score_ngrams(bigram_measures.pmi)\n",
    "scored3[:20]"
   ]
  },
  {
   "cell_type": "code",
   "execution_count": 37,
   "metadata": {
    "colab": {
     "base_uri": "https://localhost:8080/"
    },
    "id": "t31-_Sttdgqw",
    "outputId": "6634d344-7b23-423e-a205-d54f1903c7c2"
   },
   "outputs": [
    {
     "data": {
      "text/plain": [
       "[(('brunswick', 'square'), 13.968989215823544),\n",
       " (('sore', 'throat'), 13.5539517165447),\n",
       " (('mill', 'farm'), 13.246523191352455),\n",
       " (('william', 'larkins'), 13.094520097907404),\n",
       " (('baked', 'apples'), 13.062098620215025),\n",
       " (('e', '.,'), 12.83148569207361),\n",
       " (('box', 'hill'), 12.740883143292704),\n",
       " (('sixteen', 'miles'), 12.618491968739413),\n",
       " (('maple', 'grove'), 12.599755406157826),\n",
       " (('hair', 'cut'), 12.06852488937446),\n",
       " (('south', 'end'), 11.968989215823546),\n",
       " (('colonel', 'campbell'), 11.440953783187224),\n",
       " (('protest', 'against'), 11.352317855375052),\n",
       " (('robert', 'martin'), 11.098757090793873),\n",
       " (('vast', 'deal'), 10.767355354653896),\n",
       " (('five', 'couple'), 10.702202675128644),\n",
       " (('ready', 'wit'), 10.635088479270106),\n",
       " (('musical', 'society'), 10.483562388653304),\n",
       " (('infinitely', 'superior'), 10.185881840012618),\n",
       " (('donwell', 'abbey'), 10.15497056348493)]"
      ]
     },
     "execution_count": 37,
     "metadata": {},
     "output_type": "execute_result"
    }
   ],
   "source": [
    "# to get good results, should first apply frequency filter\n",
    "finder3.apply_freq_filter(5)\n",
    "scored4 = finder3.score_ngrams(bigram_measures.pmi)\n",
    "scored4[:20]"
   ]
  },
  {
   "cell_type": "code",
   "execution_count": null,
   "metadata": {
    "id": "JbiiWjqqdnsh"
   },
   "outputs": [],
   "source": []
  }
 ],
 "metadata": {
  "colab": {
   "provenance": []
  },
  "kernelspec": {
   "display_name": "Python 3 (ipykernel)",
   "language": "python",
   "name": "python3"
  },
  "language_info": {
   "codemirror_mode": {
    "name": "ipython",
    "version": 3
   },
   "file_extension": ".py",
   "mimetype": "text/x-python",
   "name": "python",
   "nbconvert_exporter": "python",
   "pygments_lexer": "ipython3",
   "version": "3.10.6"
  }
 },
 "nbformat": 4,
 "nbformat_minor": 1
}
