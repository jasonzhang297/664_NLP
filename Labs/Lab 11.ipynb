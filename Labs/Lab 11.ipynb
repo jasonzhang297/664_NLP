{
 "cells": [
  {
   "cell_type": "markdown",
   "metadata": {
    "id": "t09eeeR5prIJ"
   },
   "source": [
    "**Lab - RNNs for Text Generation**\n",
    "\n",
    "This lab was modified from an example originally written by \"The TensorFlow Authors\" in 2019 and distributed under Apache License 2.0. This lab creates a model that can generate text using a character-based RNN. A character-based RNN learns sequences of characters from a corpus of text. Once the model is trained, one can present an input character sequence and the model will generate the character that it predicts would be most likely to appear next. By repeatedly calling the model for new predictions with the previously built sequence, one can create a string of text that \"looks like\" sentences from the original training text. Note that depending upon the amount of training material and the details of the training procedure, this generated text may look more or less like gibberish.\n",
    "\n",
    "Also note that, depending on the specific types of layers you are training, you might want to try enabling GPU acceleration to execute this notebook faster. In Colab: *Runtime > Change runtime type > Hardware accelerator > GPU*. Do this before you start to run any code, because it generally restarts the runtime and your local variables will be lost."
   ]
  },
  {
   "cell_type": "markdown",
   "metadata": {
    "id": "srXC6pLGLwS6"
   },
   "source": [
    "## Setup"
   ]
  },
  {
   "cell_type": "markdown",
   "metadata": {
    "id": "WGyKZj3bzf9p"
   },
   "source": [
    "### Import TensorFlow and other libraries"
   ]
  },
  {
   "cell_type": "code",
   "execution_count": 1,
   "metadata": {},
   "outputs": [
    {
     "name": "stdout",
     "output_type": "stream",
     "text": [
      "\u001b[31mERROR: Could not find a version that satisfies the requirement tensorflow (from versions: none)\u001b[0m\u001b[31m\n",
      "\u001b[0m\u001b[31mERROR: No matching distribution found for tensorflow\u001b[0m\u001b[31m\n",
      "\u001b[0mNote: you may need to restart the kernel to use updated packages.\n"
     ]
    }
   ],
   "source": [
    "pip install tensorflow"
   ]
  },
  {
   "cell_type": "code",
   "execution_count": 1,
   "metadata": {
    "execution": {
     "iopub.execute_input": "2021-08-11T18:24:50.972847Z",
     "iopub.status.busy": "2021-08-11T18:24:50.972275Z",
     "iopub.status.idle": "2021-08-11T18:24:52.595725Z",
     "shell.execute_reply": "2021-08-11T18:24:52.596142Z"
    },
    "id": "yG_n40gFzf9s"
   },
   "outputs": [
    {
     "ename": "ModuleNotFoundError",
     "evalue": "No module named 'tensorflow'",
     "output_type": "error",
     "traceback": [
      "\u001b[0;31m---------------------------------------------------------------------------\u001b[0m",
      "\u001b[0;31mModuleNotFoundError\u001b[0m                       Traceback (most recent call last)",
      "Input \u001b[0;32mIn [1]\u001b[0m, in \u001b[0;36m<cell line: 1>\u001b[0;34m()\u001b[0m\n\u001b[0;32m----> 1\u001b[0m \u001b[38;5;28;01mimport\u001b[39;00m \u001b[38;5;21;01mtensorflow\u001b[39;00m \u001b[38;5;28;01mas\u001b[39;00m \u001b[38;5;21;01mtf\u001b[39;00m\n\u001b[1;32m      2\u001b[0m \u001b[38;5;28;01mfrom\u001b[39;00m \u001b[38;5;21;01mtensorflow\u001b[39;00m\u001b[38;5;21;01m.\u001b[39;00m\u001b[38;5;21;01mkeras\u001b[39;00m\u001b[38;5;21;01m.\u001b[39;00m\u001b[38;5;21;01mlayers\u001b[39;00m\u001b[38;5;21;01m.\u001b[39;00m\u001b[38;5;21;01mexperimental\u001b[39;00m \u001b[38;5;28;01mimport\u001b[39;00m preprocessing\n\u001b[1;32m      4\u001b[0m \u001b[38;5;28;01mimport\u001b[39;00m \u001b[38;5;21;01mnumpy\u001b[39;00m \u001b[38;5;28;01mas\u001b[39;00m \u001b[38;5;21;01mnp\u001b[39;00m\n",
      "\u001b[0;31mModuleNotFoundError\u001b[0m: No module named 'tensorflow'"
     ]
    }
   ],
   "source": [
    "import tensorflow as tf\n",
    "from tensorflow.keras.layers.experimental import preprocessing\n",
    "\n",
    "import numpy as np\n",
    "import os # To access local files; for saving checkpoints\n",
    "import time\n",
    "\n",
    "from urllib import request # We will need this to read from an URL"
   ]
  },
  {
   "cell_type": "code",
   "execution_count": 2,
   "metadata": {
    "colab": {
     "base_uri": "https://localhost:8080/"
    },
    "id": "auQWy3dpCB8S",
    "outputId": "73b7fa77-a430-45e4-ca11-3d82bf079c35"
   },
   "outputs": [
    {
     "data": {
      "text/plain": [
       "True"
      ]
     },
     "execution_count": 2,
     "metadata": {},
     "output_type": "execute_result"
    }
   ],
   "source": [
    "# TensorFlow 2.0 offers \"Eager Execution,\" a more practical model for \n",
    "# running tf code. Are we using it here?\n",
    "tf.executing_eagerly()"
   ]
  },
  {
   "cell_type": "markdown",
   "metadata": {
    "id": "EHDoRoc5PKWz"
   },
   "source": [
    "### Download the Text Data\n",
    "\n",
    "Load a plain text book from Project Gutenberg:"
   ]
  },
  {
   "cell_type": "code",
   "execution_count": 3,
   "metadata": {
    "colab": {
     "base_uri": "https://localhost:8080/"
    },
    "id": "_Xp9CQJwqnd2",
    "outputId": "381c93c1-4d83-4ef6-f375-24934490f3b1"
   },
   "outputs": [
    {
     "data": {
      "text/plain": [
       "(str, 411576)"
      ]
     },
     "execution_count": 3,
     "metadata": {},
     "output_type": "execute_result"
    }
   ],
   "source": [
    "# Some collected plays by Anton Chekhov\n",
    "url = \"https://www.gutenberg.org/files/7986/7986-0.txt\"\n",
    "response = request.urlopen(url)\n",
    "text = response.read().decode('utf8')\n",
    "type(text), len(text)"
   ]
  },
  {
   "cell_type": "code",
   "execution_count": 4,
   "metadata": {
    "id": "g53PCZD3v__O"
   },
   "outputs": [],
   "source": [
    "# Additional URLs of plain text Chekhov plays for later use\n",
    "uncle_vanya = \"https://www.gutenberg.org/cache/epub/1756/pg1756.txt\"\n",
    "the_seagull = \"https://www.gutenberg.org/files/1754/1754-0.txt\""
   ]
  },
  {
   "cell_type": "markdown",
   "metadata": {
    "id": "UHjdCjDuSvX_"
   },
   "source": [
    "### Read the data\n",
    "\n",
    "First, look in the text to see what we have. Note that this is a character-based model, so we are interested to know what different characters are used throughout the whole text. Note that this should make the process largely language independent: Any language where words are formed through sequences of characters should work in training this kind of model."
   ]
  },
  {
   "cell_type": "code",
   "execution_count": 5,
   "metadata": {
    "colab": {
     "base_uri": "https://localhost:8080/"
    },
    "execution": {
     "iopub.execute_input": "2021-08-11T18:24:52.658460Z",
     "iopub.status.busy": "2021-08-11T18:24:52.657812Z",
     "iopub.status.idle": "2021-08-11T18:24:52.660268Z",
     "shell.execute_reply": "2021-08-11T18:24:52.660598Z"
    },
    "id": "IlCgQBRVymwR",
    "outputId": "602951dc-e08e-44a3-9c0a-15cfb21900ba"
   },
   "outputs": [
    {
     "name": "stdout",
     "output_type": "stream",
     "text": [
      "94 unique characters\n"
     ]
    }
   ],
   "source": [
    "# The unique text characters in the file\n",
    "vocab = sorted(set(text))\n",
    "print(f'{len(vocab)} unique characters')"
   ]
  },
  {
   "cell_type": "markdown",
   "metadata": {
    "id": "rNnrKn_lL-IJ"
   },
   "source": [
    "## Process the text"
   ]
  },
  {
   "cell_type": "markdown",
   "metadata": {
    "id": "LFjSVAlWzf-N"
   },
   "source": [
    "### Vectorize the text\n",
    "\n",
    "Before training, we will convert the strings to a numerical representation. The approach in this notebook uses a so-called \"ragged tensor.\" Here's an excerpt from the TensorFlow documentation:\n",
    "\n",
    "\"Ragged tensors are the TensorFlow equivalent of nested variable-length lists. They make it easy to store and process data with non-uniform shapes, including: Variable-length features, such as the set of actors in a movie; Batches of variable-length sequential inputs, such as sentences or video clips; Hierarchical inputs, such as text documents that are subdivided into sections, paragraphs, sentences, and words.\"\n",
    "\n",
    "In the cells below, the notebook uses `preprocessing.StringLookup` from TensorFlow. This function can convert each character into a numeric ID. The input to this is a set of \"byte code\" ID numbers.\n",
    "\n",
    "Try the character encoding with a small example first:"
   ]
  },
  {
   "cell_type": "code",
   "execution_count": 6,
   "metadata": {
    "colab": {
     "base_uri": "https://localhost:8080/"
    },
    "execution": {
     "iopub.execute_input": "2021-08-11T18:24:54.194902Z",
     "iopub.status.busy": "2021-08-11T18:24:54.194072Z",
     "iopub.status.idle": "2021-08-11T18:24:54.208515Z",
     "shell.execute_reply": "2021-08-11T18:24:54.208926Z"
    },
    "id": "a86OoYtO01go",
    "outputId": "016a4231-f8da-4df9-9853-dcca0c2fba10"
   },
   "outputs": [
    {
     "data": {
      "text/plain": [
       "<tf.RaggedTensor [[b'a', b'b', b'c', b'd', b'e', b'f', b'g'], [b'x', b'y', b'z']]>"
      ]
     },
     "execution_count": 6,
     "metadata": {},
     "output_type": "execute_result"
    }
   ],
   "source": [
    "example_texts = ['abcdefg', 'xyz']\n",
    "\n",
    "chars = tf.strings.unicode_split(example_texts, input_encoding='UTF-8')\n",
    "chars"
   ]
  },
  {
   "cell_type": "code",
   "execution_count": 7,
   "metadata": {
    "colab": {
     "base_uri": "https://localhost:8080/"
    },
    "id": "aBTMDuH8H2Mx",
    "outputId": "24af47cb-634e-43f2-e605-7abe593438e7"
   },
   "outputs": [
    {
     "name": "stdout",
     "output_type": "stream",
     "text": [
      "<tf.RaggedTensor [[b'a', b'b', b'c', b'd', b'e', b'f', b'g'], [b'x', b'y', b'z']]>\n"
     ]
    }
   ],
   "source": [
    "print(chars) # In TF 2.0, the print() function can also show tensors"
   ]
  },
  {
   "cell_type": "markdown",
   "metadata": {
    "id": "o6XQ95pQN4EB"
   },
   "source": [
    "We have now created a ragged tensor. Now or later, you might want to read some of the TensorFlow documentation describing what a tensor actually is and what it means to be ragged. There's a nice tutorial with code here: https://www.tensorflow.org/guide/tensor\n",
    "\n",
    "Note that each element in the structure above begins with b. That means that the function has returned a \"byte-coded\" version of the string. This is an alternative representation to plain text. Also, the idea of \"ragged\" is demonstrated by this example. The first nested list has seven items, whereas the second list has three. Ragged means that different numbers of elements are permissible within each element of a list. The term ragged comes from publishing, where a common way of justifying text in a book is called \"ragged right\" (meaning that different lines are different lengths).\n",
    "\n",
    "Next, create a preprocessing.StringLookup layer. Note this initial diagnostic test to show what preprocessing.StringLookup actually is. It is an object reflecting a relatively new feature of Python called an \"abstract base class.\""
   ]
  },
  {
   "cell_type": "code",
   "execution_count": 10,
   "metadata": {
    "colab": {
     "base_uri": "https://localhost:8080/"
    },
    "execution": {
     "iopub.execute_input": "2021-08-11T18:24:54.216550Z",
     "iopub.status.busy": "2021-08-11T18:24:54.215976Z",
     "iopub.status.idle": "2021-08-11T18:24:54.222826Z",
     "shell.execute_reply": "2021-08-11T18:24:54.223217Z"
    },
    "id": "6GMlCe3qzaL9",
    "outputId": "826a7c49-0004-4d8d-ca70-89950ca38776"
   },
   "outputs": [
    {
     "data": {
      "text/plain": [
       "(keras.layers.preprocessing.string_lookup.StringLookup, True)"
      ]
     },
     "execution_count": 10,
     "metadata": {},
     "output_type": "execute_result"
    }
   ],
   "source": [
    "# Note that we are passing in the vocab from parsing the whole book in an \n",
    "# earlier cell. Examine the first argument closely:\n",
    "ids_from_chars = preprocessing.StringLookup(vocabulary=list(vocab), mask_token=None)\n",
    "\n",
    "# Shows the resulting class type and that we now have an instance\n",
    "type(ids_from_chars), isinstance(ids_from_chars, preprocessing.StringLookup)"
   ]
  },
  {
   "cell_type": "markdown",
   "metadata": {
    "id": "ZmX_jbgQqfOi"
   },
   "source": [
    "Our instances of the preprocessing.StringLookup ABC can convert from byte coded character tokens to numeric character IDs:"
   ]
  },
  {
   "cell_type": "code",
   "execution_count": 11,
   "metadata": {
    "colab": {
     "base_uri": "https://localhost:8080/"
    },
    "execution": {
     "iopub.execute_input": "2021-08-11T18:24:54.227577Z",
     "iopub.status.busy": "2021-08-11T18:24:54.226961Z",
     "iopub.status.idle": "2021-08-11T18:24:54.231289Z",
     "shell.execute_reply": "2021-08-11T18:24:54.230753Z"
    },
    "id": "WLv5Q_2TC2pc",
    "outputId": "2a85b7e5-a0bf-4393-9dda-31d1cd90a556"
   },
   "outputs": [
    {
     "data": {
      "text/plain": [
       "<tf.RaggedTensor [[59, 60, 61, 62, 63, 64, 65], [82, 83, 84]]>"
      ]
     },
     "execution_count": 11,
     "metadata": {},
     "output_type": "execute_result"
    }
   ],
   "source": [
    "ids = ids_from_chars(chars)\n",
    "ids"
   ]
  },
  {
   "cell_type": "markdown",
   "metadata": {
    "id": "tZfqhkYCymwX"
   },
   "source": [
    "In the previous exercise you retrieved the character representations through direct indexing into the vocabulary list, but you can also use `preprocessing.StringLookup(..., invert=True)`. Note: Make sure to use the get_vocabulary() method of the preprocessing.StringLookup layer so that the [UNK] tokens (if any) are appropriately labeled."
   ]
  },
  {
   "cell_type": "code",
   "execution_count": 14,
   "metadata": {
    "colab": {
     "base_uri": "https://localhost:8080/"
    },
    "execution": {
     "iopub.execute_input": "2021-08-11T18:24:54.235659Z",
     "iopub.status.busy": "2021-08-11T18:24:54.235049Z",
     "iopub.status.idle": "2021-08-11T18:24:54.240952Z",
     "shell.execute_reply": "2021-08-11T18:24:54.241336Z"
    },
    "id": "Wd2m3mqkDjRj",
    "outputId": "f45d175f-3f50-4fe7-f970-b5a836522d90"
   },
   "outputs": [
    {
     "data": {
      "text/plain": [
       "<tf.RaggedTensor [[b'a', b'b', b'c', b'd', b'e', b'f', b'g'], [b'x', b'y', b'z']]>"
      ]
     },
     "execution_count": 14,
     "metadata": {},
     "output_type": "execute_result"
    }
   ],
   "source": [
    "# This creates an instance of the \"inverter\"\n",
    "chars_from_ids = tf.keras.layers.experimental.preprocessing.StringLookup(\n",
    "    vocabulary=ids_from_chars.get_vocabulary(), invert=True, mask_token=None)\n",
    "\n",
    "chars = chars_from_ids(ids) # Now use the inverter to process our tiny example\n",
    "chars"
   ]
  },
  {
   "cell_type": "markdown",
   "metadata": {
    "id": "pqTDDxS-s-H8"
   },
   "source": [
    "Note that we have gotten back the byte codes of the characters from the vectors of IDs, and we are seeing them as a `tf.RaggedTensor` of characters. We can now use another utility, tf.strings.reduce_join, to join the characters back into strings. This is demonstrated here because it will be helpful later when we want to generate new text."
   ]
  },
  {
   "cell_type": "code",
   "execution_count": 13,
   "metadata": {
    "colab": {
     "base_uri": "https://localhost:8080/"
    },
    "execution": {
     "iopub.execute_input": "2021-08-11T18:24:54.252648Z",
     "iopub.status.busy": "2021-08-11T18:24:54.252070Z",
     "iopub.status.idle": "2021-08-11T18:24:54.263588Z",
     "shell.execute_reply": "2021-08-11T18:24:54.263101Z"
    },
    "id": "zxYI-PeltqKP",
    "outputId": "3b4f18f0-1e4a-4d04-f854-8e71b893b1b3"
   },
   "outputs": [
    {
     "data": {
      "text/plain": [
       "array([b'abcdefg', b'xyz'], dtype=object)"
      ]
     },
     "execution_count": 13,
     "metadata": {},
     "output_type": "execute_result"
    }
   ],
   "source": [
    "tf.strings.reduce_join(chars, axis=-1).numpy()"
   ]
  },
  {
   "cell_type": "code",
   "execution_count": 15,
   "metadata": {
    "execution": {
     "iopub.execute_input": "2021-08-11T18:24:54.267710Z",
     "iopub.status.busy": "2021-08-11T18:24:54.267101Z",
     "iopub.status.idle": "2021-08-11T18:24:54.268757Z",
     "shell.execute_reply": "2021-08-11T18:24:54.269127Z"
    },
    "id": "w5apvBDn9Ind"
   },
   "outputs": [],
   "source": [
    "# Let's turn that utility into a function that we can call.\n",
    "def text_from_ids(ids):\n",
    "  return tf.strings.reduce_join(chars_from_ids(ids), axis=-1)"
   ]
  },
  {
   "cell_type": "markdown",
   "metadata": {
    "id": "bbmsf23Bymwe"
   },
   "source": [
    "### The prediction task"
   ]
  },
  {
   "cell_type": "markdown",
   "metadata": {
    "id": "wssHQ1oGymwe"
   },
   "source": [
    "Given a character, or a sequence of characters, what is the most probable next character? This is the task that our RNN model will perform. The input to the model will be sequences of characters from the book we read in at the top of the notebook.\n"
   ]
  },
  {
   "cell_type": "markdown",
   "metadata": {
    "id": "hgsVvVxnymwf"
   },
   "source": [
    "### Create training examples and targets\n",
    "\n",
    "Next, we will divide the text into example sequences. Each input sequence will contain `seq_length` characters from the text. For each input sequence, the corresponding targets contain the same length of text, except shifted one character to the right.\n",
    "\n",
    "So break the text into chunks of `seq_length+1`. For example, say `seq_length` is 4 and our text is \"Hello\". The input sequence would be \"Hell\", and the target sequence \"ello\". This ensures that we have tons of training examples and that each training example captures context both around the input string and the output string.\n",
    "\n",
    "To do this first use the `tf.data.Dataset.from_tensor_slices` function to convert the text vector into a stream of character indices."
   ]
  },
  {
   "cell_type": "code",
   "execution_count": 16,
   "metadata": {
    "colab": {
     "base_uri": "https://localhost:8080/"
    },
    "execution": {
     "iopub.execute_input": "2021-08-11T18:24:54.275470Z",
     "iopub.status.busy": "2021-08-11T18:24:54.274838Z",
     "iopub.status.idle": "2021-08-11T18:24:54.760641Z",
     "shell.execute_reply": "2021-08-11T18:24:54.761013Z"
    },
    "id": "UopbsKi88tm5",
    "outputId": "2458b951-e2c9-4fa2-ef5d-cbcc899b523e"
   },
   "outputs": [
    {
     "data": {
      "text/plain": [
       "tensorflow.python.framework.ops.EagerTensor"
      ]
     },
     "execution_count": 16,
     "metadata": {},
     "output_type": "execute_result"
    }
   ],
   "source": [
    "all_ids = ids_from_chars(tf.strings.unicode_split(text, 'UTF-8'))\n",
    "type(all_ids)"
   ]
  },
  {
   "cell_type": "code",
   "execution_count": 17,
   "metadata": {
    "colab": {
     "base_uri": "https://localhost:8080/"
    },
    "execution": {
     "iopub.execute_input": "2021-08-11T18:24:54.766177Z",
     "iopub.status.busy": "2021-08-11T18:24:54.765609Z",
     "iopub.status.idle": "2021-08-11T18:24:54.767493Z",
     "shell.execute_reply": "2021-08-11T18:24:54.767862Z"
    },
    "id": "qmxrYDCTy-eL",
    "outputId": "b63f2fb5-7dc3-4428-88b9-9365b8b8a2b7"
   },
   "outputs": [
    {
     "data": {
      "text/plain": [
       "tensorflow.python.data.ops.dataset_ops.TensorSliceDataset"
      ]
     },
     "execution_count": 17,
     "metadata": {},
     "output_type": "execute_result"
    }
   ],
   "source": [
    "# This creates a dataset whose elements are slices from the original tensor\n",
    "ids_dataset = tf.data.Dataset.from_tensor_slices(all_ids)\n",
    "type(ids_dataset)"
   ]
  },
  {
   "cell_type": "code",
   "execution_count": 18,
   "metadata": {
    "colab": {
     "base_uri": "https://localhost:8080/"
    },
    "id": "_loXBnKp-YKC",
    "outputId": "bfb73a74-330c-4443-c02d-bbcf813445e2"
   },
   "outputs": [
    {
     "name": "stdout",
     "output_type": "stream",
     "text": [
      "94\n",
      "45\n",
      "76\n",
      "73\n",
      "68\n",
      "63\n",
      "61\n",
      "78\n",
      "3\n",
      "36\n",
      "79\n",
      "72\n",
      "60\n",
      "65\n",
      "91\n",
      "77\n",
      "70\n",
      "59\n",
      "83\n",
      "32\n",
      "66\n",
      "69\n",
      "80\n",
      "11\n",
      "48\n",
      "62\n",
      "67\n",
      "30\n",
      "2\n",
      "1\n",
      "49\n",
      "31\n",
      "64\n",
      "81\n",
      "71\n",
      "13\n",
      "54\n",
      "74\n",
      "12\n",
      "41\n",
      "25\n",
      "44\n",
      "37\n",
      "47\n",
      "52\n",
      "38\n",
      "33\n",
      "17\n",
      "15\n",
      "20\n",
      "56\n",
      "34\n",
      "5\n",
      "22\n",
      "24\n",
      "23\n",
      "21\n",
      "57\n",
      "50\n",
      "16\n",
      "35\n",
      "10\n",
      "39\n",
      "43\n",
      "40\n",
      "51\n",
      "82\n",
      "18\n",
      "42\n",
      "92\n",
      "93\n",
      "8\n",
      "9\n",
      "75\n",
      "19\n",
      "26\n",
      "84\n",
      "28\n",
      "46\n",
      "27\n",
      "14\n",
      "55\n",
      "4\n",
      "88\n",
      "85\n",
      "53\n",
      "58\n",
      "87\n",
      "90\n",
      "86\n",
      "89\n",
      "7\n",
      "29\n",
      "6\n"
     ]
    }
   ],
   "source": [
    "#\n",
    "#  Run this code and look at the output that it \n",
    "# generates. Check out what each line of the code to say what it is doing.\n",
    "\n",
    "temp = ids_dataset.unique()\n",
    "for element in temp:\n",
    "  print(element.numpy())\n",
    "\n",
    "#\n",
    "#"
   ]
  },
  {
   "cell_type": "code",
   "execution_count": 19,
   "metadata": {
    "colab": {
     "base_uri": "https://localhost:8080/"
    },
    "execution": {
     "iopub.execute_input": "2021-08-11T18:24:54.772220Z",
     "iopub.status.busy": "2021-08-11T18:24:54.771623Z",
     "iopub.status.idle": "2021-08-11T18:24:54.789291Z",
     "shell.execute_reply": "2021-08-11T18:24:54.789695Z"
    },
    "id": "cjH5v45-yqqH",
    "outputId": "bc4fdc2f-3f94-4258-b62b-d3df1b646323"
   },
   "outputs": [
    {
     "name": "stdout",
     "output_type": "stream",
     "text": [
      "﻿\n",
      "P\n",
      "r\n",
      "o\n",
      "j\n",
      "e\n",
      "c\n",
      "t\n",
      " \n",
      "G\n",
      "u\n",
      "t\n",
      "e\n",
      "n\n",
      "b\n",
      "e\n",
      "r\n",
      "g\n"
     ]
    }
   ],
   "source": [
    "# The take() bound method is helpful for examining data in a tensor. It is \n",
    "# modeled after the take() methods from numpy.\n",
    "for ids in ids_dataset.take(18):\n",
    "    print(chars_from_ids(ids).numpy().decode('utf-8'))"
   ]
  },
  {
   "cell_type": "code",
   "execution_count": 20,
   "metadata": {
    "colab": {
     "base_uri": "https://localhost:8080/"
    },
    "id": "SMCUbYM_4d3-",
    "outputId": "e6f249f8-38e5-463f-dcb7-856d4cd5c0e2"
   },
   "outputs": [
    {
     "name": "stdout",
     "output_type": "stream",
     "text": [
      "’\n",
      "s\n",
      " \n",
      "P\n",
      "l\n",
      "a\n",
      "y\n",
      "s\n",
      " \n",
      "b\n"
     ]
    }
   ],
   "source": [
    "#\n",
    "# Add the skip() bound method to the expression in the for loop\n",
    "# in the cell just above. To demonstrate how it works, skip 18 elements and then\n",
    "# take the next 10 elements. The invocation of skip() in the expression should\n",
    "# precede the invocation of take().\n",
    "#\n",
    "for ids in ids_dataset.skip(18).take(10):\n",
    "    print(chars_from_ids(ids).numpy().decode('utf-8'))"
   ]
  },
  {
   "cell_type": "code",
   "execution_count": 21,
   "metadata": {
    "colab": {
     "base_uri": "https://localhost:8080/"
    },
    "execution": {
     "iopub.execute_input": "2021-08-11T18:24:54.793684Z",
     "iopub.status.busy": "2021-08-11T18:24:54.793095Z",
     "iopub.status.idle": "2021-08-11T18:24:54.795288Z",
     "shell.execute_reply": "2021-08-11T18:24:54.795652Z"
    },
    "id": "C-G2oaTxy6km",
    "outputId": "41876c15-b22a-4bf6-a952-b547c8e4b532"
   },
   "outputs": [
    {
     "name": "stdout",
     "output_type": "stream",
     "text": [
      "5081\n"
     ]
    }
   ],
   "source": [
    "# While an RNN can theoretically handle a continuous stream of data\n",
    "# here we are considering the data in small groupings whose length\n",
    "# is controlled by seq_length. Leave it at its current value for now, but \n",
    "# in the future you might consider making it either shorter or longer in the\n",
    "# training run.\n",
    "seq_length = 80 # About one line of standard text\n",
    "examples_per_epoch = len(text)//(seq_length+1)\n",
    "print(examples_per_epoch)"
   ]
  },
  {
   "cell_type": "code",
   "execution_count": 22,
   "metadata": {
    "colab": {
     "base_uri": "https://localhost:8080/"
    },
    "execution": {
     "iopub.execute_input": "2021-08-11T18:24:54.801632Z",
     "iopub.status.busy": "2021-08-11T18:24:54.801025Z",
     "iopub.status.idle": "2021-08-11T18:24:54.809747Z",
     "shell.execute_reply": "2021-08-11T18:24:54.810106Z"
    },
    "id": "BpdjRO2CzOfZ",
    "outputId": "607ce12e-c68d-4440-de7c-d98c18b83237"
   },
   "outputs": [
    {
     "name": "stdout",
     "output_type": "stream",
     "text": [
      "tf.Tensor(\n",
      "[b'\\xef\\xbb\\xbf' b'P' b'r' b'o' b'j' b'e' b'c' b't' b' ' b'G' b'u' b't'\n",
      " b'e' b'n' b'b' b'e' b'r' b'g' b'\\xe2\\x80\\x99' b's' b' ' b'P' b'l' b'a'\n",
      " b'y' b's' b' ' b'b' b'y' b' ' b'C' b'h' b'e' b'k' b'h' b'o' b'v' b','\n",
      " b' ' b'S' b'e' b'c' b'o' b'n' b'd' b' ' b'S' b'e' b'r' b'i' b'e' b's'\n",
      " b',' b' ' b'b' b'y' b' ' b'A' b'n' b't' b'o' b'n' b' ' b'C' b'h' b'e'\n",
      " b'k' b'h' b'o' b'v' b'\\r' b'\\n' b'\\r' b'\\n' b'T' b'h' b'i' b's' b' ' b'e'\n",
      " b'B'], shape=(81,), dtype=string)\n",
      "tf.Tensor(\n",
      "[b'o' b'o' b'k' b' ' b'i' b's' b' ' b'f' b'o' b'r' b' ' b't' b'h' b'e'\n",
      " b' ' b'u' b's' b'e' b' ' b'o' b'f' b' ' b'a' b'n' b'y' b'o' b'n' b'e'\n",
      " b' ' b'a' b'n' b'y' b'w' b'h' b'e' b'r' b'e' b' ' b'a' b't' b' ' b'n'\n",
      " b'o' b' ' b'c' b'o' b's' b't' b' ' b'a' b'n' b'd' b' ' b'w' b'i' b't'\n",
      " b'h' b'\\r' b'\\n' b'a' b'l' b'm' b'o' b's' b't' b' ' b'n' b'o' b' ' b'r'\n",
      " b'e' b's' b't' b'r' b'i' b'c' b't' b'i' b'o' b'n' b's'], shape=(81,), dtype=string)\n",
      "tf.Tensor(\n",
      "[b' ' b'w' b'h' b'a' b't' b's' b'o' b'e' b'v' b'e' b'r' b'.' b' ' b' '\n",
      " b'Y' b'o' b'u' b' ' b'm' b'a' b'y' b' ' b'c' b'o' b'p' b'y' b' ' b'i'\n",
      " b't' b',' b' ' b'g' b'i' b'v' b'e' b' ' b'i' b't' b' ' b'a' b'w' b'a'\n",
      " b'y' b' ' b'o' b'r' b'\\r' b'\\n' b'r' b'e' b'-' b'u' b's' b'e' b' ' b'i'\n",
      " b't' b' ' b'u' b'n' b'd' b'e' b'r' b' ' b't' b'h' b'e' b' ' b't' b'e'\n",
      " b'r' b'm' b's' b' ' b'o' b'f' b' ' b't' b'h' b'e' b' '], shape=(81,), dtype=string)\n"
     ]
    }
   ],
   "source": [
    "#\n",
    "#  Explain why seq_length+1 is used in the next line of code\n",
    "#\n",
    "sequences = ids_dataset.batch(seq_length+1, drop_remainder=True)\n",
    "\n",
    "for seq in sequences.take(3):\n",
    "  print(chars_from_ids(seq))"
   ]
  },
  {
   "cell_type": "markdown",
   "metadata": {
    "id": "5PHW902-4oZt"
   },
   "source": [
    "It's easier to see what this is doing if you join the tokens back into strings:"
   ]
  },
  {
   "cell_type": "code",
   "execution_count": 23,
   "metadata": {
    "colab": {
     "base_uri": "https://localhost:8080/"
    },
    "execution": {
     "iopub.execute_input": "2021-08-11T18:24:54.814385Z",
     "iopub.status.busy": "2021-08-11T18:24:54.813718Z",
     "iopub.status.idle": "2021-08-11T18:24:54.824355Z",
     "shell.execute_reply": "2021-08-11T18:24:54.824698Z"
    },
    "id": "QO32cMWu4a06",
    "outputId": "e811073e-55dc-4982-f757-e13d53efb382"
   },
   "outputs": [
    {
     "name": "stdout",
     "output_type": "stream",
     "text": [
      "b'\\xef\\xbb\\xbfProject Gutenberg\\xe2\\x80\\x99s Plays by Chekhov, Second Series, by Anton Chekhov\\r\\n\\r\\nThis eB'\n",
      "b'ook is for the use of anyone anywhere at no cost and with\\r\\nalmost no restrictions'\n"
     ]
    }
   ],
   "source": [
    "for seq in sequences.take(2):\n",
    "  print(text_from_ids(seq).numpy())"
   ]
  },
  {
   "cell_type": "markdown",
   "metadata": {
    "id": "UbLcIPBj_mWZ"
   },
   "source": [
    "For training you'll need a dataset of `(input, label)` pairs. Where `input` and \n",
    "`label` are sequences. At each time step the input is the current character and the label is the next character. Here's a function that takes a sequence as input, duplicates it, and shifts it to align the input and label for each timestep:"
   ]
  },
  {
   "cell_type": "code",
   "execution_count": 24,
   "metadata": {
    "execution": {
     "iopub.execute_input": "2021-08-11T18:24:54.829238Z",
     "iopub.status.busy": "2021-08-11T18:24:54.828497Z",
     "iopub.status.idle": "2021-08-11T18:24:54.830467Z",
     "shell.execute_reply": "2021-08-11T18:24:54.830891Z"
    },
    "id": "9NGu-FkO_kYU"
   },
   "outputs": [],
   "source": [
    "def split_input_target(sequence):\n",
    "    input_text = sequence[:-1]\n",
    "    target_text = sequence[1:]\n",
    "    return input_text, target_text"
   ]
  },
  {
   "cell_type": "code",
   "execution_count": 25,
   "metadata": {
    "colab": {
     "base_uri": "https://localhost:8080/"
    },
    "execution": {
     "iopub.execute_input": "2021-08-11T18:24:54.835585Z",
     "iopub.status.busy": "2021-08-11T18:24:54.834851Z",
     "iopub.status.idle": "2021-08-11T18:24:54.838059Z",
     "shell.execute_reply": "2021-08-11T18:24:54.837600Z"
    },
    "id": "WxbDTJTw5u_P",
    "outputId": "58e32606-4ea2-4db2-8c7d-dac0d1b87458"
   },
   "outputs": [
    {
     "data": {
      "text/plain": [
       "(['T', 'e', 'n', 's', 'o', 'r', 'f', 'l', 'o'],\n",
       " ['e', 'n', 's', 'o', 'r', 'f', 'l', 'o', 'w'])"
      ]
     },
     "execution_count": 25,
     "metadata": {},
     "output_type": "execute_result"
    }
   ],
   "source": [
    "# Let's test the function - We can do the test using\n",
    "# a regular character string converted to a list.\n",
    "split_input_target(list(\"Tensorflow\"))"
   ]
  },
  {
   "cell_type": "code",
   "execution_count": 26,
   "metadata": {
    "execution": {
     "iopub.execute_input": "2021-08-11T18:24:54.864027Z",
     "iopub.status.busy": "2021-08-11T18:24:54.841876Z",
     "iopub.status.idle": "2021-08-11T18:24:54.884561Z",
     "shell.execute_reply": "2021-08-11T18:24:54.884061Z"
    },
    "id": "B9iKPXkw5xwa"
   },
   "outputs": [],
   "source": [
    "# This is a curious construction - i.e., passing a function into the\n",
    "# sequences.map() bound method:\n",
    "dataset = sequences.map(split_input_target)\n",
    "#\n",
    "#"
   ]
  },
  {
   "cell_type": "code",
   "execution_count": 27,
   "metadata": {
    "colab": {
     "base_uri": "https://localhost:8080/"
    },
    "execution": {
     "iopub.execute_input": "2021-08-11T18:24:54.889080Z",
     "iopub.status.busy": "2021-08-11T18:24:54.888454Z",
     "iopub.status.idle": "2021-08-11T18:24:54.907170Z",
     "shell.execute_reply": "2021-08-11T18:24:54.907541Z"
    },
    "id": "GNbw-iR0ymwj",
    "outputId": "aacd0164-85b6-48a1-c7eb-02c5d31b9662"
   },
   "outputs": [
    {
     "name": "stdout",
     "output_type": "stream",
     "text": [
      "Input : b'\\xef\\xbb\\xbfProject Gutenberg\\xe2\\x80\\x99s Plays by Chekhov, Second Series, by Anton Chekhov\\r\\n\\r\\nThis e'\n",
      "Target: b'Project Gutenberg\\xe2\\x80\\x99s Plays by Chekhov, Second Series, by Anton Chekhov\\r\\n\\r\\nThis eB'\n"
     ]
    }
   ],
   "source": [
    "for input_example, target_example in dataset.take(1):\n",
    "    print(\"Input :\", text_from_ids(input_example).numpy())\n",
    "    print(\"Target:\", text_from_ids(target_example).numpy())"
   ]
  },
  {
   "cell_type": "markdown",
   "metadata": {
    "id": "MJdfPmdqzf-R"
   },
   "source": [
    "### Create training batches\n",
    "\n",
    "We have used `tf.data` to split the text into manageable sequences. Before using these data to train the model, we need to shuffle the data and pack it into batches. AKA mini-batching, is a method of processing a group of input-output pairs together. This facilitates parallelization and can prevent overfitting."
   ]
  },
  {
   "cell_type": "code",
   "execution_count": 28,
   "metadata": {
    "colab": {
     "base_uri": "https://localhost:8080/"
    },
    "execution": {
     "iopub.execute_input": "2021-08-11T18:24:54.912261Z",
     "iopub.status.busy": "2021-08-11T18:24:54.911677Z",
     "iopub.status.idle": "2021-08-11T18:24:54.916643Z",
     "shell.execute_reply": "2021-08-11T18:24:54.916978Z"
    },
    "id": "p2pGotuNzf-S",
    "outputId": "05d68b08-841d-4646-94fc-783b1409f607"
   },
   "outputs": [
    {
     "data": {
      "text/plain": [
       "<PrefetchDataset element_spec=(TensorSpec(shape=(64, 80), dtype=tf.int64, name=None), TensorSpec(shape=(64, 80), dtype=tf.int64, name=None))>"
      ]
     },
     "execution_count": 28,
     "metadata": {},
     "output_type": "execute_result"
    }
   ],
   "source": [
    "# Batch size\n",
    "BATCH_SIZE = 64\n",
    "\n",
    "# Buffer size to shuffle the dataset:\n",
    "# TF data is designed to work with possibly infinite sequences,\n",
    "# so it doesn't attempt to shuffle the entire sequence in memory. Instead,\n",
    "# it maintains a buffer in which it shuffles elements.\n",
    "BUFFER_SIZE = 10000\n",
    "\n",
    "dataset = (\n",
    "    dataset\n",
    "    .shuffle(BUFFER_SIZE)\n",
    "    .batch(BATCH_SIZE, drop_remainder=True)\n",
    "    .prefetch(tf.data.experimental.AUTOTUNE))\n",
    "\n",
    "dataset"
   ]
  },
  {
   "cell_type": "markdown",
   "metadata": {
    "id": "r6oUuElIMgVx"
   },
   "source": [
    "## Build The Model"
   ]
  },
  {
   "cell_type": "markdown",
   "metadata": {
    "id": "m8gPwEjRzf-Z"
   },
   "source": [
    "This section defines the model as a `keras.Model` subclass (For details see [Making new Layers and Models via subclassing](https://www.tensorflow.org/guide/keras/custom_layers_and_models)). \n",
    "\n",
    "This model has three layers:\n",
    "\n",
    "* `tf.keras.layers.Embedding`: The input layer. A trainable lookup table that will map each character-ID to a vector with `embedding_dim` dimensions;\n",
    "* `tf.keras.layers.SimpleRNN`: A type of RNN with size `units=rnn_units` (You could also use a GRU or LSTM layer here.)\n",
    "* `tf.keras.layers.Dense`: The output layer, with `vocab_size` outputs. It outputs one logit for each character in the vocabulary. These are the log-likelihood of each character according to the model."
   ]
  },
  {
   "cell_type": "code",
   "execution_count": 29,
   "metadata": {
    "colab": {
     "base_uri": "https://localhost:8080/"
    },
    "execution": {
     "iopub.execute_input": "2021-08-11T18:24:54.921163Z",
     "iopub.status.busy": "2021-08-11T18:24:54.920603Z",
     "iopub.status.idle": "2021-08-11T18:24:54.922081Z",
     "shell.execute_reply": "2021-08-11T18:24:54.922401Z"
    },
    "id": "zHT8cLh7EAsg",
    "outputId": "afb8ba5e-c3fa-4e51-c926-c896e4326915"
   },
   "outputs": [
    {
     "data": {
      "text/plain": [
       "(94, 256, 1024)"
      ]
     },
     "execution_count": 29,
     "metadata": {},
     "output_type": "execute_result"
    }
   ],
   "source": [
    "# Length of the vocabulary in chars\n",
    "vocab_size = len(vocab)\n",
    "\n",
    "# The embedding dimension\n",
    "embedding_dim = 256 # 256 is kind of a generic choice that should work well\n",
    "# for various-sized character vocabularies. There is a danger of overfitting \n",
    "# when the size of the embedding layer exceeds the size of the vocabulary.\n",
    "\n",
    "# Number of RNN units\n",
    "rnn_units = 1024 # This is tunable. Remember that each RNN unit has a little\n",
    "# bit of memory for what came before. Here 1024 provides four nodes for every\n",
    "# node in the embedding layer. Later, you might want to experiment with half\n",
    "# as many or twice as many.\n",
    "\n",
    "vocab_size, embedding_dim, rnn_units"
   ]
  },
  {
   "cell_type": "code",
   "execution_count": 31,
   "metadata": {
    "id": "Q--wMnxH8s4w"
   },
   "outputs": [],
   "source": [
    "# This builds a custom class for instantiating the Keras model\n",
    "#\n",
    "#\n",
    "class MyModel(tf.keras.Model):\n",
    "  def __init__(self, vocab_size, embedding_dim, rnn_units):\n",
    "    super().__init__(self)\n",
    "\n",
    "    # What's this layer?\n",
    "    self.embedding = tf.keras.layers.Embedding(vocab_size, embedding_dim)\n",
    "    \n",
    "    # What's this layer?\n",
    "    self.rnn = tf.keras.layers.SimpleRNN(rnn_units,\n",
    "                                   return_sequences=True,\n",
    "                                   return_state=True)\n",
    "    \n",
    "    # What's this layer?\n",
    "    self.dense = tf.keras.layers.Dense(vocab_size)\n",
    "\n",
    "  def call(self, inputs, states=None, return_state=False, training=False):\n",
    "    x = inputs\n",
    "    x = self.embedding(x, training=training)\n",
    "    if states is None:\n",
    "      states = self.rnn.get_initial_state(x)\n",
    "    x, states = self.rnn(x, initial_state=states, training=training)\n",
    "    x = self.dense(x, training=training)\n",
    "\n",
    "    if return_state:\n",
    "      return x, states\n",
    "    else:\n",
    "      return x"
   ]
  },
  {
   "cell_type": "markdown",
   "metadata": {
    "id": "gz4r3FUMBY9W"
   },
   "source": [
    "We could have used a `keras.Sequential` model here, as this architecture is quite simple. However, to  generate text later we will need to manage the RNN's internal state. It's simpler to include the state input and output options upfront, than it is to rearrange the model architecture later. For more details see the [Keras RNN guide](https://www.tensorflow.org/guide/keras/rnn#rnn_state_reuse)."
   ]
  },
  {
   "cell_type": "code",
   "execution_count": 32,
   "metadata": {
    "execution": {
     "iopub.execute_input": "2021-08-11T18:24:54.933900Z",
     "iopub.status.busy": "2021-08-11T18:24:54.933342Z",
     "iopub.status.idle": "2021-08-11T18:24:54.945286Z",
     "shell.execute_reply": "2021-08-11T18:24:54.945609Z"
    },
    "id": "IX58Xj9z47Aw"
   },
   "outputs": [],
   "source": [
    "# Now instantiate the class defined above.\n",
    "\n",
    "model = MyModel(\n",
    "    # Be sure the vocabulary size matches the `StringLookup` layers.\n",
    "    vocab_size=len(ids_from_chars.get_vocabulary()),\n",
    "    embedding_dim=embedding_dim,\n",
    "    rnn_units=rnn_units)"
   ]
  },
  {
   "cell_type": "markdown",
   "metadata": {
    "id": "RkA5upJIJ7W7"
   },
   "source": [
    "For each character the model looks up the embedding, runs the RNN one timestep with the embedding as input, and applies the dense layer to generate logits predicting the log-likelihood of the next character. A logit can be turned into an odds ratio with exponentiation. Statisticians like to work with logits because they behave linearly. "
   ]
  },
  {
   "cell_type": "markdown",
   "metadata": {
    "id": "-ubPo0_9Prjb"
   },
   "source": [
    "## Try the model\n",
    "\n",
    "Now run the model to see that it behaves as expected.\n",
    "\n",
    "First check the shape of the output:"
   ]
  },
  {
   "cell_type": "code",
   "execution_count": 33,
   "metadata": {
    "colab": {
     "base_uri": "https://localhost:8080/"
    },
    "execution": {
     "iopub.execute_input": "2021-08-11T18:24:54.950074Z",
     "iopub.status.busy": "2021-08-11T18:24:54.949469Z",
     "iopub.status.idle": "2021-08-11T18:24:57.944427Z",
     "shell.execute_reply": "2021-08-11T18:24:57.944816Z"
    },
    "id": "C-_70kKAPrPU",
    "outputId": "d29f9dd2-5d47-43b2-a7d7-8b5542617a6f"
   },
   "outputs": [
    {
     "name": "stdout",
     "output_type": "stream",
     "text": [
      "(64, 80, 95) # (batch_size, sequence_length, vocab_size)\n"
     ]
    }
   ],
   "source": [
    "for input_example_batch, target_example_batch in dataset.take(1):\n",
    "    example_batch_predictions = model(input_example_batch)\n",
    "    print(example_batch_predictions.shape, \"# (batch_size, sequence_length, vocab_size)\")"
   ]
  },
  {
   "cell_type": "markdown",
   "metadata": {
    "id": "Q6NzLBi4VM4o"
   },
   "source": [
    "In the above example the sequence length of the input is `80` but the model can be run on inputs of any length:"
   ]
  },
  {
   "cell_type": "code",
   "execution_count": 34,
   "metadata": {
    "colab": {
     "base_uri": "https://localhost:8080/"
    },
    "execution": {
     "iopub.execute_input": "2021-08-11T18:24:57.950716Z",
     "iopub.status.busy": "2021-08-11T18:24:57.949988Z",
     "iopub.status.idle": "2021-08-11T18:24:57.953371Z",
     "shell.execute_reply": "2021-08-11T18:24:57.953741Z"
    },
    "id": "vPGmAAXmVLGC",
    "outputId": "8cb3efa7-0f02-4ee9-9a60-74522ba64eab"
   },
   "outputs": [
    {
     "name": "stdout",
     "output_type": "stream",
     "text": [
      "Model: \"my_model\"\n",
      "_________________________________________________________________\n",
      " Layer (type)                Output Shape              Param #   \n",
      "=================================================================\n",
      " embedding (Embedding)       multiple                  24320     \n",
      "                                                                 \n",
      " simple_rnn (SimpleRNN)      multiple                  1311744   \n",
      "                                                                 \n",
      " dense (Dense)               multiple                  97375     \n",
      "                                                                 \n",
      "=================================================================\n",
      "Total params: 1,433,439\n",
      "Trainable params: 1,433,439\n",
      "Non-trainable params: 0\n",
      "_________________________________________________________________\n"
     ]
    }
   ],
   "source": [
    "model.summary()"
   ]
  },
  {
   "cell_type": "markdown",
   "metadata": {
    "id": "uwv0gEkURfx1"
   },
   "source": [
    "To get actual predictions from the model we should sample from the output distribution, to get actual character indices. This distribution is defined by the logits over the character vocabulary. The TF documentation says that it is important to _sample_ from this distribution as taking the _argmax_ of the distribution because that can easily get the model stuck in a loop. \n",
    "\n",
    "Taking the argmax means that the text generator will make the same choice every time when confronted with a given input. As a result, we could present \"to be\" as the input and get \"to be or not to be or not to be or not to be. . .\" as the output. By sampling from the output instead, we can get a variety of somewhat random responses each time we present the input, so \"to be\" could generate the response, \"to be or not to be, that is the snorgle.\"\n",
    "\n",
    "Try it for the first example in the batch:"
   ]
  },
  {
   "cell_type": "code",
   "execution_count": 35,
   "metadata": {
    "execution": {
     "iopub.execute_input": "2021-08-11T18:24:57.959137Z",
     "iopub.status.busy": "2021-08-11T18:24:57.958400Z",
     "iopub.status.idle": "2021-08-11T18:24:57.961128Z",
     "shell.execute_reply": "2021-08-11T18:24:57.961509Z"
    },
    "id": "4V4MfFg0RQJg"
   },
   "outputs": [],
   "source": [
    "sampled_indices = tf.random.categorical(example_batch_predictions[0], num_samples=1)\n",
    "sampled_indices = tf.squeeze(sampled_indices, axis=-1).numpy()"
   ]
  },
  {
   "cell_type": "markdown",
   "metadata": {
    "id": "QM1Vbxs_URw5"
   },
   "source": [
    "This gives us, at each timestep, a prediction of the next character index. You should run the cell above and the cell below several times:"
   ]
  },
  {
   "cell_type": "code",
   "execution_count": 36,
   "metadata": {
    "colab": {
     "base_uri": "https://localhost:8080/"
    },
    "execution": {
     "iopub.execute_input": "2021-08-11T18:24:57.967110Z",
     "iopub.status.busy": "2021-08-11T18:24:57.966383Z",
     "iopub.status.idle": "2021-08-11T18:24:57.968952Z",
     "shell.execute_reply": "2021-08-11T18:24:57.969334Z"
    },
    "id": "YqFMUQc_UFgM",
    "outputId": "f3ed0fa7-cf36-4128-dda0-1a13f0a111ae"
   },
   "outputs": [
    {
     "data": {
      "text/plain": [
       "array([59, 18, 59, 48, 73, 49, 91, 74, 22, 60, 70, 26, 71,  0, 46, 12, 12,\n",
       "       68, 52, 60, 29, 52, 37, 32, 52, 78, 14, 58, 39,  8, 92, 15, 51, 80,\n",
       "       85, 50, 27, 65, 91, 16, 44, 47, 86,  3,  2, 37,  9, 16, 29, 78, 16,\n",
       "       29, 21, 23, 56, 62,  4, 30, 58, 26, 17, 54,  7, 34, 55, 38, 54, 59,\n",
       "       93, 64, 48, 81, 59, 46, 94, 81, 86, 14, 31, 55])"
      ]
     },
     "execution_count": 36,
     "metadata": {},
     "output_type": "execute_result"
    }
   ],
   "source": [
    "sampled_indices"
   ]
  },
  {
   "cell_type": "markdown",
   "metadata": {
    "id": "LfLtsP3mUhCG"
   },
   "source": [
    "Decode these to see the text predicted by this untrained model:"
   ]
  },
  {
   "cell_type": "code",
   "execution_count": 37,
   "metadata": {
    "colab": {
     "base_uri": "https://localhost:8080/"
    },
    "execution": {
     "iopub.execute_input": "2021-08-11T18:24:57.974520Z",
     "iopub.status.busy": "2021-08-11T18:24:57.973890Z",
     "iopub.status.idle": "2021-08-11T18:24:57.978884Z",
     "shell.execute_reply": "2021-08-11T18:24:57.979283Z"
    },
    "id": "xWcFwPwLSo05",
    "outputId": "b336883d-fbb6-4925-d9b1-dae08e041001"
   },
   "outputs": [
    {
     "name": "stdout",
     "output_type": "stream",
     "text": [
      "Input:\n",
      " b'iling\\r\\nin my chest! Uncle Tihon! [Weeps] Uncle Tihon!\\r\\n\\r\\nSAWA. [Groans] I\\xe2\\x80\\x99ve got'\n",
      "\n",
      "Next Char Predictions:\n",
      " b'a3aSoT\\xe2\\x80\\x99p7bl;m[UNK]Q--jWb@WHCWt/_J(\\xe2\\x80\\x9c0Vv\\xc2\\xa3U=g\\xe2\\x80\\x991OR\\xc3\\xa0 \\rH)1@t1@68[d!A_;2Y%EZIYa\\xe2\\x80\\x9dfSwaQ\\xef\\xbb\\xbfw\\xc3\\xa0/BZ'\n"
     ]
    }
   ],
   "source": [
    "print(\"Input:\\n\", text_from_ids(input_example_batch[0]).numpy())\n",
    "print()\n",
    "print(\"Next Char Predictions:\\n\", text_from_ids(sampled_indices).numpy())"
   ]
  },
  {
   "cell_type": "markdown",
   "metadata": {
    "id": "qD17Y8LP9QkS"
   },
   "source": [
    "Naturally, the predicted text is garbage because the untrained model essentially makes random predictions."
   ]
  },
  {
   "cell_type": "markdown",
   "metadata": {
    "id": "LJL0Q0YPY6Ee"
   },
   "source": [
    "## Train the model"
   ]
  },
  {
   "cell_type": "markdown",
   "metadata": {
    "id": "YCbHQHiaa4Ic"
   },
   "source": [
    "At this point the problem can be treated as a standard classification problem. Given the previous RNN state, and the input this time step, predict the class of the next character."
   ]
  },
  {
   "cell_type": "markdown",
   "metadata": {
    "id": "trpqTWyvk0nr"
   },
   "source": [
    "### Attach an optimizer, and a loss function"
   ]
  },
  {
   "cell_type": "markdown",
   "metadata": {
    "id": "UAjbjY03eiQ4"
   },
   "source": [
    "The standard `tf.keras.losses.sparse_categorical_crossentropy` loss function works in this case because it is applied across the last dimension of the predictions.\n",
    "\n",
    "Because your model returns logits, you need to set the `from_logits` flag.\n"
   ]
  },
  {
   "cell_type": "code",
   "execution_count": 38,
   "metadata": {
    "execution": {
     "iopub.execute_input": "2021-08-11T18:24:57.984396Z",
     "iopub.status.busy": "2021-08-11T18:24:57.983751Z",
     "iopub.status.idle": "2021-08-11T18:24:57.985611Z",
     "shell.execute_reply": "2021-08-11T18:24:57.985987Z"
    },
    "id": "ZOeWdgxNFDXq"
   },
   "outputs": [],
   "source": [
    "loss = tf.losses.SparseCategoricalCrossentropy(from_logits=True)"
   ]
  },
  {
   "cell_type": "code",
   "execution_count": 39,
   "metadata": {
    "colab": {
     "base_uri": "https://localhost:8080/"
    },
    "execution": {
     "iopub.execute_input": "2021-08-11T18:24:57.991174Z",
     "iopub.status.busy": "2021-08-11T18:24:57.990533Z",
     "iopub.status.idle": "2021-08-11T18:24:57.997194Z",
     "shell.execute_reply": "2021-08-11T18:24:57.996735Z"
    },
    "id": "4HrXTACTdzY-",
    "outputId": "42c1bc75-4954-431d-a8b6-d81a4ff131d3"
   },
   "outputs": [
    {
     "name": "stdout",
     "output_type": "stream",
     "text": [
      "Prediction shape:  (64, 80, 95)  # (batch_size, sequence_length, vocab_size)\n",
      "Mean loss:         4.564593\n"
     ]
    }
   ],
   "source": [
    "example_batch_loss = loss(target_example_batch, example_batch_predictions)\n",
    "mean_loss = example_batch_loss.numpy().mean()\n",
    "print(\"Prediction shape: \", example_batch_predictions.shape, \" # (batch_size, sequence_length, vocab_size)\")\n",
    "print(\"Mean loss:        \", mean_loss)"
   ]
  },
  {
   "cell_type": "markdown",
   "metadata": {
    "id": "vkvUIneTFiow"
   },
   "source": [
    "A newly initialized model shouldn't be too sure of itself, the output logits should all have similar magnitudes. To confirm this you can check that the exponential of the mean loss is approximately equal to the vocabulary size. A much higher loss means the model is sure of its wrong answers, and is badly initialized:"
   ]
  },
  {
   "cell_type": "code",
   "execution_count": 40,
   "metadata": {
    "colab": {
     "base_uri": "https://localhost:8080/"
    },
    "execution": {
     "iopub.execute_input": "2021-08-11T18:24:58.001780Z",
     "iopub.status.busy": "2021-08-11T18:24:58.001138Z",
     "iopub.status.idle": "2021-08-11T18:24:58.005003Z",
     "shell.execute_reply": "2021-08-11T18:24:58.004544Z"
    },
    "id": "MAJfS5YoFiHf",
    "outputId": "91582902-9e6e-4adb-8474-8393e24c815b"
   },
   "outputs": [
    {
     "data": {
      "text/plain": [
       "96.02348"
      ]
     },
     "execution_count": 40,
     "metadata": {},
     "output_type": "execute_result"
    }
   ],
   "source": [
    "tf.exp(mean_loss).numpy()"
   ]
  },
  {
   "cell_type": "markdown",
   "metadata": {
    "id": "jeOXriLcymww"
   },
   "source": [
    "Configure the training procedure using the `tf.keras.Model.compile` method. Use `tf.keras.optimizers.Adam` with default arguments and the loss function."
   ]
  },
  {
   "cell_type": "code",
   "execution_count": 41,
   "metadata": {
    "execution": {
     "iopub.execute_input": "2021-08-11T18:24:58.013648Z",
     "iopub.status.busy": "2021-08-11T18:24:58.012966Z",
     "iopub.status.idle": "2021-08-11T18:24:58.019077Z",
     "shell.execute_reply": "2021-08-11T18:24:58.018481Z"
    },
    "id": "DDl1_Een6rL0"
   },
   "outputs": [],
   "source": [
    "model.compile(optimizer='adam', loss=loss)"
   ]
  },
  {
   "cell_type": "markdown",
   "metadata": {
    "id": "ieSJdchZggUj"
   },
   "source": [
    "### Configure checkpoints"
   ]
  },
  {
   "cell_type": "markdown",
   "metadata": {
    "id": "C6XBUUavgF56"
   },
   "source": [
    "Use a `tf.keras.callbacks.ModelCheckpoint` to ensure that checkpoints are saved during training:"
   ]
  },
  {
   "cell_type": "code",
   "execution_count": 42,
   "metadata": {
    "execution": {
     "iopub.execute_input": "2021-08-11T18:24:58.024393Z",
     "iopub.status.busy": "2021-08-11T18:24:58.023777Z",
     "iopub.status.idle": "2021-08-11T18:24:58.025672Z",
     "shell.execute_reply": "2021-08-11T18:24:58.026012Z"
    },
    "id": "W6fWTriUZP-n"
   },
   "outputs": [],
   "source": [
    "# Directory where the checkpoints will be saved\n",
    "checkpoint_dir = './training_checkpoints'\n",
    "# Name of the checkpoint files\n",
    "checkpoint_prefix = os.path.join(checkpoint_dir, \"ckpt_{epoch}\")\n",
    "\n",
    "checkpoint_callback = tf.keras.callbacks.ModelCheckpoint(\n",
    "    filepath=checkpoint_prefix,\n",
    "    save_weights_only=True)"
   ]
  },
  {
   "cell_type": "markdown",
   "metadata": {
    "id": "3Ky3F_BhgkTW"
   },
   "source": [
    "### Execute the training"
   ]
  },
  {
   "cell_type": "markdown",
   "metadata": {
    "id": "IxdOA-rgyGvs"
   },
   "source": [
    "To keep training time reasonable, use 20 epochs to train the model. In Colab, set the runtime to GPU for faster training. Note that with all of the starter defaults in this notebook, each epoch takes about 10 seconds, so only about 3 minutes to train this model. "
   ]
  },
  {
   "cell_type": "code",
   "execution_count": 43,
   "metadata": {
    "execution": {
     "iopub.execute_input": "2021-08-11T18:24:58.030422Z",
     "iopub.status.busy": "2021-08-11T18:24:58.029840Z",
     "iopub.status.idle": "2021-08-11T18:24:58.031719Z",
     "shell.execute_reply": "2021-08-11T18:24:58.032055Z"
    },
    "id": "7yGBE2zxMMHs"
   },
   "outputs": [],
   "source": [
    "EPOCHS = 20"
   ]
  },
  {
   "cell_type": "code",
   "execution_count": 44,
   "metadata": {
    "colab": {
     "base_uri": "https://localhost:8080/"
    },
    "execution": {
     "iopub.execute_input": "2021-08-11T18:24:58.036492Z",
     "iopub.status.busy": "2021-08-11T18:24:58.035869Z",
     "iopub.status.idle": "2021-08-11T18:26:49.222172Z",
     "shell.execute_reply": "2021-08-11T18:26:49.222645Z"
    },
    "id": "UK-hmKjYVoll",
    "outputId": "b8a85800-a65e-43fc-e8b1-91fb63459a63"
   },
   "outputs": [
    {
     "name": "stdout",
     "output_type": "stream",
     "text": [
      "Epoch 1/20\n",
      "79/79 [==============================] - 12s 116ms/step - loss: 3.2642\n",
      "Epoch 2/20\n",
      "79/79 [==============================] - 10s 116ms/step - loss: 2.4262\n",
      "Epoch 3/20\n",
      "79/79 [==============================] - 11s 123ms/step - loss: 2.1968\n",
      "Epoch 4/20\n",
      "79/79 [==============================] - 10s 116ms/step - loss: 2.0366\n",
      "Epoch 5/20\n",
      "79/79 [==============================] - 10s 118ms/step - loss: 1.9064\n",
      "Epoch 6/20\n",
      "79/79 [==============================] - 10s 115ms/step - loss: 1.8017\n",
      "Epoch 7/20\n",
      "79/79 [==============================] - 10s 117ms/step - loss: 1.7141\n",
      "Epoch 8/20\n",
      "79/79 [==============================] - 11s 126ms/step - loss: 1.6368\n",
      "Epoch 9/20\n",
      "79/79 [==============================] - 17s 203ms/step - loss: 1.5733\n",
      "Epoch 10/20\n",
      "79/79 [==============================] - 11s 116ms/step - loss: 1.5159\n",
      "Epoch 11/20\n",
      "79/79 [==============================] - 10s 117ms/step - loss: 1.4718\n",
      "Epoch 12/20\n",
      "79/79 [==============================] - 10s 117ms/step - loss: 1.4295\n",
      "Epoch 13/20\n",
      "79/79 [==============================] - 10s 115ms/step - loss: 1.3909\n",
      "Epoch 14/20\n",
      "79/79 [==============================] - 10s 117ms/step - loss: 1.3591\n",
      "Epoch 15/20\n",
      "79/79 [==============================] - 10s 117ms/step - loss: 1.3259\n",
      "Epoch 16/20\n",
      "79/79 [==============================] - 10s 117ms/step - loss: 1.2939\n",
      "Epoch 17/20\n",
      "79/79 [==============================] - 10s 115ms/step - loss: 1.2681\n",
      "Epoch 18/20\n",
      "79/79 [==============================] - 10s 117ms/step - loss: 1.2441\n",
      "Epoch 19/20\n",
      "79/79 [==============================] - 10s 115ms/step - loss: 1.2163\n",
      "Epoch 20/20\n",
      "79/79 [==============================] - 10s 117ms/step - loss: 1.1930\n"
     ]
    }
   ],
   "source": [
    "history = model.fit(dataset, epochs=EPOCHS, callbacks=[checkpoint_callback])"
   ]
  },
  {
   "cell_type": "markdown",
   "metadata": {
    "id": "kKkD5M6eoSiN"
   },
   "source": [
    "## Generate text"
   ]
  },
  {
   "cell_type": "markdown",
   "metadata": {
    "id": "oIdQ8c8NvMzV"
   },
   "source": [
    "The simplest way to generate text with this model is to run it in a loop, and keep track of the model's internal state as it runs. Each time we call the model we pass in a slice of text and an internal state. \n",
    "\n",
    "The model returns a prediction for the next character as well as its new state. Pass the prediction and state back in to continue generating text. The class defined below accomplishes one step in this chain of model runs. When the generate_one_step() bound method is called, it makes a single step prediction. Note the temperature argument on the class initializer.\n"
   ]
  },
  {
   "cell_type": "code",
   "execution_count": 45,
   "metadata": {
    "execution": {
     "iopub.execute_input": "2021-08-11T18:26:49.231962Z",
     "iopub.status.busy": "2021-08-11T18:26:49.231408Z",
     "iopub.status.idle": "2021-08-11T18:26:49.233437Z",
     "shell.execute_reply": "2021-08-11T18:26:49.232954Z"
    },
    "id": "iSBU1tHmlUSs"
   },
   "outputs": [],
   "source": [
    "class OneStep(tf.keras.Model):\n",
    "  def __init__(self, model, chars_from_ids, ids_from_chars, temperature=1.0):\n",
    "    super().__init__()\n",
    "    self.temperature = temperature\n",
    "    self.model = model\n",
    "    self.chars_from_ids = chars_from_ids\n",
    "    self.ids_from_chars = ids_from_chars\n",
    "\n",
    "    # Create a mask to prevent \"[UNK]\" from being generated.\n",
    "    skip_ids = self.ids_from_chars(['[UNK]'])[:, None]\n",
    "    sparse_mask = tf.SparseTensor(\n",
    "        # Put a -inf at each bad index.\n",
    "        values=[-float('inf')]*len(skip_ids),\n",
    "        indices=skip_ids,\n",
    "        # Match the shape to the vocabulary\n",
    "        dense_shape=[len(ids_from_chars.get_vocabulary())])\n",
    "    self.prediction_mask = tf.sparse.to_dense(sparse_mask)\n",
    "\n",
    "  @tf.function\n",
    "  def generate_one_step(self, inputs, states=None):\n",
    "    # Convert strings to token IDs.\n",
    "    input_chars = tf.strings.unicode_split(inputs, 'UTF-8')\n",
    "    input_ids = self.ids_from_chars(input_chars).to_tensor()\n",
    "\n",
    "    # Run the model.\n",
    "    # predicted_logits.shape is [batch, char, next_char_logits]\n",
    "    predicted_logits, states = self.model(inputs=input_ids, states=states,\n",
    "                                          return_state=True)\n",
    "    # Only use the last prediction.\n",
    "    predicted_logits = predicted_logits[:, -1, :]\n",
    "    predicted_logits = predicted_logits/self.temperature\n",
    "    # Apply the prediction mask: prevent \"[UNK]\" from being generated.\n",
    "    predicted_logits = predicted_logits + self.prediction_mask\n",
    "\n",
    "    # Sample the output logits to generate token IDs.\n",
    "    predicted_ids = tf.random.categorical(predicted_logits, num_samples=1)\n",
    "    predicted_ids = tf.squeeze(predicted_ids, axis=-1)\n",
    "\n",
    "    # Convert from token ids to characters\n",
    "    predicted_chars = self.chars_from_ids(predicted_ids)\n",
    "\n",
    "    # Return the characters and model state.\n",
    "    return predicted_chars, states"
   ]
  },
  {
   "cell_type": "code",
   "execution_count": 46,
   "metadata": {
    "execution": {
     "iopub.execute_input": "2021-08-11T18:26:49.238176Z",
     "iopub.status.busy": "2021-08-11T18:26:49.237539Z",
     "iopub.status.idle": "2021-08-11T18:26:49.244921Z",
     "shell.execute_reply": "2021-08-11T18:26:49.245283Z"
    },
    "id": "fqMOuDutnOxK"
   },
   "outputs": [],
   "source": [
    "# Now we can instantiate the class. Take note of the arguments we are \n",
    "# passing in. \n",
    "one_step_model = OneStep(model, chars_from_ids, ids_from_chars)"
   ]
  },
  {
   "cell_type": "markdown",
   "metadata": {
    "id": "p9yDoa0G3IgQ"
   },
   "source": [
    "Run it in a loop to generate some text. Looking at the generated text, you'll see the model knows when to capitalize, make paragraphs and imitates a Chekhov-like  vocabulary. With the small number of training epochs, it has not yet learned to form coherent sentences."
   ]
  },
  {
   "cell_type": "code",
   "execution_count": 51,
   "metadata": {
    "colab": {
     "base_uri": "https://localhost:8080/"
    },
    "execution": {
     "iopub.execute_input": "2021-08-11T18:26:49.251455Z",
     "iopub.status.busy": "2021-08-11T18:26:49.250898Z",
     "iopub.status.idle": "2021-08-11T18:26:51.562788Z",
     "shell.execute_reply": "2021-08-11T18:26:51.562298Z"
    },
    "id": "ST7PSyk9t1mT",
    "outputId": "e0d4e70d-34ba-46ca-e7cf-c70acaa4fbe5"
   },
   "outputs": [
    {
     "name": "stdout",
     "output_type": "stream",
     "text": [
      "NATALYA STEPANOVNA. Masha. And what is it? Bat what all sit it, how much or orchard woss grout I get an on, I must\r\n",
      "come, too.... Just orrew.... What a drivalinuties and your grandfather; TATIANA ALEXEYEVNA. Oh, if a starc works of anybody else.... There’s to  runnafe.\r\n",
      "\r\n",
      "LUKA. [Gets and many)! [Downes up and first kippe?\r\n",
      "\r\n",
      "LOMOV. Like a provincies and teensbout to beoure je\r\n",
      "and so\r\n",
      "at the state exchamms, he dod. Ourse, which Creating strumping and said cole in. Seeter] Timply here upper. I can’t...\r\n",
      "\r\n",
      "LUBOV. How months\r\n",
      "tickens\r\n",
      "everything hashes. Good-bye, and\r\n",
      "then are you?\r\n",
      "\r\n",
      "MERCHUTKINA. You’re jacket and real it’s put thus.\r\n",
      "[Sits into your exituse-topares. A porsed to me?\r\n",
      "\r\n",
      "SOLENI. [Firgars here!\r\n",
      "\r\n",
      "VERSHININ. Thank you.... It’s allow me beins sook]\r\n",
      "[Attaciater after share earth. There’s out with a fat here, I’ll cry qull housing it sound it’s hard so\r\n",
      "your axe of the drawinable for the darne. Is if you roubles\r\n",
      "for if you dear. [Looks a marroly.\r\n",
      "\r\n",
      "CHUBUKOV. I only got an ehtremee.... Oh, on  \n",
      "\n",
      "________________________________________________________________________________\n",
      "\n",
      "Run time: 4.240936517715454\n"
     ]
    }
   ],
   "source": [
    "start = time.time()\n",
    "states = None\n",
    "next_char = tf.constant(['NATALYA STEPANOVNA.'])\n",
    "result = [next_char]\n",
    "\n",
    "for n in range(1000):\n",
    "  next_char, states = one_step_model.generate_one_step(next_char, states=states)\n",
    "  result.append(next_char)\n",
    "\n",
    "result = tf.strings.join(result)\n",
    "end = time.time()\n",
    "print(result[0].numpy().decode('utf-8'), '\\n\\n' + '_'*80)\n",
    "print('\\nRun time:', end - start)"
   ]
  },
  {
   "cell_type": "markdown",
   "metadata": {
    "id": "AM2Uma_-yVIq"
   },
   "source": [
    "The easiest thing you can do to improve the results is to train it for longer (try `EPOCHS = 30`).\n",
    "\n",
    "You can also experiment with a different start string, try adding another RNN layer to improve the model's accuracy, or adjust the temperature parameter to generate more or less random predictions.\n",
    "\n",
    "If you want the model to generate text faster the easiest thing you can do is batch the text generation. In the example below the model generates three texts in about the same time it took to generate just one above."
   ]
  },
  {
   "cell_type": "code",
   "execution_count": 52,
   "metadata": {
    "colab": {
     "base_uri": "https://localhost:8080/"
    },
    "execution": {
     "iopub.execute_input": "2021-08-11T18:26:51.568807Z",
     "iopub.status.busy": "2021-08-11T18:26:51.568077Z",
     "iopub.status.idle": "2021-08-11T18:26:53.770322Z",
     "shell.execute_reply": "2021-08-11T18:26:53.770785Z"
    },
    "id": "ZkLu7Y8UCMT7",
    "outputId": "abc75290-a098-4734-9164-a29a3c59cc4c"
   },
   "outputs": [
    {
     "name": "stdout",
     "output_type": "stream",
     "text": [
      "tf.Tensor(\n",
      "[b'NATALYA STEPANOVNA. The stage up byer, don\\xe2\\x80\\x99t have pethement women.\\r\\n\\r\\nCHEBUTIKIN. So that if I don\\xe2\\x80\\x99t like a great be\\r\\nme the time wend son you; corre-tiom, whatereduing about eighto man hunured\\r\\nhim thir? That\\xe2\\x80\\x99s earie coming four rusbance....\\r\\n\\r\\nSHIPUCHIN. [Clangurt, as he day and appross. Fill, I can\\xe2\\x80\\x99t four, \\xe2\\x80\\x9cKharkov Andreyevitch, let\\xe2\\x80\\x99s sinducals. Enter grinoms at all mat\\r\\nlater on.... And when There is is that you shouldn\\xe2\\x80\\x99t off from any more, and heard peepiciture now. [Pause.]\\r\\n\\r\\nANFISA. Thronifella most examp. [Covers her boseken.\\r\\n\\r\\nKULIGIN. Natashs.... Yes, riall.\\r\\n[IRINA SEDREYEVNA] Nive you got into a low! [To YASHA] Mather Feers.\\r\\n\\r\\nOLGA. It\\xe2\\x80\\x99s a counter.\\r\\n\\r\\nTRSMA. Sold woman who\\r\\nted him; it\\xe2\\x80\\x99s sign of the Project Gutenberg-tm.... [Chappears] Bar\\r\\ntime I\\xe2\\x80\\x99m qulence.... [At the brother here, or\\r\\nkits himself\\r\\na child of any sown timplee is into a defulation to me, and I been druss\\r\\nthemar. Here in a naised.... I love you, and nog to be come, then\\r\\nI say? Yrunk them, and we are all the same.\\r\\n\\r\\nGAEV'\n",
      " b'NATALYA STEPANOVNA. Fashe\\xe2\\x80\\x99s a student in the same man.\\r\\n\\r\\nKHIRIN. Let her paucrov I kind raughing as you\\r\\nlet shouts ruse....\\r\\n\\r\\nKHIRIN. [Goes down.]\\r\\n\\r\\nTROFIMOV. It\\xe2\\x80\\x99s silly whuths a fave, and... and old so\\r\\ncowned off-it. [Seers and the brigade a woman Vassile here.\\r\\n\\r\\nIRINA. They\\xe2\\x80\\x99ll be nemance for the snden! You\\xe2\\x80\\x99re nothing or at the Project Gutenberg-tm\\r\\nnot a carrait!\\r\\n\\r\\nLOMOV. The pressiggar Efushing, a pand of alreeding a boor! A. Andrey Iepsireds of this? They said to me?\\r\\n\\r\\nVARYA. If I quite and young away, too. I little mother! I am! He is, wrenger!\\r\\n\\r\\nMERIK. Here if there.\\r\\n\\r\\nVERSHININ. Masha cand emormous who not, not steard us and meen!\\r\\nOh means? Kue down doesple.... [Astamel.\\r\\n\\r\\nTUZENBACH. [Weeps] Let\\xe2\\x80\\x99s are from Majoh, and nobper.\\r\\n\\r\\nLOPAKHIN. [Broikngess\\r\\nmulited through the birds are a lov warrs in the _eal, shourde\\xe2\\x80\\x99s makver agousary. It\\xe2\\x80\\x99s all, newerdryalital sorty of remmiar] Andrey Simman\\xe2\\x80\\x99s actill not pristless of the whole you. [In the BOz-KI ALEXEYEVNA. Yes, you can say that bronget he'\n",
      " b'NATALYA STEPANOVNA. When I debor gen-has a band sense!\\r\\n\\r\\nKULIGIN. I think, I think I was a card your\\r\\nsick of meep behind the softlersion. Mining-room] Here they live pomerbars into the disting; she made lifes. A see, come, a quickly sofn, parious one. I had rempine, or yourself! I book for exbress\\r\\nyount.... [Gets upfacion of the saxell, faboy KULIGIN] Look, as my leave me? [Exitenbrughts her; are lust them? [Stops] They fate you. [Enter LUBOV ANDREYEVNA, what has rom, and as see, It do anthere.\\r\\n\\r\\nANDREY. [Wapps the table] Buture about? Dere\\xe2\\x80\\x99s the same a proposted and burnectle a larm sorthing.\\r\\n\\r\\nCHEBUTIKIN. I bexter of his\\r\\ngentlemen, and\\r\\nstill a may\\r\\nbest pecause.\\xe2\\x80\\x9d\\r\\n\\r\\nMERIK. [Fisher overgly, good like a prying tol the natary for the exprass I\\xe2\\x80\\x99m a teachern!... I must got intort?\\r\\n\\r\\nBORTSOV. [Looks round the troant door untic time commeed in pealare of careful.\\r\\n\\r\\nALYAVYA. To be they are ewperts of that you see!\\r\\n\\r\\nSEVON. [Showam. How cerroum.\\r\\n\\r\\nFIERS. We heard. Think that came alone.\\r\\nBeende, diff'], shape=(3,), dtype=string) \n",
      "\n",
      "________________________________________________________________________________\n",
      "\n",
      "Run time: 5.374011754989624\n"
     ]
    }
   ],
   "source": [
    "start = time.time()\n",
    "states = None\n",
    "next_char = tf.constant(['NATALYA STEPANOVNA.', 'NATALYA STEPANOVNA.', 'NATALYA STEPANOVNA.'])\n",
    "result = [next_char]\n",
    "\n",
    "for n in range(1000):\n",
    "  next_char, states = one_step_model.generate_one_step(next_char, states=states)\n",
    "  result.append(next_char)\n",
    "\n",
    "result = tf.strings.join(result)\n",
    "end = time.time()\n",
    "print(result, '\\n\\n' + '_'*80)\n",
    "print('\\nRun time:', end - start)"
   ]
  },
  {
   "cell_type": "markdown",
   "metadata": {
    "id": "WVGQ33Tqe_s1"
   },
   "source": [
    "**Improving the Model**\n",
    "\n",
    "There are several strategies that might improve the performance of the model. Try them in the following order:\n",
    "\n",
    "* Reduce the temperature in the initialization of the OneStep class to reduce the randomness in generation of new characters \n",
    "* Increase the training epochs by 50% or more to get the model loss to be lower\n",
    "* Increase the number of nodes in the existing SimpleRNN layer to give the model more \"intelligience\"\n",
    "* Add an additional layer of RNN after the first layer to improve the model's \"memory\"\n",
    "\n",
    "Depending upon the amount of time left in the lab, try one or more of these techniques. For the moment we don't have a way of documenting model quality other than your own read of the generated text to see whether it is creating real words and sensible sentences. But that's a fine criterion for now. Make sure to add comments documenting what you find out."
   ]
  },
  {
   "cell_type": "markdown",
   "metadata": {
    "id": "Y4QwTjAM6A2O"
   },
   "source": [
    "## Advanced: Customized Training\n",
    "\n",
    "The following material is for strudents who want to dive more deeply into TensorFlow. If you have run out of options for modifying and testing the simple model above and there is time left in the lab, you may want to learn more about improving the quality of a character-based text generation model. Examine the customized training class provided below and spend some time thinking about how it works. \n",
    "\n",
    "All the training we have done to this point is very straightforward and is no different from outher TF/Keras models we've experimented with. Some would call this an open-loop model, because prediction mistakes are not fed back into the model to improve it. You might want to consult this article first: https://towardsdatascience.com/what-is-teacher-forcing-3da6217fed1c\n",
    "\n",
    "The custom class below improves over our previous training method by closing the \"open loop\" that allowed prediction errors to accumulate. The most important part of a custom training loop is the train step function.\n",
    "\n",
    "The loop uses `tf.GradientTape` to track the gradients. You can learn more about this approach by reading the [eager execution guide](https://www.tensorflow.org/guide/eager).\n",
    "\n",
    "The basic procedure is:\n",
    "\n",
    "1. Execute the model and calculate the loss under a `tf.GradientTape`.\n",
    "2. Calculate the updates and apply them to the model using the optimizer."
   ]
  },
  {
   "cell_type": "code",
   "execution_count": 53,
   "metadata": {
    "execution": {
     "iopub.execute_input": "2021-08-11T18:27:00.454438Z",
     "iopub.status.busy": "2021-08-11T18:27:00.453865Z",
     "iopub.status.idle": "2021-08-11T18:27:00.455636Z",
     "shell.execute_reply": "2021-08-11T18:27:00.455995Z"
    },
    "id": "x0pZ101hjwW0"
   },
   "outputs": [],
   "source": [
    "class CustomTraining(MyModel):\n",
    "  @tf.function\n",
    "  def train_step(self, inputs):\n",
    "      inputs, labels = inputs\n",
    "      with tf.GradientTape() as tape:\n",
    "          predictions = self(inputs, training=True)\n",
    "          loss = self.loss(labels, predictions)\n",
    "      grads = tape.gradient(loss, model.trainable_variables)\n",
    "      self.optimizer.apply_gradients(zip(grads, model.trainable_variables))\n",
    "\n",
    "      return {'loss': loss}"
   ]
  },
  {
   "cell_type": "markdown",
   "metadata": {
    "id": "4Oc-eJALcK8B"
   },
   "source": [
    "The above implementation of the `train_step` method follows [Keras' `train_step` conventions](https://www.tensorflow.org/guide/keras/customizing_what_happens_in_fit). This is optional, but it allows you to change the behavior of the train step and still use keras' `Model.compile` and `Model.fit` methods."
   ]
  },
  {
   "cell_type": "code",
   "execution_count": 54,
   "metadata": {
    "execution": {
     "iopub.execute_input": "2021-08-11T18:27:00.460174Z",
     "iopub.status.busy": "2021-08-11T18:27:00.459566Z",
     "iopub.status.idle": "2021-08-11T18:27:00.466960Z",
     "shell.execute_reply": "2021-08-11T18:27:00.467318Z"
    },
    "id": "XKyWiZ_Lj7w5"
   },
   "outputs": [],
   "source": [
    "model = CustomTraining(\n",
    "    vocab_size=len(ids_from_chars.get_vocabulary()),\n",
    "    embedding_dim=embedding_dim,\n",
    "    rnn_units=rnn_units)"
   ]
  },
  {
   "cell_type": "code",
   "execution_count": 55,
   "metadata": {
    "execution": {
     "iopub.execute_input": "2021-08-11T18:27:00.473671Z",
     "iopub.status.busy": "2021-08-11T18:27:00.472987Z",
     "iopub.status.idle": "2021-08-11T18:27:00.476534Z",
     "shell.execute_reply": "2021-08-11T18:27:00.476868Z"
    },
    "id": "U817KUm7knlm"
   },
   "outputs": [],
   "source": [
    "model.compile(optimizer = tf.keras.optimizers.Adam(),\n",
    "              loss=tf.keras.losses.SparseCategoricalCrossentropy(from_logits=True))"
   ]
  },
  {
   "cell_type": "code",
   "execution_count": 56,
   "metadata": {
    "colab": {
     "base_uri": "https://localhost:8080/"
    },
    "execution": {
     "iopub.execute_input": "2021-08-11T18:27:00.480945Z",
     "iopub.status.busy": "2021-08-11T18:27:00.480244Z",
     "iopub.status.idle": "2021-08-11T18:27:07.814866Z",
     "shell.execute_reply": "2021-08-11T18:27:07.814333Z"
    },
    "id": "o694aoBPnEi9",
    "outputId": "3a39bb74-34e9-4a80-a05c-a7c80b932887"
   },
   "outputs": [
    {
     "name": "stdout",
     "output_type": "stream",
     "text": [
      "79/79 [==============================] - 11s 117ms/step - loss: 3.2774\n"
     ]
    },
    {
     "data": {
      "text/plain": [
       "<keras.callbacks.History at 0x7f141d349490>"
      ]
     },
     "execution_count": 56,
     "metadata": {},
     "output_type": "execute_result"
    }
   ],
   "source": [
    "model.fit(dataset, epochs=1)"
   ]
  },
  {
   "cell_type": "markdown",
   "metadata": {
    "id": "W8nAtKHVoInR"
   },
   "source": [
    "Or if you need more control, you can write your own complete custom training loop:"
   ]
  },
  {
   "cell_type": "code",
   "execution_count": 57,
   "metadata": {
    "colab": {
     "base_uri": "https://localhost:8080/"
    },
    "execution": {
     "iopub.execute_input": "2021-08-11T18:27:07.822775Z",
     "iopub.status.busy": "2021-08-11T18:27:07.822150Z",
     "iopub.status.idle": "2021-08-11T18:28:01.685316Z",
     "shell.execute_reply": "2021-08-11T18:28:01.684742Z"
    },
    "id": "d4tSNwymzf-q",
    "outputId": "1d0ab945-b1b6-4d45-e175-82b4bda8646e"
   },
   "outputs": [
    {
     "name": "stdout",
     "output_type": "stream",
     "text": [
      "Epoch 1 Batch 0 Loss 2.6825\n",
      "Epoch 1 Batch 50 Loss 2.3624\n",
      "\n",
      "Epoch 1 Loss: 2.4310\n",
      "Time taken for 1 epoch 9.95 sec\n",
      "________________________________________________________________________________\n",
      "Epoch 2 Batch 0 Loss 2.2413\n",
      "Epoch 2 Batch 50 Loss 2.1659\n",
      "\n",
      "Epoch 2 Loss: 2.1882\n",
      "Time taken for 1 epoch 9.27 sec\n",
      "________________________________________________________________________________\n",
      "Epoch 3 Batch 0 Loss 2.0044\n",
      "Epoch 3 Batch 50 Loss 2.0007\n",
      "\n",
      "Epoch 3 Loss: 2.0248\n",
      "Time taken for 1 epoch 10.24 sec\n",
      "________________________________________________________________________________\n",
      "Epoch 4 Batch 0 Loss 1.9604\n",
      "Epoch 4 Batch 50 Loss 1.9587\n",
      "\n",
      "Epoch 4 Loss: 1.8972\n",
      "Time taken for 1 epoch 9.16 sec\n",
      "________________________________________________________________________________\n",
      "Epoch 5 Batch 0 Loss 1.8307\n",
      "Epoch 5 Batch 50 Loss 1.8021\n",
      "\n",
      "Epoch 5 Loss: 1.7876\n",
      "Time taken for 1 epoch 9.28 sec\n",
      "________________________________________________________________________________\n",
      "Epoch 6 Batch 0 Loss 1.7330\n",
      "Epoch 6 Batch 50 Loss 1.7435\n",
      "\n",
      "Epoch 6 Loss: 1.6975\n",
      "Time taken for 1 epoch 9.20 sec\n",
      "________________________________________________________________________________\n",
      "Epoch 7 Batch 0 Loss 1.5935\n",
      "Epoch 7 Batch 50 Loss 1.6363\n",
      "\n",
      "Epoch 7 Loss: 1.6252\n",
      "Time taken for 1 epoch 9.28 sec\n",
      "________________________________________________________________________________\n",
      "Epoch 8 Batch 0 Loss 1.5631\n",
      "Epoch 8 Batch 50 Loss 1.5464\n",
      "\n",
      "Epoch 8 Loss: 1.5615\n",
      "Time taken for 1 epoch 9.25 sec\n",
      "________________________________________________________________________________\n",
      "Epoch 9 Batch 0 Loss 1.4612\n",
      "Epoch 9 Batch 50 Loss 1.4929\n",
      "\n",
      "Epoch 9 Loss: 1.5066\n",
      "Time taken for 1 epoch 9.81 sec\n",
      "________________________________________________________________________________\n",
      "Epoch 10 Batch 0 Loss 1.4654\n",
      "Epoch 10 Batch 50 Loss 1.4254\n",
      "\n",
      "Epoch 10 Loss: 1.4591\n",
      "Time taken for 1 epoch 9.31 sec\n",
      "________________________________________________________________________________\n"
     ]
    }
   ],
   "source": [
    "EPOCHS = 10\n",
    "\n",
    "mean = tf.metrics.Mean()\n",
    "\n",
    "for epoch in range(EPOCHS):\n",
    "    start = time.time()\n",
    "\n",
    "    mean.reset_states()\n",
    "    for (batch_n, (inp, target)) in enumerate(dataset):\n",
    "        logs = model.train_step([inp, target])\n",
    "        mean.update_state(logs['loss'])\n",
    "\n",
    "        if batch_n % 50 == 0:\n",
    "            template = f\"Epoch {epoch+1} Batch {batch_n} Loss {logs['loss']:.4f}\"\n",
    "            print(template)\n",
    "\n",
    "    # saving (checkpoint) the model every 5 epochs\n",
    "    if (epoch + 1) % 5 == 0:\n",
    "        model.save_weights(checkpoint_prefix.format(epoch=epoch))\n",
    "\n",
    "    print()\n",
    "    print(f'Epoch {epoch+1} Loss: {mean.result().numpy():.4f}')\n",
    "    print(f'Time taken for 1 epoch {time.time() - start:.2f} sec')\n",
    "    print(\"_\"*80)\n",
    "\n",
    "model.save_weights(checkpoint_prefix.format(epoch=epoch))"
   ]
  },
  {
   "cell_type": "code",
   "execution_count": null,
   "metadata": {
    "id": "pqlxo_UAeujG"
   },
   "outputs": [],
   "source": [
    "#\n",
    "# This training code created a trained \"model\" object, just as the earlier, \n",
    "# simpler code did. So you can use all of the predictive machinery that\n",
    "# appeared earlier in this notebook to test the results.\n",
    "#"
   ]
  }
 ],
 "metadata": {
  "accelerator": "GPU",
  "colab": {
   "collapsed_sections": [],
   "name": "RNN_Lab_CharGeneration.ipynb",
   "provenance": []
  },
  "kernelspec": {
   "display_name": "Python 3 (ipykernel)",
   "language": "python",
   "name": "python3"
  },
  "language_info": {
   "codemirror_mode": {
    "name": "ipython",
    "version": 3
   },
   "file_extension": ".py",
   "mimetype": "text/x-python",
   "name": "python",
   "nbconvert_exporter": "python",
   "pygments_lexer": "ipython3",
   "version": "3.10.6"
  }
 },
 "nbformat": 4,
 "nbformat_minor": 1
}
