{
 "cells": [
  {
   "cell_type": "code",
   "execution_count": 1,
   "metadata": {
    "id": "WtqH9vXSVcQn"
   },
   "outputs": [],
   "source": [
    "import nltk"
   ]
  },
  {
   "cell_type": "code",
   "execution_count": 2,
   "metadata": {
    "id": "XSlxWhpGVkkq"
   },
   "outputs": [],
   "source": [
    "####Part 1: Read file: please first download the file ‘crime.txt’from course site and then read file  \n",
    "f=open('crime.txt')\n",
    "raw=f.read()\n",
    "\n"
   ]
  },
  {
   "cell_type": "code",
   "execution_count": 4,
   "metadata": {
    "colab": {
     "base_uri": "https://localhost:8080/"
    },
    "id": "JqNlmQc2WVAH",
    "outputId": "a808c24d-13f8-46c8-b24a-7dd65de1f57b"
   },
   "outputs": [
    {
     "data": {
      "text/plain": [
       "str"
      ]
     },
     "execution_count": 4,
     "metadata": {},
     "output_type": "execute_result"
    }
   ],
   "source": [
    "#check the type of raw\n",
    "type(raw)"
   ]
  },
  {
   "cell_type": "code",
   "execution_count": 6,
   "metadata": {
    "colab": {
     "base_uri": "https://localhost:8080/"
    },
    "id": "FMsmPKYgWdh2",
    "outputId": "beff1a42-4eb0-435e-8799-31da0c9ec8cf"
   },
   "outputs": [
    {
     "name": "stderr",
     "output_type": "stream",
     "text": [
      "[nltk_data] Downloading package punkt to /root/nltk_data...\n",
      "[nltk_data]   Unzipping tokenizers/punkt.zip.\n"
     ]
    }
   ],
   "source": [
    "# convert string into tokens and then text\n",
    "from nltk.tokenize import *\n",
    "tokens=word_tokenize(raw)\n",
    "text=nltk.Text(tokens)\n"
   ]
  },
  {
   "cell_type": "code",
   "execution_count": 7,
   "metadata": {
    "id": "b0izbJ3RWuSY"
   },
   "outputs": [],
   "source": [
    "# close file at the end\n",
    "f.close()\n"
   ]
  },
  {
   "cell_type": "code",
   "execution_count": 8,
   "metadata": {
    "colab": {
     "base_uri": "https://localhost:8080/"
    },
    "id": "dC3bR5g0Wy0X",
    "outputId": "7c3ddc69-d28c-4307-be74-9a2f712a55d8"
   },
   "outputs": [
    {
     "data": {
      "text/plain": [
       "250323"
      ]
     },
     "execution_count": 8,
     "metadata": {},
     "output_type": "execute_result"
    }
   ],
   "source": [
    "#### Part 2: Stemming and lemmatization: we’ll keeping working on the crime.txt file\n",
    "#let’s first check the length of the text\n",
    "\n",
    "len(text)\n"
   ]
  },
  {
   "cell_type": "code",
   "execution_count": 9,
   "metadata": {
    "colab": {
     "base_uri": "https://localhost:8080/"
    },
    "id": "WQchFqDRW20R",
    "outputId": "6f49834c-ce8b-4c6a-9c23-2935027265bf"
   },
   "outputs": [
    {
     "data": {
      "text/plain": [
       "10808"
      ]
     },
     "execution_count": 9,
     "metadata": {},
     "output_type": "execute_result"
    }
   ],
   "source": [
    "# what does this code do?\n",
    "len(set(text))\n"
   ]
  },
  {
   "cell_type": "code",
   "execution_count": 15,
   "metadata": {
    "id": "V4_MY9TRW56l"
   },
   "outputs": [],
   "source": [
    "# play with the two steamers in ntlk: Porter and Lancaster\n",
    "porter = nltk.PorterStemmer()\n",
    "lancaster = nltk.LancasterStemmer()"
   ]
  },
  {
   "cell_type": "code",
   "execution_count": 16,
   "metadata": {
    "colab": {
     "base_uri": "https://localhost:8080/"
    },
    "id": "OoM9Swg4XFde",
    "outputId": "3a427963-a9e1-44ae-be4e-5c4c3836d546"
   },
   "outputs": [
    {
     "data": {
      "text/plain": [
       "['produc',\n",
       " 'by',\n",
       " 'john',\n",
       " 'bicker',\n",
       " ';',\n",
       " 'and',\n",
       " 'dagni',\n",
       " 'crime',\n",
       " 'and',\n",
       " 'punish',\n",
       " 'by',\n",
       " 'fyodor',\n",
       " 'dostoevski',\n",
       " 'translat',\n",
       " 'by',\n",
       " 'constanc',\n",
       " 'garnett',\n",
       " 'translat',\n",
       " \"'s\",\n",
       " 'prefac',\n",
       " 'a',\n",
       " 'few',\n",
       " 'word',\n",
       " 'about',\n",
       " 'dostoevski',\n",
       " 'himself',\n",
       " 'may',\n",
       " 'help',\n",
       " 'the',\n",
       " 'english',\n",
       " 'reader',\n",
       " 'to',\n",
       " 'understand',\n",
       " 'hi',\n",
       " 'work',\n",
       " '.',\n",
       " 'dostoevski',\n",
       " 'wa',\n",
       " 'the',\n",
       " 'son',\n",
       " 'of',\n",
       " 'a',\n",
       " 'doctor',\n",
       " '.',\n",
       " 'hi',\n",
       " 'parent',\n",
       " 'were',\n",
       " 'veri',\n",
       " 'hard-work',\n",
       " 'and']"
      ]
     },
     "execution_count": 16,
     "metadata": {},
     "output_type": "execute_result"
    }
   ],
   "source": [
    "# compare Porter and Lancaster stemmers on the tokens\n",
    "crimePstem = [porter.stem(t) for t in text]\n",
    "crimePstem[:50]"
   ]
  },
  {
   "cell_type": "code",
   "execution_count": 17,
   "metadata": {
    "colab": {
     "base_uri": "https://localhost:8080/"
    },
    "id": "R3lYAdfEXLFH",
    "outputId": "9ab05062-5ea7-41dd-9433-b2a7dd98247b"
   },
   "outputs": [
    {
     "data": {
      "text/plain": [
       "['produc',\n",
       " 'by',\n",
       " 'john',\n",
       " 'bick',\n",
       " ';',\n",
       " 'and',\n",
       " 'dagny',\n",
       " 'crim',\n",
       " 'and',\n",
       " 'pun',\n",
       " 'by',\n",
       " 'fyod',\n",
       " 'dostoevsky',\n",
       " 'transl',\n",
       " 'by',\n",
       " 'const',\n",
       " 'garnet',\n",
       " 'transl',\n",
       " \"'s\",\n",
       " 'prefac',\n",
       " 'a',\n",
       " 'few',\n",
       " 'word',\n",
       " 'about',\n",
       " 'dostoevsky',\n",
       " 'himself',\n",
       " 'may',\n",
       " 'help',\n",
       " 'the',\n",
       " 'engl',\n",
       " 'read',\n",
       " 'to',\n",
       " 'understand',\n",
       " 'his',\n",
       " 'work',\n",
       " '.',\n",
       " 'dostoevsky',\n",
       " 'was',\n",
       " 'the',\n",
       " 'son',\n",
       " 'of',\n",
       " 'a',\n",
       " 'doct',\n",
       " '.',\n",
       " 'his',\n",
       " 'par',\n",
       " 'wer',\n",
       " 'very',\n",
       " 'hard-working',\n",
       " 'and']"
      ]
     },
     "execution_count": 17,
     "metadata": {},
     "output_type": "execute_result"
    }
   ],
   "source": [
    "crimeLstem = [lancaster.stem(t) for t in text]\n",
    "crimeLstem[:50]"
   ]
  },
  {
   "cell_type": "markdown",
   "metadata": {
    "id": "TvrODOFeYn2e"
   },
   "source": [
    "Do you notice any difference/ siimilarity between these two stemmers?"
   ]
  },
  {
   "cell_type": "code",
   "execution_count": 21,
   "metadata": {
    "colab": {
     "base_uri": "https://localhost:8080/"
    },
    "id": "y0x3XpmWYyFf",
    "outputId": "712a805a-7b33-4be2-8508-92b35da51a5a"
   },
   "outputs": [
    {
     "name": "stderr",
     "output_type": "stream",
     "text": [
      "[nltk_data] Downloading package wordnet to /root/nltk_data...\n",
      "[nltk_data]   Package wordnet is already up-to-date!\n",
      "[nltk_data] Downloading package omw-1.4 to /root/nltk_data...\n"
     ]
    },
    {
     "data": {
      "text/plain": [
       "['Produced',\n",
       " 'by',\n",
       " 'John',\n",
       " 'Bickers',\n",
       " ';',\n",
       " 'and',\n",
       " 'Dagny',\n",
       " 'CRIME',\n",
       " 'AND',\n",
       " 'PUNISHMENT',\n",
       " 'By',\n",
       " 'Fyodor',\n",
       " 'Dostoevsky',\n",
       " 'Translated',\n",
       " 'By',\n",
       " 'Constance',\n",
       " 'Garnett',\n",
       " 'TRANSLATOR',\n",
       " \"'S\",\n",
       " 'PREFACE',\n",
       " 'A',\n",
       " 'few',\n",
       " 'word',\n",
       " 'about',\n",
       " 'Dostoevsky',\n",
       " 'himself',\n",
       " 'may',\n",
       " 'help',\n",
       " 'the',\n",
       " 'English',\n",
       " 'reader',\n",
       " 'to',\n",
       " 'understand',\n",
       " 'his',\n",
       " 'work',\n",
       " '.',\n",
       " 'Dostoevsky',\n",
       " 'wa',\n",
       " 'the',\n",
       " 'son',\n",
       " 'of',\n",
       " 'a',\n",
       " 'doctor',\n",
       " '.',\n",
       " 'His',\n",
       " 'parent',\n",
       " 'were',\n",
       " 'very',\n",
       " 'hard-working',\n",
       " 'and']"
      ]
     },
     "execution_count": 21,
     "metadata": {},
     "output_type": "execute_result"
    }
   ],
   "source": [
    "# NLTK has a lemmatizer that uses WordNet as a dictionary-- compare this list with previous two from stemmers\n",
    "wnl = nltk.WordNetLemmatizer()\n",
    "crimeLemma = [wnl.lemmatize(t) for t in text]\n",
    "crimeLemma[:50]"
   ]
  },
  {
   "cell_type": "code",
   "execution_count": 22,
   "metadata": {
    "id": "cFz5taE5Yzrb"
   },
   "outputs": [],
   "source": [
    "#####  Part 3: Regular Expression to match non-alphabetic characters\n",
    "\n",
    "\n",
    "# this Regex matches any word that contains all non-alphanumerical characters [^a-zA-Z0-9]+\n",
    "# the beginning ^ and ending $ require the match to begin and end on a word boundary \n",
    "\n",
    "import re\n",
    "pattern = re.compile('^[^a-zA-Z0-9]+$')\n"
   ]
  },
  {
   "cell_type": "code",
   "execution_count": 23,
   "metadata": {
    "colab": {
     "base_uri": "https://localhost:8080/"
    },
    "id": "0hbKtRfGZV48",
    "outputId": "c72625e8-2229-43be-ffd6-f5cb4794621a"
   },
   "outputs": [
    {
     "name": "stdout",
     "output_type": "stream",
     "text": [
      "matched non-alphanumerical\n"
     ]
    }
   ],
   "source": [
    "#  if it matched, print a message\n",
    "nonAlphaMatch = pattern.match('**')\n",
    "if nonAlphaMatch: print ('matched non-alphanumerical')\n"
   ]
  },
  {
   "cell_type": "code",
   "execution_count": 24,
   "metadata": {
    "id": "iUVl8prTZoZT"
   },
   "outputs": [],
   "source": [
    "# write a similar code to test whether 'this is a test' would return anything\n",
    "\n"
   ]
  },
  {
   "cell_type": "code",
   "execution_count": 25,
   "metadata": {
    "id": "jCKgwJMBZ3sA"
   },
   "outputs": [],
   "source": [
    "## define a function that takes a word and returns true if it consists only\n",
    "#   of non-alphanumerical characters  (assumes import re)\n",
    "def alpha_filter(w):\n",
    "  # pattern to match word of non-alphabetical characters\n",
    "  pattern = re.compile('^[^a-zA-Z0-9]+$')\n",
    "  if (pattern.match(w)):\n",
    "    return True\n",
    "  else:\n",
    "    return False\n"
   ]
  },
  {
   "cell_type": "code",
   "execution_count": 27,
   "metadata": {
    "colab": {
     "base_uri": "https://localhost:8080/"
    },
    "id": "9Df47bm-aF0c",
    "outputId": "e6fef20d-b6ba-4cd0-c403-11911c747f9f"
   },
   "outputs": [
    {
     "data": {
      "text/plain": [
       "['Produced',\n",
       " 'by',\n",
       " 'John',\n",
       " 'Bickers',\n",
       " 'and',\n",
       " 'Dagny',\n",
       " 'CRIME',\n",
       " 'AND',\n",
       " 'PUNISHMENT',\n",
       " 'By',\n",
       " 'Fyodor',\n",
       " 'Dostoevsky',\n",
       " 'Translated',\n",
       " 'By',\n",
       " 'Constance',\n",
       " 'Garnett',\n",
       " 'TRANSLATOR',\n",
       " \"'S\",\n",
       " 'PREFACE',\n",
       " 'A',\n",
       " 'few',\n",
       " 'words',\n",
       " 'about',\n",
       " 'Dostoevsky',\n",
       " 'himself',\n",
       " 'may',\n",
       " 'help',\n",
       " 'the',\n",
       " 'English',\n",
       " 'reader',\n",
       " 'to',\n",
       " 'understand',\n",
       " 'his',\n",
       " 'work',\n",
       " 'Dostoevsky',\n",
       " 'was',\n",
       " 'the',\n",
       " 'son',\n",
       " 'of',\n",
       " 'a',\n",
       " 'doctor',\n",
       " 'His',\n",
       " 'parents',\n",
       " 'were',\n",
       " 'very',\n",
       " 'hard-working',\n",
       " 'and',\n",
       " 'deeply',\n",
       " 'religious',\n",
       " 'people',\n",
       " 'but',\n",
       " 'so',\n",
       " 'poor',\n",
       " 'that',\n",
       " 'they',\n",
       " 'lived',\n",
       " 'with',\n",
       " 'their',\n",
       " 'five',\n",
       " 'children',\n",
       " 'in',\n",
       " 'only',\n",
       " 'two',\n",
       " 'rooms',\n",
       " 'The',\n",
       " 'father',\n",
       " 'and',\n",
       " 'mother',\n",
       " 'spent',\n",
       " 'their',\n",
       " 'evenings',\n",
       " 'in',\n",
       " 'reading',\n",
       " 'aloud',\n",
       " 'to',\n",
       " 'their',\n",
       " 'children',\n",
       " 'generally',\n",
       " 'from',\n",
       " 'books',\n",
       " 'of',\n",
       " 'a',\n",
       " 'serious',\n",
       " 'character',\n",
       " 'Though',\n",
       " 'always',\n",
       " 'sickly',\n",
       " 'and',\n",
       " 'delicate',\n",
       " 'Dostoevsky',\n",
       " 'came',\n",
       " 'out',\n",
       " 'third',\n",
       " 'in',\n",
       " 'the',\n",
       " 'final',\n",
       " 'examination',\n",
       " 'of',\n",
       " 'the',\n",
       " 'Petersburg']"
      ]
     },
     "execution_count": 27,
     "metadata": {},
     "output_type": "execute_result"
    }
   ],
   "source": [
    "# apply the function to crime.txt\n",
    "crimefilter = [w for w in text if not alpha_filter(w)]\n",
    "crimefilter[:100]\n",
    "\n"
   ]
  },
  {
   "cell_type": "code",
   "execution_count": 28,
   "metadata": {
    "colab": {
     "base_uri": "https://localhost:8080/"
    },
    "id": "cLM2u7kAaMUN",
    "outputId": "68fe4f9b-0104-48a9-ca11-194ff8e565e0"
   },
   "outputs": [
    {
     "data": {
      "text/plain": [
       "10790"
      ]
     },
     "execution_count": 28,
     "metadata": {},
     "output_type": "execute_result"
    }
   ],
   "source": [
    "# What does this code do?\n",
    "len(set(crimefilter))\n"
   ]
  },
  {
   "cell_type": "code",
   "execution_count": 30,
   "metadata": {
    "colab": {
     "base_uri": "https://localhost:8080/"
    },
    "id": "ZoABRzkDaZrD",
    "outputId": "82293eb0-ee5f-4604-f953-e78ac43f6a31"
   },
   "outputs": [
    {
     "name": "stderr",
     "output_type": "stream",
     "text": [
      "[nltk_data] Downloading package stopwords to /root/nltk_data...\n",
      "[nltk_data]   Unzipping corpora/stopwords.zip.\n"
     ]
    },
    {
     "data": {
      "text/plain": [
       "179"
      ]
     },
     "execution_count": 30,
     "metadata": {},
     "output_type": "execute_result"
    }
   ],
   "source": [
    "##  get a list of stopwords from nltk\n",
    "from nltk.corpus import *\n",
    "nltkstopwords = nltk.corpus.stopwords.words('english')\n",
    "len(nltkstopwords)\n"
   ]
  },
  {
   "cell_type": "code",
   "execution_count": 31,
   "metadata": {
    "colab": {
     "base_uri": "https://localhost:8080/"
    },
    "id": "JHNq_q5dalfu",
    "outputId": "6175541e-1163-4fd0-b5c8-9e82d41065fb"
   },
   "outputs": [
    {
     "data": {
      "text/plain": [
       "['i',\n",
       " 'me',\n",
       " 'my',\n",
       " 'myself',\n",
       " 'we',\n",
       " 'our',\n",
       " 'ours',\n",
       " 'ourselves',\n",
       " 'you',\n",
       " \"you're\",\n",
       " \"you've\",\n",
       " \"you'll\",\n",
       " \"you'd\",\n",
       " 'your',\n",
       " 'yours',\n",
       " 'yourself',\n",
       " 'yourselves',\n",
       " 'he',\n",
       " 'him',\n",
       " 'his',\n",
       " 'himself',\n",
       " 'she',\n",
       " \"she's\",\n",
       " 'her',\n",
       " 'hers',\n",
       " 'herself',\n",
       " 'it',\n",
       " \"it's\",\n",
       " 'its',\n",
       " 'itself',\n",
       " 'they',\n",
       " 'them',\n",
       " 'their',\n",
       " 'theirs',\n",
       " 'themselves',\n",
       " 'what',\n",
       " 'which',\n",
       " 'who',\n",
       " 'whom',\n",
       " 'this',\n",
       " 'that',\n",
       " \"that'll\",\n",
       " 'these',\n",
       " 'those',\n",
       " 'am',\n",
       " 'is',\n",
       " 'are',\n",
       " 'was',\n",
       " 'were',\n",
       " 'be',\n",
       " 'been',\n",
       " 'being',\n",
       " 'have',\n",
       " 'has',\n",
       " 'had',\n",
       " 'having',\n",
       " 'do',\n",
       " 'does',\n",
       " 'did',\n",
       " 'doing',\n",
       " 'a',\n",
       " 'an',\n",
       " 'the',\n",
       " 'and',\n",
       " 'but',\n",
       " 'if',\n",
       " 'or',\n",
       " 'because',\n",
       " 'as',\n",
       " 'until',\n",
       " 'while',\n",
       " 'of',\n",
       " 'at',\n",
       " 'by',\n",
       " 'for',\n",
       " 'with',\n",
       " 'about',\n",
       " 'against',\n",
       " 'between',\n",
       " 'into',\n",
       " 'through',\n",
       " 'during',\n",
       " 'before',\n",
       " 'after',\n",
       " 'above',\n",
       " 'below',\n",
       " 'to',\n",
       " 'from',\n",
       " 'up',\n",
       " 'down',\n",
       " 'in',\n",
       " 'out',\n",
       " 'on',\n",
       " 'off',\n",
       " 'over',\n",
       " 'under',\n",
       " 'again',\n",
       " 'further',\n",
       " 'then',\n",
       " 'once',\n",
       " 'here',\n",
       " 'there',\n",
       " 'when',\n",
       " 'where',\n",
       " 'why',\n",
       " 'how',\n",
       " 'all',\n",
       " 'any',\n",
       " 'both',\n",
       " 'each',\n",
       " 'few',\n",
       " 'more',\n",
       " 'most',\n",
       " 'other',\n",
       " 'some',\n",
       " 'such',\n",
       " 'no',\n",
       " 'nor',\n",
       " 'not',\n",
       " 'only',\n",
       " 'own',\n",
       " 'same',\n",
       " 'so',\n",
       " 'than',\n",
       " 'too',\n",
       " 'very',\n",
       " 's',\n",
       " 't',\n",
       " 'can',\n",
       " 'will',\n",
       " 'just',\n",
       " 'don',\n",
       " \"don't\",\n",
       " 'should',\n",
       " \"should've\",\n",
       " 'now',\n",
       " 'd',\n",
       " 'll',\n",
       " 'm',\n",
       " 'o',\n",
       " 're',\n",
       " 've',\n",
       " 'y',\n",
       " 'ain',\n",
       " 'aren',\n",
       " \"aren't\",\n",
       " 'couldn',\n",
       " \"couldn't\",\n",
       " 'didn',\n",
       " \"didn't\",\n",
       " 'doesn',\n",
       " \"doesn't\",\n",
       " 'hadn',\n",
       " \"hadn't\",\n",
       " 'hasn',\n",
       " \"hasn't\",\n",
       " 'haven',\n",
       " \"haven't\",\n",
       " 'isn',\n",
       " \"isn't\",\n",
       " 'ma',\n",
       " 'mightn',\n",
       " \"mightn't\",\n",
       " 'mustn',\n",
       " \"mustn't\",\n",
       " 'needn',\n",
       " \"needn't\",\n",
       " 'shan',\n",
       " \"shan't\",\n",
       " 'shouldn',\n",
       " \"shouldn't\",\n",
       " 'wasn',\n",
       " \"wasn't\",\n",
       " 'weren',\n",
       " \"weren't\",\n",
       " 'won',\n",
       " \"won't\",\n",
       " 'wouldn',\n",
       " \"wouldn't\"]"
      ]
     },
     "execution_count": 31,
     "metadata": {},
     "output_type": "execute_result"
    }
   ],
   "source": [
    "# let's check out those stopwords \n",
    "nltkstopwords"
   ]
  },
  {
   "cell_type": "code",
   "execution_count": 32,
   "metadata": {
    "id": "gbNsOh1Ea4eb"
   },
   "outputs": [],
   "source": [
    "#self define more stopwords \n",
    "morestopwords = ['could','would','might','must','need','sha','wo','y',\"'s\",\"'d\",\"'ll\",\"'t\",\"'m\",\"'re\",\"'ve\", \"n't\"]"
   ]
  },
  {
   "cell_type": "code",
   "execution_count": 33,
   "metadata": {
    "colab": {
     "base_uri": "https://localhost:8080/"
    },
    "id": "um9QnBkHa98Y",
    "outputId": "c43ab761-2079-42d4-e7ec-a682f09dc192"
   },
   "outputs": [
    {
     "data": {
      "text/plain": [
       "195"
      ]
     },
     "execution_count": 33,
     "metadata": {},
     "output_type": "execute_result"
    }
   ],
   "source": [
    "stopwords = nltkstopwords + morestopwords\n",
    "len(stopwords)"
   ]
  },
  {
   "cell_type": "code",
   "execution_count": 34,
   "metadata": {
    "colab": {
     "base_uri": "https://localhost:8080/"
    },
    "id": "ncpXS2V1a_aw",
    "outputId": "bdd0d7b5-7ce6-46a4-c86f-97ce97c02530"
   },
   "outputs": [
    {
     "data": {
      "text/plain": [
       "10633"
      ]
     },
     "execution_count": 34,
     "metadata": {},
     "output_type": "execute_result"
    }
   ],
   "source": [
    "# remove all the stop words from crime.txt\n",
    "stoppedcrimewords = [w for w in crimefilter if not w in stopwords]\n",
    "len(set(stoppedcrimewords))\n"
   ]
  },
  {
   "cell_type": "code",
   "execution_count": null,
   "metadata": {
    "id": "xOi0QZNBbBQg"
   },
   "outputs": [],
   "source": [
    "# final words: you'll need to remove stopwords in your first individual assignment."
   ]
  },
  {
   "cell_type": "markdown",
   "metadata": {},
   "source": [
    "--------------------------------------------------------------------------------------------------------"
   ]
  },
  {
   "cell_type": "code",
   "execution_count": 11,
   "metadata": {},
   "outputs": [
    {
     "data": {
      "text/plain": [
       "1364"
      ]
     },
     "execution_count": 11,
     "metadata": {},
     "output_type": "execute_result"
    }
   ],
   "source": [
    "# Weekly Lab 4\n",
    "\n",
    "# import and prepare txt file\n",
    "import nltk\n",
    "from nltk.tokenize import *\n",
    "\n",
    "w = open('Lab 4.txt')\n",
    "raw = w.read()\n",
    "tokens = word_tokenize(raw)\n",
    "text = nltk.Text(tokens)\n",
    "w.close()\n",
    "len(text)"
   ]
  },
  {
   "cell_type": "code",
   "execution_count": 12,
   "metadata": {},
   "outputs": [],
   "source": [
    "# Two steamers in ntlk: Porter and Lancaster\n",
    "porter = nltk.PorterStemmer()\n",
    "lancaster = nltk.LancasterStemmer()"
   ]
  },
  {
   "cell_type": "code",
   "execution_count": 16,
   "metadata": {},
   "outputs": [
    {
     "data": {
      "text/plain": [
       "['when',\n",
       " 'they',\n",
       " 'were',\n",
       " 'still',\n",
       " 'in',\n",
       " 'canada',\n",
       " ',',\n",
       " 'plan',\n",
       " 'their',\n",
       " 'trip',\n",
       " ',',\n",
       " 'they',\n",
       " 'expect',\n",
       " 'they',\n",
       " 'would',\n",
       " 'feel',\n",
       " 'lone',\n",
       " '.',\n",
       " 'but',\n",
       " 'after',\n",
       " 'two',\n",
       " 'day',\n",
       " 'into',\n",
       " 'the',\n",
       " '1,200',\n",
       " 'kilometr',\n",
       " 'journey',\n",
       " ',',\n",
       " 'the',\n",
       " 'caravan',\n",
       " 'ha',\n",
       " 'won',\n",
       " 'celebr',\n",
       " 'statu',\n",
       " 'among',\n",
       " 'the',\n",
       " 'nativ',\n",
       " 'bedouin',\n",
       " 'peopl',\n",
       " 'and']"
      ]
     },
     "execution_count": 16,
     "metadata": {},
     "output_type": "execute_result"
    }
   ],
   "source": [
    "Pstem = [porter.stem(t) for t in text]\n",
    "Pstem[35:75]"
   ]
  },
  {
   "cell_type": "code",
   "execution_count": 15,
   "metadata": {},
   "outputs": [
    {
     "data": {
      "text/plain": [
       "['when',\n",
       " 'they',\n",
       " 'wer',\n",
       " 'stil',\n",
       " 'in',\n",
       " 'canad',\n",
       " ',',\n",
       " 'plan',\n",
       " 'their',\n",
       " 'trip',\n",
       " ',',\n",
       " 'they',\n",
       " 'expect',\n",
       " 'they',\n",
       " 'would',\n",
       " 'feel',\n",
       " 'lon',\n",
       " '.',\n",
       " 'but',\n",
       " 'aft',\n",
       " 'two',\n",
       " 'day',\n",
       " 'into',\n",
       " 'the',\n",
       " '1,200',\n",
       " 'kilomet',\n",
       " 'journey',\n",
       " ',',\n",
       " 'the',\n",
       " 'carav',\n",
       " 'has',\n",
       " 'won',\n",
       " 'celebr',\n",
       " 'stat',\n",
       " 'among',\n",
       " 'the',\n",
       " 'nat',\n",
       " 'bedouin',\n",
       " 'peopl',\n",
       " 'and']"
      ]
     },
     "execution_count": 15,
     "metadata": {},
     "output_type": "execute_result"
    }
   ],
   "source": [
    "Lstem = [lancaster.stem(t) for t in text]\n",
    "Lstem[35:75]"
   ]
  }
 ],
 "metadata": {
  "colab": {
   "provenance": []
  },
  "kernelspec": {
   "display_name": "Python 3 (ipykernel)",
   "language": "python",
   "name": "python3"
  },
  "language_info": {
   "codemirror_mode": {
    "name": "ipython",
    "version": 3
   },
   "file_extension": ".py",
   "mimetype": "text/x-python",
   "name": "python",
   "nbconvert_exporter": "python",
   "pygments_lexer": "ipython3",
   "version": "3.10.6"
  }
 },
 "nbformat": 4,
 "nbformat_minor": 1
}
