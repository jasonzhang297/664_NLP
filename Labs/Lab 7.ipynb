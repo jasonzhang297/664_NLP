{
 "cells": [
  {
   "cell_type": "markdown",
   "metadata": {
    "id": "Y5vu_UsvRt9s"
   },
   "source": [
    "# Lab: Sentiment Classification on Sentences from the Movie Reviews"
   ]
  },
  {
   "cell_type": "code",
   "execution_count": 3,
   "metadata": {
    "id": "YWNOabf4R0Ap"
   },
   "outputs": [],
   "source": [
    "import nltk"
   ]
  },
  {
   "cell_type": "markdown",
   "metadata": {
    "id": "o8L4SFMwR3yk"
   },
   "source": [
    "## Task 1: Get to know the sentence_polarity corpus"
   ]
  },
  {
   "cell_type": "code",
   "execution_count": 2,
   "metadata": {
    "id": "r1wGAGnJR1ib"
   },
   "outputs": [],
   "source": [
    "# movie review sentences\n",
    "from nltk.corpus import sentence_polarity\n",
    "import random\n"
   ]
  },
  {
   "cell_type": "code",
   "execution_count": 4,
   "metadata": {
    "colab": {
     "base_uri": "https://localhost:8080/"
    },
    "id": "AxiIgHU5R7S4",
    "outputId": "e668a848-93cc-43fb-a2e6-c02bee0d0fbf"
   },
   "outputs": [
    {
     "name": "stdout",
     "output_type": "stream",
     "text": [
      "[['simplistic', ',', 'silly', 'and', 'tedious', '.'], [\"it's\", 'so', 'laddish', 'and', 'juvenile', ',', 'only', 'teenage', 'boys', 'could', 'possibly', 'find', 'it', 'funny', '.'], ...]\n",
      "10662\n",
      "['neg', 'pos']\n"
     ]
    }
   ],
   "source": [
    "# get the sentence corpus and look at some sentences\n",
    "sentences = sentence_polarity.sents()\n",
    "print(sentences)\n",
    "print(len(sentences))\n",
    "print(sentence_polarity.categories())"
   ]
  },
  {
   "cell_type": "code",
   "execution_count": 8,
   "metadata": {
    "colab": {
     "base_uri": "https://localhost:8080/"
    },
    "id": "xDsbtdTWR9jD",
    "outputId": "f363185a-e0e9-45e1-d18d-185d0f0a3c19"
   },
   "outputs": [
    {
     "name": "stdout",
     "output_type": "stream",
     "text": [
      "['simplistic', ',', 'silly', 'and', 'tedious', '.']\n",
      "[\"it's\", 'so', 'laddish', 'and', 'juvenile', ',', 'only', 'teenage', 'boys', 'could', 'possibly', 'find', 'it', 'funny', '.']\n",
      "['exploitative', 'and', 'largely', 'devoid', 'of', 'the', 'depth', 'or', 'sophistication', 'that', 'would', 'make', 'watching', 'such', 'a', 'graphic', 'treatment', 'of', 'the', 'crimes', 'bearable', '.']\n",
      "['[garbus]', 'discards', 'the', 'potential', 'for', 'pathological', 'study', ',', 'exhuming', 'instead', ',', 'the', 'skewed', 'melodrama', 'of', 'the', 'circumstantial', 'situation', '.']\n"
     ]
    }
   ],
   "source": [
    "# sentences are already tokenized, print the first four sentences\n",
    "for sent in sentences[:4]:\n",
    "    print(sent)"
   ]
  },
  {
   "cell_type": "code",
   "execution_count": 9,
   "metadata": {
    "colab": {
     "base_uri": "https://localhost:8080/"
    },
    "id": "VM5xWWeASJwD",
    "outputId": "f0b2a015-3452-4dab-d116-0263931ecac6"
   },
   "outputs": [
    {
     "name": "stdout",
     "output_type": "stream",
     "text": [
      "5331\n",
      "5331\n"
     ]
    }
   ],
   "source": [
    "# look at the sentences by category to see how many positive and negative\n",
    "pos_sents = sentence_polarity.sents(categories='pos')\n",
    "print(len(pos_sents))\n",
    "neg_sents = sentence_polarity.sents(categories='neg')\n",
    "print(len(neg_sents))"
   ]
  },
  {
   "cell_type": "markdown",
   "metadata": {
    "id": "5aDcy8AMSWQE"
   },
   "source": [
    "## Task 2: setup the movie reviews sentences for classification"
   ]
  },
  {
   "cell_type": "code",
   "execution_count": 10,
   "metadata": {
    "id": "9Szb4AFySZEh"
   },
   "outputs": [],
   "source": [
    "# create a list of documents, each document is one sentence as a list of words paired with category\n",
    "documents = [(sent, cat) for cat in sentence_polarity.categories() \n",
    "\tfor sent in sentence_polarity.sents(categories=cat)]\n"
   ]
  },
  {
   "cell_type": "code",
   "execution_count": 12,
   "metadata": {
    "colab": {
     "base_uri": "https://localhost:8080/"
    },
    "id": "Z5xEsXfxSlap",
    "outputId": "76b59c28-308e-40d6-ebcf-8c6a864e6322"
   },
   "outputs": [
    {
     "name": "stdout",
     "output_type": "stream",
     "text": [
      "(['simplistic', ',', 'silly', 'and', 'tedious', '.'], 'neg')\n",
      "(['provides', 'a', 'porthole', 'into', 'that', 'noble', ',', 'trembling', 'incoherence', 'that', 'defines', 'us', 'all', '.'], 'pos')\n"
     ]
    }
   ],
   "source": [
    "# look at the first and last documents - consists of all the words in the review\n",
    "# followed by the category\n",
    "print(documents[0])\n",
    "print(documents[-1])\n"
   ]
  },
  {
   "cell_type": "code",
   "execution_count": 13,
   "metadata": {
    "id": "9xmI4IdNSl2H"
   },
   "outputs": [],
   "source": [
    "# randomly reorder documents\n",
    "random.shuffle(documents)"
   ]
  },
  {
   "cell_type": "code",
   "execution_count": 14,
   "metadata": {
    "id": "7eTIJN7DSwU7"
   },
   "outputs": [],
   "source": [
    "# get all words from all movie_reviews and put into a frequency distribution\n",
    "#   note lowercase, but no stemming or stopwords\n",
    "all_words_list = [word for (sent,cat) in documents for word in sent]\n",
    "all_words = nltk.FreqDist(all_words_list)\n"
   ]
  },
  {
   "cell_type": "code",
   "execution_count": 15,
   "metadata": {
    "colab": {
     "base_uri": "https://localhost:8080/"
    },
    "id": "M03rFA_DS4Rz",
    "outputId": "12468954-a1bb-4f75-e1ac-0565ce018293"
   },
   "outputs": [
    {
     "name": "stdout",
     "output_type": "stream",
     "text": [
      "['.', 'the', ',', 'a', 'and', 'of', 'to', 'is', 'in', 'that', 'it', 'as', 'but', 'with', 'film', 'this', 'for', 'its', 'an', 'movie', \"it's\", 'be', 'on', 'you', 'not', 'by', 'about', 'more', 'one', 'like', 'has', 'are', 'at', 'from', 'than', '\"', 'all', '--', 'his', 'have', 'so', 'if', 'or', 'story', 'i', 'too', 'just', 'who', 'into', 'what']\n"
     ]
    }
   ],
   "source": [
    "# get the 2000 most frequently appearing keywords in the corpus\n",
    "word_items = all_words.most_common(2000)\n",
    "word_features = [word for (word,count) in word_items]\n",
    "print(word_features[:50])"
   ]
  },
  {
   "cell_type": "markdown",
   "metadata": {
    "id": "-jgxQo28TEsy"
   },
   "source": [
    "## Task 3: sentiment classification \n"
   ]
  },
  {
   "cell_type": "code",
   "execution_count": 16,
   "metadata": {
    "id": "9zvQe6pITId3"
   },
   "outputs": [],
   "source": [
    "# define features (keywords) of a document by using just the words, or a BOW/unigram baseline\n",
    "# each feature is 'contains(keyword)' and is true or false depending on whether that keyword is in the document\n",
    "def document_features(document, word_features):\n",
    "    document_words = set(document)\n",
    "    features = {}\n",
    "    for word in word_features:\n",
    "        features['V_{}'.format(word)] = (word in document_words)\n",
    "    return features\n"
   ]
  },
  {
   "cell_type": "code",
   "execution_count": 17,
   "metadata": {
    "id": "VU7bPPcYTo8H"
   },
   "outputs": [],
   "source": [
    "# get features sets for a document, including keyword features and category feature\n",
    "featuresets = [(document_features(d, word_features), c) for (d, c) in documents]\n"
   ]
  },
  {
   "cell_type": "code",
   "execution_count": 18,
   "metadata": {
    "colab": {
     "base_uri": "https://localhost:8080/"
    },
    "id": "7K2oKzNaTqyj",
    "outputId": "c2dd4064-9422-4611-f03e-200b98deff71"
   },
   "outputs": [
    {
     "data": {
      "text/plain": [
       "({'V_.': True,\n",
       "  'V_the': True,\n",
       "  'V_,': True,\n",
       "  'V_a': False,\n",
       "  'V_and': True,\n",
       "  'V_of': True,\n",
       "  'V_to': True,\n",
       "  'V_is': False,\n",
       "  'V_in': False,\n",
       "  'V_that': True,\n",
       "  'V_it': False,\n",
       "  'V_as': False,\n",
       "  'V_but': False,\n",
       "  'V_with': True,\n",
       "  'V_film': True,\n",
       "  'V_this': False,\n",
       "  'V_for': False,\n",
       "  'V_its': False,\n",
       "  'V_an': False,\n",
       "  'V_movie': False,\n",
       "  \"V_it's\": False,\n",
       "  'V_be': False,\n",
       "  'V_on': False,\n",
       "  'V_you': False,\n",
       "  'V_not': False,\n",
       "  'V_by': False,\n",
       "  'V_about': False,\n",
       "  'V_more': True,\n",
       "  'V_one': False,\n",
       "  'V_like': False,\n",
       "  'V_has': False,\n",
       "  'V_are': False,\n",
       "  'V_at': False,\n",
       "  'V_from': False,\n",
       "  'V_than': False,\n",
       "  'V_\"': False,\n",
       "  'V_all': False,\n",
       "  'V_--': False,\n",
       "  'V_his': False,\n",
       "  'V_have': False,\n",
       "  'V_so': False,\n",
       "  'V_if': False,\n",
       "  'V_or': False,\n",
       "  'V_story': False,\n",
       "  'V_i': False,\n",
       "  'V_too': False,\n",
       "  'V_just': False,\n",
       "  'V_who': False,\n",
       "  'V_into': False,\n",
       "  'V_what': False,\n",
       "  'V_most': False,\n",
       "  'V_out': False,\n",
       "  'V_no': False,\n",
       "  'V_much': False,\n",
       "  'V_even': False,\n",
       "  'V_good': False,\n",
       "  'V_up': False,\n",
       "  'V_will': False,\n",
       "  'V_comedy': False,\n",
       "  'V_time': False,\n",
       "  'V_can': False,\n",
       "  'V_some': False,\n",
       "  'V_characters': False,\n",
       "  'V_only': False,\n",
       "  'V_little': False,\n",
       "  'V_way': False,\n",
       "  'V_their': True,\n",
       "  'V_funny': False,\n",
       "  'V_make': False,\n",
       "  'V_enough': False,\n",
       "  'V_been': False,\n",
       "  'V_very': False,\n",
       "  'V_your': False,\n",
       "  'V_never': False,\n",
       "  'V_when': False,\n",
       "  'V_makes': True,\n",
       "  'V_there': False,\n",
       "  'V_may': False,\n",
       "  'V_us': False,\n",
       "  'V_which': False,\n",
       "  'V_work': False,\n",
       "  'V_best': False,\n",
       "  'V_he': False,\n",
       "  'V_bad': False,\n",
       "  'V_director': False,\n",
       "  \"V_doesn't\": False,\n",
       "  'V_)': False,\n",
       "  'V_any': False,\n",
       "  'V_?': False,\n",
       "  'V_(': False,\n",
       "  'V_love': False,\n",
       "  'V_would': False,\n",
       "  'V_life': False,\n",
       "  'V_they': False,\n",
       "  'V_while': False,\n",
       "  'V_:': False,\n",
       "  'V_we': False,\n",
       "  'V_was': False,\n",
       "  'V_movies': False,\n",
       "  \"V_there's\": False,\n",
       "  'V_her': False,\n",
       "  'V_new': False,\n",
       "  'V_well': False,\n",
       "  'V_through': False,\n",
       "  'V_could': False,\n",
       "  'V_really': False,\n",
       "  'V_something': False,\n",
       "  'V_how': False,\n",
       "  'V_made': False,\n",
       "  'V_them': False,\n",
       "  'V_own': False,\n",
       "  'V_performances': False,\n",
       "  'V_does': False,\n",
       "  'V_drama': False,\n",
       "  'V_should': False,\n",
       "  \"V_that's\": False,\n",
       "  'V_many': False,\n",
       "  'V_those': False,\n",
       "  'V_look': False,\n",
       "  'V_films': False,\n",
       "  'V_plot': False,\n",
       "  \"V_isn't\": False,\n",
       "  'V_every': False,\n",
       "  'V_still': False,\n",
       "  'V_see': False,\n",
       "  'V_two': False,\n",
       "  'V_nothing': False,\n",
       "  'V_people': False,\n",
       "  'V_better': False,\n",
       "  'V_without': False,\n",
       "  'V_long': False,\n",
       "  'V_other': False,\n",
       "  'V_fun': False,\n",
       "  'V_get': False,\n",
       "  'V_off': False,\n",
       "  'V_action': False,\n",
       "  'V_being': False,\n",
       "  'V_both': True,\n",
       "  'V_great': False,\n",
       "  'V_though': False,\n",
       "  'V_might': False,\n",
       "  'V_big': False,\n",
       "  \"V_'\": False,\n",
       "  'V_also': False,\n",
       "  'V_another': False,\n",
       "  'V_cast': False,\n",
       "  'V_do': False,\n",
       "  'V_humor': False,\n",
       "  'V_between': False,\n",
       "  'V_kind': False,\n",
       "  'V_audience': False,\n",
       "  'V_first': False,\n",
       "  'V_sense': False,\n",
       "  'V_such': False,\n",
       "  'V_over': False,\n",
       "  'V_character': False,\n",
       "  'V_ever': False,\n",
       "  \"V_don't\": False,\n",
       "  'V_feels': False,\n",
       "  'V_performance': False,\n",
       "  'V_;': False,\n",
       "  'V_few': False,\n",
       "  'V_script': False,\n",
       "  'V_because': False,\n",
       "  \"V_film's\": False,\n",
       "  'V_here': False,\n",
       "  'V_far': False,\n",
       "  'V_often': False,\n",
       "  'V_thing': False,\n",
       "  'V_less': False,\n",
       "  'V_seems': False,\n",
       "  'V_minutes': False,\n",
       "  'V_real': False,\n",
       "  'V_feel': False,\n",
       "  'V_picture': False,\n",
       "  'V_almost': False,\n",
       "  'V_tale': False,\n",
       "  'V_thriller': False,\n",
       "  'V_world': False,\n",
       "  \"V_can't\": False,\n",
       "  'V_quite': False,\n",
       "  'V_down': False,\n",
       "  'V_documentary': False,\n",
       "  'V_yet': False,\n",
       "  'V_interesting': False,\n",
       "  'V_!': False,\n",
       "  'V_entertaining': False,\n",
       "  'V_these': False,\n",
       "  'V_my': False,\n",
       "  'V_screen': False,\n",
       "  'V_rather': False,\n",
       "  \"V_you're\": False,\n",
       "  'V_end': False,\n",
       "  'V_itself': False,\n",
       "  'V_full': False,\n",
       "  'V_hollywood': False,\n",
       "  'V_seen': False,\n",
       "  'V_take': False,\n",
       "  'V_watching': False,\n",
       "  'V_ultimately': False,\n",
       "  'V_hard': False,\n",
       "  'V_go': False,\n",
       "  'V_heart': False,\n",
       "  'V_de': False,\n",
       "  'V_comes': False,\n",
       "  'V_moments': False,\n",
       "  'V_romantic': False,\n",
       "  'V_despite': False,\n",
       "  'V_lot': False,\n",
       "  'V_american': False,\n",
       "  'V_were': False,\n",
       "  'V_after': False,\n",
       "  'V_me': False,\n",
       "  'V_where': False,\n",
       "  'V_before': False,\n",
       "  'V_family': False,\n",
       "  'V_acting': False,\n",
       "  'V_had': False,\n",
       "  'V_then': False,\n",
       "  'V_original': False,\n",
       "  'V_old': False,\n",
       "  'V_right': False,\n",
       "  'V_find': False,\n",
       "  'V_human': False,\n",
       "  'V_worth': False,\n",
       "  'V_gets': False,\n",
       "  'V_same': False,\n",
       "  'V_takes': False,\n",
       "  'V_things': False,\n",
       "  'V_times': False,\n",
       "  'V_come': False,\n",
       "  'V_dialogue': False,\n",
       "  'V_man': False,\n",
       "  'V_scenes': False,\n",
       "  'V_watch': False,\n",
       "  'V_actors': False,\n",
       "  'V_back': False,\n",
       "  'V_our': False,\n",
       "  'V_material': False,\n",
       "  'V_compelling': False,\n",
       "  'V_young': False,\n",
       "  'V_once': False,\n",
       "  'V_music': False,\n",
       "  'V_works': False,\n",
       "  'V_years': False,\n",
       "  'V_emotional': False,\n",
       "  'V_think': False,\n",
       "  'V_seem': False,\n",
       "  'V_anyone': False,\n",
       "  'V_gives': False,\n",
       "  'V_want': False,\n",
       "  'V_least': False,\n",
       "  'V_know': False,\n",
       "  'V_going': False,\n",
       "  'V_part': False,\n",
       "  'V_say': False,\n",
       "  'V_sometimes': False,\n",
       "  'V_piece': False,\n",
       "  'V_again': False,\n",
       "  'V_entertainment': False,\n",
       "  'V_cinematic': False,\n",
       "  'V_kids': False,\n",
       "  'V_subject': False,\n",
       "  'V_last': False,\n",
       "  'V_give': False,\n",
       "  'V_point': False,\n",
       "  'V_pretty': False,\n",
       "  \"V_you'll\": False,\n",
       "  'V_making': False,\n",
       "  'V_bit': False,\n",
       "  'V_keep': False,\n",
       "  'V_special': False,\n",
       "  'V_whole': False,\n",
       "  'V_dull': False,\n",
       "  'V_cinema': False,\n",
       "  'V_why': False,\n",
       "  'V_fascinating': False,\n",
       "  'V_together': False,\n",
       "  'V_fans': False,\n",
       "  'V_anything': False,\n",
       "  'V_year': False,\n",
       "  'V_-': False,\n",
       "  'V_since': False,\n",
       "  'V_moving': False,\n",
       "  'V_away': False,\n",
       "  'V_style': False,\n",
       "  'V_need': False,\n",
       "  'V_manages': False,\n",
       "  'V_show': False,\n",
       "  'V_true': False,\n",
       "  'V_laughs': False,\n",
       "  'V_star': False,\n",
       "  'V_experience': False,\n",
       "  'V_always': False,\n",
       "  'V_sweet': False,\n",
       "  'V_offers': False,\n",
       "  'V_history': False,\n",
       "  'V_clever': False,\n",
       "  'V_simply': False,\n",
       "  'V_mr': False,\n",
       "  'V_direction': False,\n",
       "  'V_high': False,\n",
       "  'V_dark': False,\n",
       "  'V_instead': False,\n",
       "  'V_silly': False,\n",
       "  'V_care': False,\n",
       "  'V_predictable': False,\n",
       "  'V_actually': False,\n",
       "  'V_him': False,\n",
       "  'V_charm': False,\n",
       "  'V_whose': False,\n",
       "  'V_art': False,\n",
       "  'V_flick': False,\n",
       "  'V_everything': False,\n",
       "  'V_nearly': False,\n",
       "  'V_visual': False,\n",
       "  'V_matter': False,\n",
       "  'V_series': False,\n",
       "  'V_around': False,\n",
       "  'V_title': False,\n",
       "  'V_comic': True,\n",
       "  'V_place': False,\n",
       "  'V_video': False,\n",
       "  'V_idea': False,\n",
       "  'V_narrative': False,\n",
       "  \"V_he's\": False,\n",
       "  'V_done': False,\n",
       "  'V_trying': False,\n",
       "  'V_short': False,\n",
       "  'V_war': False,\n",
       "  'V_goes': False,\n",
       "  'V_screenplay': False,\n",
       "  'V_now': False,\n",
       "  'V_genre': False,\n",
       "  'V_probably': False,\n",
       "  'V_women': False,\n",
       "  'V_plays': False,\n",
       "  'V_premise': False,\n",
       "  'V_under': False,\n",
       "  'V_familiar': False,\n",
       "  \"V_movie's\": False,\n",
       "  'V_enjoyable': False,\n",
       "  'V_turns': False,\n",
       "  'V_horror': False,\n",
       "  'V_although': False,\n",
       "  'V_becomes': False,\n",
       "  'V_set': False,\n",
       "  'V_home': False,\n",
       "  'V_three': False,\n",
       "  'V_filmmakers': False,\n",
       "  'V_engaging': False,\n",
       "  'V_she': False,\n",
       "  'V_lacks': False,\n",
       "  'V_feeling': False,\n",
       "  'V_feature': False,\n",
       "  'V_worst': False,\n",
       "  'V_smart': False,\n",
       "  'V_power': False,\n",
       "  'V_effects': False,\n",
       "  \"V_won't\": False,\n",
       "  'V_enjoy': False,\n",
       "  'V_study': False,\n",
       "  'V_especially': False,\n",
       "  'V_intelligent': False,\n",
       "  'V_strong': False,\n",
       "  'V_day': False,\n",
       "  'V_amusing': False,\n",
       "  'V_ending': False,\n",
       "  'V_effort': False,\n",
       "  'V_half': False,\n",
       "  'V_charming': False,\n",
       "  'V_likely': False,\n",
       "  'V_debut': False,\n",
       "  'V_lack': False,\n",
       "  'V_boring': False,\n",
       "  'V_theater': False,\n",
       "  'V_portrait': False,\n",
       "  'V_john': False,\n",
       "  'V_romance': False,\n",
       "  'V_men': False,\n",
       "  'V_each': False,\n",
       "  'V_beautiful': False,\n",
       "  'V_sort': False,\n",
       "  'V_put': False,\n",
       "  \"V_what's\": False,\n",
       "  'V_certainly': False,\n",
       "  'V_mostly': False,\n",
       "  'V_version': False,\n",
       "  'V_else': False,\n",
       "  \"V_you've\": False,\n",
       "  'V_level': False,\n",
       "  'V_next': False,\n",
       "  'V_surprisingly': False,\n",
       "  'V_problem': False,\n",
       "  'V_beautifully': False,\n",
       "  'V_looking': False,\n",
       "  'V_become': False,\n",
       "  'V_message': False,\n",
       "  'V_easy': False,\n",
       "  'V_wit': False,\n",
       "  'V_hours': False,\n",
       "  'V_solid': False,\n",
       "  'V_quirky': False,\n",
       "  'V_fine': False,\n",
       "  'V_play': False,\n",
       "  'V_rare': False,\n",
       "  'V_along': False,\n",
       "  'V_mind': False,\n",
       "  'V_exercise': False,\n",
       "  'V_lives': False,\n",
       "  'V_ideas': False,\n",
       "  'V_looks': False,\n",
       "  'V_directed': False,\n",
       "  'V_sure': False,\n",
       "  'V_whether': False,\n",
       "  'V_fresh': False,\n",
       "  'V_face': False,\n",
       "  'V_obvious': False,\n",
       "  'V_leave': False,\n",
       "  'V_mess': False,\n",
       "  'V_energy': False,\n",
       "  'V_french': False,\n",
       "  'V_either': False,\n",
       "  'V_modern': False,\n",
       "  'V_past': False,\n",
       "  'V_interest': False,\n",
       "  'V_completely': False,\n",
       "  'V_powerful': False,\n",
       "  'V_dramatic': False,\n",
       "  'V_viewers': False,\n",
       "  'V_reason': False,\n",
       "  'V_shot': False,\n",
       "  'V_classic': False,\n",
       "  'V_beyond': False,\n",
       "  'V_fact': False,\n",
       "  'V_neither': False,\n",
       "  'V_melodrama': False,\n",
       "  'V_delivers': False,\n",
       "  'V_filmmaking': False,\n",
       "  'V_shows': False,\n",
       "  'V_children': False,\n",
       "  'V_suspense': False,\n",
       "  'V_tone': False,\n",
       "  \"V_didn't\": False,\n",
       "  'V_recent': False,\n",
       "  'V_fails': False,\n",
       "  'V_stuff': False,\n",
       "  'V_left': False,\n",
       "  'V_truly': False,\n",
       "  'V_deeply': False,\n",
       "  'V_slow': False,\n",
       "  \"V_i'm\": False,\n",
       "  'V_culture': False,\n",
       "  'V_everyone': False,\n",
       "  'V_believe': False,\n",
       "  'V_intriguing': False,\n",
       "  'V_ends': False,\n",
       "  'V_actor': False,\n",
       "  'V_jokes': False,\n",
       "  'V_death': False,\n",
       "  'V_himself': False,\n",
       "  'V_serious': False,\n",
       "  'V_tries': False,\n",
       "  'V_ride': False,\n",
       "  'V_book': False,\n",
       "  'V_black': False,\n",
       "  'V_light': False,\n",
       "  'V_tv': False,\n",
       "  'V_small': False,\n",
       "  'V_touching': False,\n",
       "  'V_spirit': False,\n",
       "  'V_occasionally': False,\n",
       "  'V_production': False,\n",
       "  'V_sad': False,\n",
       "  'V_audiences': False,\n",
       "  'V_passion': False,\n",
       "  'V_remains': False,\n",
       "  'V_satisfying': False,\n",
       "  'V_formula': False,\n",
       "  'V_reality': False,\n",
       "  'V_role': False,\n",
       "  'V_exactly': False,\n",
       "  'V_camera': False,\n",
       "  'V_adventure': False,\n",
       "  'V_terrific': False,\n",
       "  'V_proves': False,\n",
       "  'V_storytelling': False,\n",
       "  'V_dumb': False,\n",
       "  'V_opera': False,\n",
       "  'V_hilarious': False,\n",
       "  'V_line': False,\n",
       "  'V_images': False,\n",
       "  'V_nor': False,\n",
       "  'V_must': False,\n",
       "  'V_already': False,\n",
       "  'V_talent': False,\n",
       "  'V_got': False,\n",
       "  'V_different': False,\n",
       "  'V_project': False,\n",
       "  'V_seeing': False,\n",
       "  'V_impossible': False,\n",
       "  'V_stories': False,\n",
       "  'V_scene': False,\n",
       "  'V_filmmaker': False,\n",
       "  'V_girl': False,\n",
       "  'V_simple': False,\n",
       "  'V_above': False,\n",
       "  'V_particularly': False,\n",
       "  'V_journey': False,\n",
       "  'V_perfect': False,\n",
       "  'V_easily': False,\n",
       "  'V_personal': False,\n",
       "  'V_attempt': False,\n",
       "  'V_gags': False,\n",
       "  'V_sex': False,\n",
       "  'V_psychological': False,\n",
       "  'V_against': False,\n",
       "  'V_honest': False,\n",
       "  'V_close': False,\n",
       "  'V_complex': False,\n",
       "  'V_animation': False,\n",
       "  'V_given': False,\n",
       "  'V_pretentious': False,\n",
       "  'V_summer': False,\n",
       "  'V_turn': False,\n",
       "  'V_pleasure': False,\n",
       "  'V_earnest': False,\n",
       "  'V_intelligence': False,\n",
       "  'V_found': False,\n",
       "  'V_falls': False,\n",
       "  'V_flat': False,\n",
       "  'V_case': False,\n",
       "  'V_ways': False,\n",
       "  'V_did': False,\n",
       "  'V_difficult': False,\n",
       "  'V_michael': False,\n",
       "  'V_hour': False,\n",
       "  'V_visually': False,\n",
       "  'V_cliches': False,\n",
       "  'V_coming-of-age': False,\n",
       "  'V_sequel': False,\n",
       "  'V_political': False,\n",
       "  'V_head': False,\n",
       "  'V_leaves': False,\n",
       "  'V_mystery': False,\n",
       "  'V_social': False,\n",
       "  'V_getting': False,\n",
       "  'V_thought': False,\n",
       "  'V_memorable': False,\n",
       "  'V_uses': False,\n",
       "  'V_written': False,\n",
       "  'V_violence': False,\n",
       "  'V_crime': False,\n",
       "  'V_que': False,\n",
       "  'V_writing': False,\n",
       "  'V_none': False,\n",
       "  'V_tell': False,\n",
       "  'V_game': False,\n",
       "  'V_overall': False,\n",
       "  'V_told': False,\n",
       "  'V_rich': False,\n",
       "  'V_help': False,\n",
       "  'V_gone': False,\n",
       "  'V_laugh': False,\n",
       "  'V_wrong': False,\n",
       "  'V_live': False,\n",
       "  'V_satire': False,\n",
       "  'V_side': False,\n",
       "  'V_keeps': False,\n",
       "  'V_brilliant': False,\n",
       "  'V_job': False,\n",
       "  'V_finally': False,\n",
       "  'V_elements': True,\n",
       "  'V_lost': False,\n",
       "  'V_spy': False,\n",
       "  'V_novel': False,\n",
       "  'V_cool': False,\n",
       "  'V_barely': False,\n",
       "  'V_contrived': False,\n",
       "  'V_otherwise': False,\n",
       "  'V_rarely': False,\n",
       "  'V_days': False,\n",
       "  'V_second': False,\n",
       "  'V_cold': False,\n",
       "  'V_boy': False,\n",
       "  'V_needs': False,\n",
       "  'V_appeal': False,\n",
       "  'V_acted': False,\n",
       "  'V_thoughtful': False,\n",
       "  'V_approach': False,\n",
       "  'V_guys': False,\n",
       "  'V_taste': False,\n",
       "  'V_o': False,\n",
       "  'V_nature': False,\n",
       "  'V_entirely': False,\n",
       "  'V_several': False,\n",
       "  'V_having': False,\n",
       "  'V_final': False,\n",
       "  'V_imagine': False,\n",
       "  'V_during': False,\n",
       "  'V_possible': False,\n",
       "  'V_starts': False,\n",
       "  'V_wonderful': False,\n",
       "  'V_surprising': False,\n",
       "  'V_wild': False,\n",
       "  'V_warm': False,\n",
       "  'V_truth': False,\n",
       "  'V_lead': False,\n",
       "  'V_perhaps': False,\n",
       "  'V_moral': False,\n",
       "  'V_eyes': False,\n",
       "  'V_excellent': False,\n",
       "  'V_fairly': False,\n",
       "  'V_concept': False,\n",
       "  'V_creepy': False,\n",
       "  'V_soap': False,\n",
       "  'V_act': False,\n",
       "  'V_y': False,\n",
       "  'V_tragedy': False,\n",
       "  'V_running': False,\n",
       "  'V_insight': False,\n",
       "  'V_mood': False,\n",
       "  'V_remarkable': False,\n",
       "  'V_form': False,\n",
       "  'V_expect': False,\n",
       "  'V_among': False,\n",
       "  'V_engrossing': False,\n",
       "  \"V_they're\": False,\n",
       "  'V_viewer': False,\n",
       "  'V_emotionally': False,\n",
       "  'V_hero': False,\n",
       "  'V_adults': False,\n",
       "  'V_others': False,\n",
       "  'V_imagination': False,\n",
       "  'V_bring': False,\n",
       "  'V_comedies': False,\n",
       "  'V_thoroughly': False,\n",
       "  'V_tedious': False,\n",
       "  'V_call': False,\n",
       "  'V_behind': False,\n",
       "  'V_david': False,\n",
       "  'V_result': False,\n",
       "  'V_themselves': False,\n",
       "  'V_attention': False,\n",
       "  'V_quality': False,\n",
       "  'V_entire': False,\n",
       "  'V_sharp': True,\n",
       "  'V_tired': False,\n",
       "  'V_animated': False,\n",
       "  'V_nice': False,\n",
       "  'V_change': False,\n",
       "  'V_sci-fi': False,\n",
       "  'V_vision': False,\n",
       "  'V_gorgeous': False,\n",
       "  'V_future': False,\n",
       "  'V_add': False,\n",
       "  'V_adaptation': False,\n",
       "  \"V_i've\": False,\n",
       "  'V_teen': False,\n",
       "  'V_genuine': False,\n",
       "  'V_usual': False,\n",
       "  'V_start': False,\n",
       "  'V_moment': False,\n",
       "  'V_quiet': False,\n",
       "  'V_epic': False,\n",
       "  \"V_you'd\": False,\n",
       "  'V_rock': False,\n",
       "  'V_witty': False,\n",
       "  'V_disney': False,\n",
       "  'V_bland': False,\n",
       "  'V_remake': False,\n",
       "  'V_knows': False,\n",
       "  'V_latest': False,\n",
       "  'V_\\x96': False,\n",
       "  'V_la': False,\n",
       "  'V_four': False,\n",
       "  'V_strange': False,\n",
       "  'V_perfectly': False,\n",
       "  'V_hope': False,\n",
       "  'V_offer': False,\n",
       "  'V_period': False,\n",
       "  'V_points': False,\n",
       "  'V_merely': False,\n",
       "  'V_deep': False,\n",
       "  'V_maybe': False,\n",
       "  'V_begins': False,\n",
       "  'V_appealing': False,\n",
       "  'V_plenty': False,\n",
       "  'V_worse': False,\n",
       "  'V_wonder': False,\n",
       "  'V_beauty': False,\n",
       "  'V_worthy': False,\n",
       "  'V_dead': False,\n",
       "  'V_until': False,\n",
       "  'V_taking': False,\n",
       "  'V_somewhat': False,\n",
       "  'V_depth': False,\n",
       "  'V_events': False,\n",
       "  'V_parents': False,\n",
       "  'V_impressive': False,\n",
       "  'V_gentle': False,\n",
       "  'V_effective': False,\n",
       "  'V_thanks': False,\n",
       "  'V_decent': False,\n",
       "  'V_important': False,\n",
       "  'V_provides': False,\n",
       "  'V_pure': False,\n",
       "  'V_emotions': False,\n",
       "  'V_lots': False,\n",
       "  \"V_year's\": False,\n",
       "  'V_hit': False,\n",
       "  'V_someone': False,\n",
       "  'V_age': False,\n",
       "  'V_stupid': False,\n",
       "  'V_however': False,\n",
       "  'V_fantasy': False,\n",
       "  'V_career': False,\n",
       "  'V_guy': False,\n",
       "  'V_ambitious': False,\n",
       "  'V_captures': False,\n",
       "  'V_clear': False,\n",
       "  'V_straight': False,\n",
       "  'V_writer-director': False,\n",
       "  'V_unfortunately': False,\n",
       "  'V_try': False,\n",
       "  'V_air': False,\n",
       "  'V_definitely': False,\n",
       "  'V_sit': False,\n",
       "  'V_awful': False,\n",
       "  'V_surprise': False,\n",
       "  'V_woman': False,\n",
       "  'V_doing': False,\n",
       "  'V_pace': False,\n",
       "  'V_able': False,\n",
       "  'V_historical': False,\n",
       "  'V_highly': False,\n",
       "  'V_school': False,\n",
       "  'V_thin': False,\n",
       "  'V_inside': False,\n",
       "  'V_welcome': False,\n",
       "  'V_ugly': False,\n",
       "  'V_scary': False,\n",
       "  'V_brings': False,\n",
       "  'V_view': False,\n",
       "  'V_suffers': False,\n",
       "  'V_pictures': False,\n",
       "  'V_utterly': False,\n",
       "  'V_subtle': False,\n",
       "  'V_ii': False,\n",
       "  'V_magic': False,\n",
       "  'V_exciting': False,\n",
       "  'V_execution': False,\n",
       "  'V_throughout': False,\n",
       "  'V_sound': False,\n",
       "  'V_run': False,\n",
       "  'V_sequences': False,\n",
       "  'V_robert': False,\n",
       "  'V_creative': False,\n",
       "  'V_examination': False,\n",
       "  'V_alone': False,\n",
       "  'V_based': False,\n",
       "  'V_coming': False,\n",
       "  'V_provocative': False,\n",
       "  'V_ensemble': False,\n",
       "  'V_sustain': False,\n",
       "  'V_relationship': False,\n",
       "  'V_certain': False,\n",
       "  'V_read': False,\n",
       "  'V_lovely': False,\n",
       "  'V_deserves': False,\n",
       "  'V_fire': False,\n",
       "  'V_cheap': False,\n",
       "  'V_process': False,\n",
       "  'V_sexual': False,\n",
       "  'V_female': False,\n",
       "  'V_potential': False,\n",
       "  'V_major': False,\n",
       "  'V_middle': False,\n",
       "  'V_tension': False,\n",
       "  'V_deal': False,\n",
       "  'V_memory': False,\n",
       "  'V_upon': False,\n",
       "  'V_cartoon': False,\n",
       "  'V_wants': False,\n",
       "  'V_city': False,\n",
       "  'V_hand': False,\n",
       "  'V_low': False,\n",
       "  'V_words': False,\n",
       "  'V_cute': False,\n",
       "  'V_chemistry': False,\n",
       "  'V_flaws': False,\n",
       "  'V_question': False,\n",
       "  'V_across': False,\n",
       "  'V_impact': False,\n",
       "  'V_felt': False,\n",
       "  'V_working': False,\n",
       "  'V_use': False,\n",
       "  'V_quickly': False,\n",
       "  'V_single': False,\n",
       "  'V_delightful': False,\n",
       "  'V_except': False,\n",
       "  'V_poignant': False,\n",
       "  'V_used': False,\n",
       "  'V_playing': False,\n",
       "  'V_cultural': False,\n",
       "  'V_puts': False,\n",
       "  'V_sentimental': False,\n",
       "  'V_master': False,\n",
       "  'V_touch': False,\n",
       "  'V_lacking': False,\n",
       "  'V_2': False,\n",
       "  'V_success': False,\n",
       "  'V_talented': False,\n",
       "  'V_sensitive': False,\n",
       "  'V_unexpected': False,\n",
       "  'V_winning': False,\n",
       "  'V_filled': False,\n",
       "  'V_creates': False,\n",
       "  'V_loud': False,\n",
       "  'V_rest': False,\n",
       "  'V_taken': False,\n",
       "  'V_flawed': False,\n",
       "  'V_situation': False,\n",
       "  'V_waste': False,\n",
       "  'V_mediocre': False,\n",
       "  'V_bond': False,\n",
       "  'V_actress': False,\n",
       "  'V_yes': False,\n",
       "  'V_murder': False,\n",
       "  'V_generic': False,\n",
       "  'V_odd': False,\n",
       "  'V_force': False,\n",
       "  'V_stand': False,\n",
       "  'V_unfunny': False,\n",
       "  'V_hell': False,\n",
       "  'V_hardly': False,\n",
       "  'V_surprises': False,\n",
       "  'V_remember': False,\n",
       "  'V_mildly': False,\n",
       "  'V_saw': False,\n",
       "  'V_weird': False,\n",
       "  'V_dog': False,\n",
       "  'V_convincing': False,\n",
       "  'V_cut': False,\n",
       "  'V_college': False,\n",
       "  'V_issues': False,\n",
       "  'V_mark': False,\n",
       "  'V_formulaic': False,\n",
       "  'V_country': False,\n",
       "  'V_create': False,\n",
       "  'V_cannot': False,\n",
       "  'V_unsettling': False,\n",
       "  'V_watchable': False,\n",
       "  'V_slight': False,\n",
       "  'V_ultimate': False,\n",
       "  'V_seriously': False,\n",
       "  'V_melodramatic': False,\n",
       "  'V_apart': False,\n",
       "  'V_eye': False,\n",
       "  'V_house': False,\n",
       "  'V_ability': False,\n",
       "  'V_heavy': False,\n",
       "  'V_sincere': False,\n",
       "  'V_supposed': False,\n",
       "  'V_previous': False,\n",
       "  'V_slightly': False,\n",
       "  'V_ago': False,\n",
       "  'V_giving': False,\n",
       "  'V_hold': False,\n",
       "  'V_era': False,\n",
       "  'V_reveals': False,\n",
       "  'V_*': False,\n",
       "  'V_class': False,\n",
       "  'V_extremely': False,\n",
       "  'V_routine': False,\n",
       "  'V_relationships': False,\n",
       "  'V_living': False,\n",
       "  'V_artist': False,\n",
       "  'V_trouble': False,\n",
       "  'V_contemporary': False,\n",
       "  'V_plain': False,\n",
       "  'V_episode': False,\n",
       "  'V_indeed': False,\n",
       "  'V_pacing': False,\n",
       "  'V_crush': False,\n",
       "  'V_sets': False,\n",
       "  'V_old-fashioned': False,\n",
       "  'V_inventive': False,\n",
       "  'V_date': False,\n",
       "  'V_uneven': False,\n",
       "  'V_forgettable': False,\n",
       "  'V_amount': False,\n",
       "  'V_twists': False,\n",
       "  'V_joke': False,\n",
       "  'V_stars': False,\n",
       "  'V_tragic': False,\n",
       "  'V_attempts': False,\n",
       "  'V_e': False,\n",
       "  'V_largely': False,\n",
       "  'V_grace': False,\n",
       "  'V_stylish': False,\n",
       "  'V_road': False,\n",
       "  'V_terms': False,\n",
       "  'V_fully': False,\n",
       "  'V_ones': False,\n",
       "  'V_leads': False,\n",
       "  \"V_aren't\": False,\n",
       "  'V_course': False,\n",
       "  'V_pleasant': False,\n",
       "  'V_money': False,\n",
       "  'V_casting': False,\n",
       "  'V_gripping': False,\n",
       "  'V_extreme': False,\n",
       "  'V_pop': False,\n",
       "  'V_succeeds': False,\n",
       "  'V_finds': False,\n",
       "  'V_focus': False,\n",
       "  'V_george': False,\n",
       "  'V_involved': False,\n",
       "  'V_five': False,\n",
       "  'V_grant': False,\n",
       "  'V_thrills': False,\n",
       "  'V_intimate': False,\n",
       "  'V_mix': False,\n",
       "  'V_thinking': False,\n",
       "  'V_crazy': False,\n",
       "  'V_steven': False,\n",
       "  'V_treat': False,\n",
       "  'V_heaven': False,\n",
       "  'V_complete': False,\n",
       "  'V_involving': False,\n",
       "  'V_absolutely': False,\n",
       "  'V_goofy': False,\n",
       "  'V_substance': False,\n",
       "  'V_happens': False,\n",
       "  'V_badly': False,\n",
       "  'V_problems': False,\n",
       "  'V_disturbing': False,\n",
       "  'V_presents': False,\n",
       "  'V_williams': False,\n",
       "  \"V_we've\": False,\n",
       "  \"V_she's\": False,\n",
       "  'V_masterpiece': False,\n",
       "  'V_promise': False,\n",
       "  'V_runs': False,\n",
       "  'V_painful': False,\n",
       "  'V_recommend': False,\n",
       "  'V_business': False,\n",
       "  'V_drag': False,\n",
       "  'V_successful': False,\n",
       "  'V_considerable': False,\n",
       "  'V_es': False,\n",
       "  'V_yourself': False,\n",
       "  'V_appears': False,\n",
       "  'V_missing': False,\n",
       "  'V_soundtrack': False,\n",
       "  'V_happy': False,\n",
       "  'V_couple': False,\n",
       "  'V_colorful': False,\n",
       "  'V_poetry': False,\n",
       "  'V_york': False,\n",
       "  'V_themes': False,\n",
       "  'V_friendship': False,\n",
       "  'V_unique': False,\n",
       "  'V_water': False,\n",
       "  'V_called': False,\n",
       "  'V_oscar': False,\n",
       "  'V_effect': False,\n",
       "  'V_soul': False,\n",
       "  'V_viewing': False,\n",
       "  'V_forget': False,\n",
       "  'V_situations': False,\n",
       "  \"V_couldn't\": False,\n",
       "  'V_person': False,\n",
       "  'V_absorbing': False,\n",
       "  'V_interested': False,\n",
       "  'V_typical': False,\n",
       "  'V_forced': False,\n",
       "  'V_flicks': False,\n",
       "  'V_loses': False,\n",
       "  'V_bright': False,\n",
       "  'V_meditation': False,\n",
       "  'V_target': False,\n",
       "  'V_pieces': False,\n",
       "  'V_skin': False,\n",
       "  \"V_man's\": False,\n",
       "  'V_share': False,\n",
       "  'V_originality': False,\n",
       "  'V_parts': False,\n",
       "  'V_bizarre': False,\n",
       "  'V_hits': False,\n",
       "  'V_manner': False,\n",
       "  'V_terrible': False,\n",
       "  'V_somehow': False,\n",
       "  'V_mean': False,\n",
       "  'V_sentimentality': False,\n",
       "  'V_british': False,\n",
       "  'V_strangely': False,\n",
       "  'V_[a]': False,\n",
       "  'V_urban': False,\n",
       "  ...},\n",
       " 'pos')"
      ]
     },
     "execution_count": 18,
     "metadata": {},
     "output_type": "execute_result"
    }
   ],
   "source": [
    "# the feature sets are 2000 words long so you may want to look at one\n",
    "featuresets[0]\n"
   ]
  },
  {
   "cell_type": "code",
   "execution_count": 22,
   "metadata": {
    "id": "eV63yoD6UiZ_"
   },
   "outputs": [],
   "source": [
    "# training using naive Baysian classifier, training set is approximately 90% of data\n",
    "train_set, test_set = featuresets[1000:], featuresets[:1000]\n",
    "classifier = nltk.NaiveBayesClassifier.train(train_set)"
   ]
  },
  {
   "cell_type": "code",
   "execution_count": 23,
   "metadata": {
    "colab": {
     "base_uri": "https://localhost:8080/"
    },
    "id": "n2NuWHbDVBKo",
    "outputId": "e73a96b4-d448-4c11-ed9f-7ba69378eebf"
   },
   "outputs": [
    {
     "data": {
      "text/plain": [
       "0.733"
      ]
     },
     "execution_count": 23,
     "metadata": {},
     "output_type": "execute_result"
    }
   ],
   "source": [
    "# evaluate the accuracy of the classifier, \n",
    "# Note: the accuracy result may vary since we randomized the documents\n",
    "\n",
    "nltk.classify.accuracy(classifier, test_set)"
   ]
  },
  {
   "cell_type": "code",
   "execution_count": 24,
   "metadata": {
    "colab": {
     "base_uri": "https://localhost:8080/"
    },
    "id": "_XPEDVOgVLKz",
    "outputId": "9d0c339a-b7b7-483a-d554-41ff374b8957"
   },
   "outputs": [
    {
     "name": "stdout",
     "output_type": "stream",
     "text": [
      "Most Informative Features\n",
      "              V_provides = True              pos : neg    =     19.1 : 1.0\n",
      "            V_engrossing = True              pos : neg    =     17.8 : 1.0\n",
      "                V_stupid = True              neg : pos    =     16.9 : 1.0\n",
      "               V_routine = True              neg : pos    =     16.2 : 1.0\n",
      "                  V_loud = True              neg : pos    =     14.9 : 1.0\n",
      "             V_inventive = True              pos : neg    =     14.4 : 1.0\n",
      "                V_boring = True              neg : pos    =     14.4 : 1.0\n",
      "              V_mediocre = True              neg : pos    =     13.6 : 1.0\n",
      "                  V_flat = True              neg : pos    =     13.3 : 1.0\n",
      "            V_refreshing = True              pos : neg    =     13.1 : 1.0\n",
      "                    V_90 = True              neg : pos    =     12.9 : 1.0\n",
      "                  V_warm = True              pos : neg    =     12.3 : 1.0\n",
      "             V_wonderful = True              pos : neg    =     12.3 : 1.0\n",
      "             V_realistic = True              pos : neg    =     11.7 : 1.0\n",
      "          V_refreshingly = True              pos : neg    =     11.1 : 1.0\n",
      "     V_thought-provoking = True              pos : neg    =     11.1 : 1.0\n",
      "                V_beauty = True              pos : neg    =     10.7 : 1.0\n",
      "                   V_car = True              neg : pos    =     10.3 : 1.0\n",
      "              V_captures = True              pos : neg    =     10.3 : 1.0\n",
      "              V_powerful = True              pos : neg    =      9.9 : 1.0\n",
      "              V_chilling = True              pos : neg    =      9.7 : 1.0\n",
      "           V_mesmerizing = True              pos : neg    =      9.7 : 1.0\n",
      "             V_offensive = True              neg : pos    =      9.6 : 1.0\n",
      "                V_unless = True              neg : pos    =      9.6 : 1.0\n",
      "                V_wasn't = True              neg : pos    =      9.6 : 1.0\n",
      "                 V_waste = True              neg : pos    =      9.3 : 1.0\n",
      "               V_culture = True              pos : neg    =      9.3 : 1.0\n",
      "                  V_dull = True              neg : pos    =      9.3 : 1.0\n",
      "              V_intimate = True              pos : neg    =      9.0 : 1.0\n",
      "                   V_wry = True              pos : neg    =      9.0 : 1.0\n"
     ]
    }
   ],
   "source": [
    "# show which features of classifier are most informative\n",
    "classifier.show_most_informative_features(30)"
   ]
  },
  {
   "cell_type": "markdown",
   "metadata": {
    "id": "_plTrXERVQcy"
   },
   "source": [
    "## Task 4:  adding features from sentiment lexicon"
   ]
  },
  {
   "cell_type": "code",
   "execution_count": 25,
   "metadata": {
    "id": "lLC7x_XZWMeo"
   },
   "outputs": [],
   "source": [
    "# First define the readSubjectivity function. \n",
    "# what does this function do?\n",
    "\n",
    "def readSubjectivity(path):\n",
    "    flexicon = open(path, 'r')\n",
    "    # initialize an empty dictionary\n",
    "    sldict = { }\n",
    "    for line in flexicon:\n",
    "        fields = line.split()   # default is to split on whitespace\n",
    "        # split each field on the '=' and keep the second part as the value\n",
    "        strength = fields[0].split(\"=\")[1]\n",
    "        word = fields[2].split(\"=\")[1]\n",
    "        posTag = fields[3].split(\"=\")[1]\n",
    "        stemmed = fields[4].split(\"=\")[1]\n",
    "        polarity = fields[5].split(\"=\")[1]\n",
    "        if (stemmed == 'y'):\n",
    "            isStemmed = True\n",
    "        else:\n",
    "            isStemmed = False\n",
    "        # put a dictionary entry with the word as the keyword\n",
    "        #     and a list of the other values\n",
    "        sldict[word] = [strength, posTag, isStemmed, polarity]\n",
    "    return sldict"
   ]
  },
  {
   "cell_type": "code",
   "execution_count": 28,
   "metadata": {
    "id": "W_uFpF_7XAO9"
   },
   "outputs": [],
   "source": [
    "# create a path to where the subjectivity file resides on your disk\n",
    "SLpath = \"subjclueslen1-HLTEMNLP05.tff\""
   ]
  },
  {
   "cell_type": "code",
   "execution_count": 29,
   "metadata": {
    "id": "k5SXGc35V1rA"
   },
   "outputs": [],
   "source": [
    "# copy the readSubjectivity function into your session and cal the fn\n",
    "SL = readSubjectivity(SLpath)"
   ]
  },
  {
   "cell_type": "code",
   "execution_count": 30,
   "metadata": {
    "colab": {
     "base_uri": "https://localhost:8080/"
    },
    "id": "Hm0CuJ34XBsu",
    "outputId": "644348a9-bc4c-4bbe-9b97-e5a897b2a267"
   },
   "outputs": [
    {
     "data": {
      "text/plain": [
       "6885"
      ]
     },
     "execution_count": 30,
     "metadata": {},
     "output_type": "execute_result"
    }
   ],
   "source": [
    "# how many words are in the dictionary\n",
    "len(SL.keys())"
   ]
  },
  {
   "cell_type": "code",
   "execution_count": 31,
   "metadata": {
    "colab": {
     "base_uri": "https://localhost:8080/",
     "height": 253
    },
    "id": "Jms1eFkzXlFq",
    "outputId": "a5efbc01-f986-4195-ae7f-cde42b26182d"
   },
   "outputs": [
    {
     "name": "stdout",
     "output_type": "stream",
     "text": [
      "['strongsubj', 'adj', False, 'neutral']\n",
      "['strongsubj', 'adj', False, 'negative']\n"
     ]
    },
    {
     "ename": "KeyError",
     "evalue": "'dog'",
     "output_type": "error",
     "traceback": [
      "\u001b[0;31m---------------------------------------------------------------------------\u001b[0m",
      "\u001b[0;31mKeyError\u001b[0m                                  Traceback (most recent call last)",
      "Input \u001b[0;32mIn [31]\u001b[0m, in \u001b[0;36m<cell line: 5>\u001b[0;34m()\u001b[0m\n\u001b[1;32m      3\u001b[0m \u001b[38;5;28mprint\u001b[39m(SL[\u001b[38;5;124m'\u001b[39m\u001b[38;5;124mshabby\u001b[39m\u001b[38;5;124m'\u001b[39m])\n\u001b[1;32m      4\u001b[0m \u001b[38;5;66;03m# note what happens if the word is not there\u001b[39;00m\n\u001b[0;32m----> 5\u001b[0m \u001b[38;5;28mprint\u001b[39m(\u001b[43mSL\u001b[49m\u001b[43m[\u001b[49m\u001b[38;5;124;43m'\u001b[39;49m\u001b[38;5;124;43mdog\u001b[39;49m\u001b[38;5;124;43m'\u001b[39;49m\u001b[43m]\u001b[49m)\n",
      "\u001b[0;31mKeyError\u001b[0m: 'dog'"
     ]
    }
   ],
   "source": [
    "# look at words in the dictionary\n",
    "print(SL['absolute'])\n",
    "print(SL['shabby'])\n",
    "# note what happens if the word is not there\n",
    "print(SL['dog'])"
   ]
  },
  {
   "cell_type": "code",
   "execution_count": 32,
   "metadata": {
    "colab": {
     "base_uri": "https://localhost:8080/"
    },
    "id": "XRgZarL6X3U0",
    "outputId": "d260c009-5f59-40b8-a6ca-7c7b3a18d0b0"
   },
   "outputs": [
    {
     "name": "stdout",
     "output_type": "stream",
     "text": [
      "neutral\n"
     ]
    }
   ],
   "source": [
    "# use multiple assignment to get the 4 items\n",
    "strength, posTag, isStemmed, polarity = SL['absolute']\n",
    "print(polarity)"
   ]
  },
  {
   "cell_type": "code",
   "execution_count": 33,
   "metadata": {
    "id": "BCch_vORX7CY"
   },
   "outputs": [],
   "source": [
    "# define features that include word counts of subjectivity words\n",
    "# negative feature will have number of weakly negative words + 2 * number of strongly negative words\n",
    "# positive feature has similar definition\n",
    "#  not counting neutral words\n",
    "def SL_features(document, word_features, SL):\n",
    "    document_words = set(document)\n",
    "    features = {}\n",
    "    for word in word_features:\n",
    "        features['V_{}'.format(word)] = (word in document_words)\n",
    "    # count variables for the 4 classes of subjectivity\n",
    "    weakPos = 0\n",
    "    strongPos = 0\n",
    "    weakNeg = 0\n",
    "    strongNeg = 0\n",
    "    for word in document_words:\n",
    "        if word in SL:\n",
    "            strength, posTag, isStemmed, polarity = SL[word]\n",
    "            if strength == 'weaksubj' and polarity == 'positive':\n",
    "                weakPos += 1\n",
    "            if strength == 'strongsubj' and polarity == 'positive':\n",
    "                strongPos += 1\n",
    "            if strength == 'weaksubj' and polarity == 'negative':\n",
    "                weakNeg += 1\n",
    "            if strength == 'strongsubj' and polarity == 'negative':\n",
    "                strongNeg += 1\n",
    "            features['positivecount'] = weakPos + (2 * strongPos)\n",
    "            features['negativecount'] = weakNeg + (2 * strongNeg)      \n",
    "    return features\n"
   ]
  },
  {
   "cell_type": "code",
   "execution_count": 34,
   "metadata": {
    "id": "RrI5ASO_YJyE"
   },
   "outputs": [],
   "source": [
    "SL_featuresets = [(SL_features(d, word_features, SL), c) for (d, c) in documents]"
   ]
  },
  {
   "cell_type": "code",
   "execution_count": 35,
   "metadata": {
    "colab": {
     "base_uri": "https://localhost:8080/"
    },
    "id": "2TMRum5HYPOf",
    "outputId": "54abfad6-5693-41ff-c823-befad566bb09"
   },
   "outputs": [
    {
     "name": "stdout",
     "output_type": "stream",
     "text": [
      "1\n",
      "3\n"
     ]
    }
   ],
   "source": [
    "# show just the two sentiment lexicon features in document 0\n",
    "print(SL_featuresets[0][0]['positivecount'])\n",
    "print(SL_featuresets[0][0]['negativecount'])"
   ]
  },
  {
   "cell_type": "code",
   "execution_count": 36,
   "metadata": {
    "colab": {
     "base_uri": "https://localhost:8080/",
     "height": 35
    },
    "id": "HL8yrlelYV1h",
    "outputId": "aeb1f74c-06ee-4f54-bf23-b8d1eab83a78"
   },
   "outputs": [
    {
     "data": {
      "text/plain": [
       "'pos'"
      ]
     },
     "execution_count": 36,
     "metadata": {},
     "output_type": "execute_result"
    }
   ],
   "source": [
    "# this gives the label of document 0\n",
    "SL_featuresets[0][1]"
   ]
  },
  {
   "cell_type": "code",
   "execution_count": 37,
   "metadata": {
    "colab": {
     "base_uri": "https://localhost:8080/"
    },
    "id": "UFR3ja6eYZj4",
    "outputId": "2075a05d-dba0-41b9-ccfc-16717b75b2a1"
   },
   "outputs": [
    {
     "data": {
      "text/plain": [
       "0.749"
      ]
     },
     "execution_count": 37,
     "metadata": {},
     "output_type": "execute_result"
    }
   ],
   "source": [
    "# retrain the classifier using these features\n",
    "train_set, test_set = SL_featuresets[1000:], SL_featuresets[:1000]\n",
    "classifier = nltk.NaiveBayesClassifier.train(train_set)\n",
    "nltk.classify.accuracy(classifier, test_set)"
   ]
  },
  {
   "cell_type": "markdown",
   "metadata": {
    "id": "2pD-E59LYjVM"
   },
   "source": [
    "##  Task 5: Add Negation features\n"
   ]
  },
  {
   "cell_type": "code",
   "execution_count": 38,
   "metadata": {
    "colab": {
     "base_uri": "https://localhost:8080/"
    },
    "id": "iUBt2A2eYwNH",
    "outputId": "e7bc1b7b-6c7b-4fee-e93b-26ae836ab09d"
   },
   "outputs": [
    {
     "name": "stdout",
     "output_type": "stream",
     "text": [
      "['there', 'is', 'a', 'difference', 'between', 'movies', 'with', 'the', 'courage', 'to', 'go', 'over', 'the', 'top', 'and', 'movies', 'that', \"don't\", 'care', 'about', 'being', 'stupid']\n",
      "['a', 'farce', 'of', 'a', 'parody', 'of', 'a', 'comedy', 'of', 'a', 'premise', ',', 'it', \"isn't\", 'a', 'comparison', 'to', 'reality', 'so', 'much', 'as', 'it', 'is', 'a', 'commentary', 'about', 'our', 'knowledge', 'of', 'films', '.']\n",
      "['i', \"didn't\", 'laugh', '.', 'i', \"didn't\", 'smile', '.', 'i', 'survived', '.']\n",
      "['i', \"didn't\", 'laugh', '.', 'i', \"didn't\", 'smile', '.', 'i', 'survived', '.']\n",
      "['most', 'of', 'the', 'problems', 'with', 'the', 'film', \"don't\", 'derive', 'from', 'the', 'screenplay', ',', 'but', 'rather', 'the', 'mediocre', 'performances', 'by', 'most', 'of', 'the', 'actors', 'involved']\n",
      "['the', 'lack', 'of', 'naturalness', 'makes', 'everything', 'seem', 'self-consciously', 'poetic', 'and', 'forced', '.', '.', '.', \"it's\", 'a', 'pity', 'that', \"[nelson's]\", 'achievement', \"doesn't\", 'match', 'his', 'ambition', '.']\n"
     ]
    }
   ],
   "source": [
    "# Negation words \"not\", \"never\" and \"no\"\n",
    "# Not can appear in contractions of the form \"doesn't\"\n",
    "for sent in list(sentences)[:50]:\n",
    "   for word in sent:\n",
    "     if (word.endswith(\"n't\")):\n",
    "       print(sent)"
   ]
  },
  {
   "cell_type": "code",
   "execution_count": 39,
   "metadata": {
    "id": "FCtPuR44Y3WR"
   },
   "outputs": [],
   "source": [
    "# this list of negation words includes some \"approximate negators\" like hardly and rarely\n",
    "negationwords = ['no', 'not', 'never', 'none', 'nowhere', 'nothing', 'noone', 'rather', 'hardly', 'scarcely', 'rarely', 'seldom', 'neither', 'nor']"
   ]
  },
  {
   "cell_type": "code",
   "execution_count": 40,
   "metadata": {
    "id": "c9dggQS4Y73Z"
   },
   "outputs": [],
   "source": [
    "# One strategy with negation words is to negate the word following the negation word\n",
    "# other strategies negate all words up to the next punctuation\n",
    "# Strategy defined here is to go through the document words in order adding the word features,\n",
    "#   but if the word follows a negation words, change the feature to negated word\n",
    "\n",
    "# Start the feature set with all 2000 word features and 2000 Not word features set to false\n",
    "def NOT_features(document, word_features, negationwords):\n",
    "    features = {}\n",
    "    for word in word_features:\n",
    "        features['V_{}'.format(word)] = False\n",
    "        features['V_NOT{}'.format(word)] = False\n",
    "    # go through document words in order\n",
    "    for i in range(0, len(document)):\n",
    "        word = document[i]\n",
    "        if ((i + 1) < len(document)) and ((word in negationwords) or (word.endswith(\"n't\"))):\n",
    "            i += 1\n",
    "            features['V_NOT{}'.format(document[i])] = (document[i] in word_features)\n",
    "        else:\n",
    "            features['V_{}'.format(word)] = (word in word_features)\n",
    "    return features\n",
    "\n"
   ]
  },
  {
   "cell_type": "code",
   "execution_count": 41,
   "metadata": {
    "colab": {
     "base_uri": "https://localhost:8080/"
    },
    "id": "RgfNqTWiaAJA",
    "outputId": "a0833cc0-43cb-4063-c49b-662a3afc792e"
   },
   "outputs": [
    {
     "name": "stdout",
     "output_type": "stream",
     "text": [
      "False\n",
      "False\n"
     ]
    }
   ],
   "source": [
    "# define the feature sets\n",
    "NOT_featuresets = [(NOT_features(d, word_features, negationwords), c) for (d, c) in documents]\n",
    "# show the values of a couple of example features\n",
    "print(NOT_featuresets[0][0]['V_NOTcare'])\n",
    "print(NOT_featuresets[0][0]['V_always'])\n"
   ]
  },
  {
   "cell_type": "code",
   "execution_count": 42,
   "metadata": {
    "colab": {
     "base_uri": "https://localhost:8080/"
    },
    "id": "er19XnIaaLdW",
    "outputId": "dcab9bb6-d8be-4601-bee9-4ced22eee3fe"
   },
   "outputs": [
    {
     "data": {
      "text/plain": [
       "0.762"
      ]
     },
     "execution_count": 42,
     "metadata": {},
     "output_type": "execute_result"
    }
   ],
   "source": [
    "train_set, test_set = NOT_featuresets[1000:], NOT_featuresets[:1000]\n",
    "classifier = nltk.NaiveBayesClassifier.train(train_set)\n",
    "nltk.classify.accuracy(classifier, test_set)"
   ]
  },
  {
   "cell_type": "code",
   "execution_count": 43,
   "metadata": {
    "colab": {
     "base_uri": "https://localhost:8080/"
    },
    "id": "i2XZ__Uib2IL",
    "outputId": "c06f79f7-5766-4d50-cea5-e6481cc17187"
   },
   "outputs": [
    {
     "name": "stdout",
     "output_type": "stream",
     "text": [
      "Most Informative Features\n",
      "              V_provides = True              pos : neg    =     19.1 : 1.0\n",
      "            V_engrossing = True              pos : neg    =     17.8 : 1.0\n",
      "                V_stupid = True              neg : pos    =     16.9 : 1.0\n",
      "               V_routine = True              neg : pos    =     16.2 : 1.0\n",
      "                  V_loud = True              neg : pos    =     14.9 : 1.0\n",
      "             V_inventive = True              pos : neg    =     14.4 : 1.0\n",
      "                V_boring = True              neg : pos    =     14.4 : 1.0\n",
      "              V_mediocre = True              neg : pos    =     13.6 : 1.0\n",
      "                  V_flat = True              neg : pos    =     13.3 : 1.0\n",
      "            V_refreshing = True              pos : neg    =     13.1 : 1.0\n",
      "                    V_90 = True              neg : pos    =     12.9 : 1.0\n",
      "                  V_warm = True              pos : neg    =     12.3 : 1.0\n",
      "             V_wonderful = True              pos : neg    =     12.3 : 1.0\n",
      "             V_realistic = True              pos : neg    =     11.7 : 1.0\n",
      "          V_refreshingly = True              pos : neg    =     11.1 : 1.0\n",
      "     V_thought-provoking = True              pos : neg    =     11.1 : 1.0\n",
      "             V_NOTenough = True              neg : pos    =     10.9 : 1.0\n",
      "                V_beauty = True              pos : neg    =     10.7 : 1.0\n",
      "                   V_car = True              neg : pos    =     10.3 : 1.0\n",
      "              V_captures = True              pos : neg    =     10.3 : 1.0\n",
      "              V_powerful = True              pos : neg    =      9.9 : 1.0\n",
      "              V_chilling = True              pos : neg    =      9.7 : 1.0\n",
      "           V_mesmerizing = True              pos : neg    =      9.7 : 1.0\n",
      "             V_offensive = True              neg : pos    =      9.6 : 1.0\n",
      "                V_unless = True              neg : pos    =      9.6 : 1.0\n",
      "                 V_waste = True              neg : pos    =      9.3 : 1.0\n",
      "               V_culture = True              pos : neg    =      9.3 : 1.0\n",
      "                  V_dull = True              neg : pos    =      9.3 : 1.0\n",
      "              V_intimate = True              pos : neg    =      9.0 : 1.0\n",
      "                   V_wry = True              pos : neg    =      9.0 : 1.0\n"
     ]
    }
   ],
   "source": [
    "classifier.show_most_informative_features(30)"
   ]
  },
  {
   "cell_type": "markdown",
   "metadata": {
    "id": "Mw1qK3fkemto"
   },
   "source": [
    "## Bonus python text for the Question, define a stop word list \n"
   ]
  },
  {
   "cell_type": "code",
   "execution_count": 44,
   "metadata": {
    "colab": {
     "base_uri": "https://localhost:8080/"
    },
    "id": "OCVdjULhepPb",
    "outputId": "6364e5ec-9de0-4b0b-c7f9-e58a1ac40860"
   },
   "outputs": [
    {
     "name": "stdout",
     "output_type": "stream",
     "text": [
      "179\n",
      "['i', 'me', 'my', 'myself', 'we', 'our', 'ours', 'ourselves', 'you', \"you're\", \"you've\", \"you'll\", \"you'd\", 'your', 'yours', 'yourself', 'yourselves', 'he', 'him', 'his', 'himself', 'she', \"she's\", 'her', 'hers', 'herself', 'it', \"it's\", 'its', 'itself', 'they', 'them', 'their', 'theirs', 'themselves', 'what', 'which', 'who', 'whom', 'this', 'that', \"that'll\", 'these', 'those', 'am', 'is', 'are', 'was', 'were', 'be', 'been', 'being', 'have', 'has', 'had', 'having', 'do', 'does', 'did', 'doing', 'a', 'an', 'the', 'and', 'but', 'if', 'or', 'because', 'as', 'until', 'while', 'of', 'at', 'by', 'for', 'with', 'about', 'against', 'between', 'into', 'through', 'during', 'before', 'after', 'above', 'below', 'to', 'from', 'up', 'down', 'in', 'out', 'on', 'off', 'over', 'under', 'again', 'further', 'then', 'once', 'here', 'there', 'when', 'where', 'why', 'how', 'all', 'any', 'both', 'each', 'few', 'more', 'most', 'other', 'some', 'such', 'no', 'nor', 'not', 'only', 'own', 'same', 'so', 'than', 'too', 'very', 's', 't', 'can', 'will', 'just', 'don', \"don't\", 'should', \"should've\", 'now', 'd', 'll', 'm', 'o', 're', 've', 'y', 'ain', 'aren', \"aren't\", 'couldn', \"couldn't\", 'didn', \"didn't\", 'doesn', \"doesn't\", 'hadn', \"hadn't\", 'hasn', \"hasn't\", 'haven', \"haven't\", 'isn', \"isn't\", 'ma', 'mightn', \"mightn't\", 'mustn', \"mustn't\", 'needn', \"needn't\", 'shan', \"shan't\", 'shouldn', \"shouldn't\", 'wasn', \"wasn't\", 'weren', \"weren't\", 'won', \"won't\", 'wouldn', \"wouldn't\"]\n"
     ]
    }
   ],
   "source": [
    "stopwords = nltk.corpus.stopwords.words('english')\n",
    "print(len(stopwords))\n",
    "print(stopwords)"
   ]
  },
  {
   "cell_type": "code",
   "execution_count": 45,
   "metadata": {
    "id": "H2uuuru7etld"
   },
   "outputs": [],
   "source": [
    "# remove some negation words \n",
    "negationwords.extend(['ain', 'aren', 'couldn', 'didn', 'doesn', 'hadn', 'hasn', 'haven', 'isn', 'ma', 'mightn', 'mustn', 'needn', 'shan', 'shouldn', 'wasn', 'weren', 'won', 'wouldn'])\n",
    "\n"
   ]
  },
  {
   "cell_type": "code",
   "execution_count": 46,
   "metadata": {
    "colab": {
     "base_uri": "https://localhost:8080/"
    },
    "id": "tvGehNYme5Ox",
    "outputId": "50463f3a-1b20-4996-ded4-746e34c9b9f0"
   },
   "outputs": [
    {
     "name": "stdout",
     "output_type": "stream",
     "text": [
      "157\n",
      "['i', 'me', 'my', 'myself', 'we', 'our', 'ours', 'ourselves', 'you', \"you're\", \"you've\", \"you'll\", \"you'd\", 'your', 'yours', 'yourself', 'yourselves', 'he', 'him', 'his', 'himself', 'she', \"she's\", 'her', 'hers', 'herself', 'it', \"it's\", 'its', 'itself', 'they', 'them', 'their', 'theirs', 'themselves', 'what', 'which', 'who', 'whom', 'this', 'that', \"that'll\", 'these', 'those', 'am', 'is', 'are', 'was', 'were', 'be', 'been', 'being', 'have', 'has', 'had', 'having', 'do', 'does', 'did', 'doing', 'a', 'an', 'the', 'and', 'but', 'if', 'or', 'because', 'as', 'until', 'while', 'of', 'at', 'by', 'for', 'with', 'about', 'against', 'between', 'into', 'through', 'during', 'before', 'after', 'above', 'below', 'to', 'from', 'up', 'down', 'in', 'out', 'on', 'off', 'over', 'under', 'again', 'further', 'then', 'once', 'here', 'there', 'when', 'where', 'why', 'how', 'all', 'any', 'both', 'each', 'few', 'more', 'most', 'other', 'some', 'such', 'only', 'own', 'same', 'so', 'than', 'too', 'very', 's', 't', 'can', 'will', 'just', 'don', \"don't\", 'should', \"should've\", 'now', 'd', 'll', 'm', 'o', 're', 've', 'y', \"aren't\", \"couldn't\", \"didn't\", \"doesn't\", \"hadn't\", \"hasn't\", \"haven't\", \"isn't\", \"mightn't\", \"mustn't\", \"needn't\", \"shan't\", \"shouldn't\", \"wasn't\", \"weren't\", \"won't\", \"wouldn't\"]\n"
     ]
    }
   ],
   "source": [
    "newstopwords = [word for word in stopwords if word not in negationwords]\n",
    "print(len(newstopwords))\n",
    "print(newstopwords)\n",
    "\n"
   ]
  },
  {
   "cell_type": "code",
   "execution_count": 47,
   "metadata": {
    "id": "0uqxQCZafB4j"
   },
   "outputs": [],
   "source": [
    "# remove stop words from the all words list\n",
    "new_all_words_list = [word for (sent,cat) in documents for word in sent if word not in newstopwords]\n"
   ]
  },
  {
   "cell_type": "code",
   "execution_count": 48,
   "metadata": {
    "id": "oQxTcXcMfJkg"
   },
   "outputs": [],
   "source": [
    "# continue to define a new all words dictionary, get the 2000 most common as new_word_features\n",
    "new_all_words = nltk.FreqDist(new_all_words_list)\n",
    "new_word_items = new_all_words.most_common(2000)\n"
   ]
  },
  {
   "cell_type": "code",
   "execution_count": 49,
   "metadata": {
    "colab": {
     "base_uri": "https://localhost:8080/"
    },
    "id": "TWwO9sSCfMF4",
    "outputId": "eaa3b92c-a990-41c3-d0a5-3358b000c2bf"
   },
   "outputs": [
    {
     "name": "stdout",
     "output_type": "stream",
     "text": [
      "['.', ',', 'film', 'movie', 'not', 'one', 'like', '\"', '--', 'story', 'no', 'much', 'even', 'good', 'comedy', 'time', 'characters', 'little', 'way', 'funny', 'make', 'enough', 'never', 'makes', 'may', 'us', 'work', 'best', 'bad', 'director']\n"
     ]
    }
   ],
   "source": [
    "new_word_features = [word for (word,count) in new_word_items]\n",
    "print(new_word_features[:30])"
   ]
  },
  {
   "cell_type": "code",
   "execution_count": 62,
   "metadata": {
    "id": "4UpM2q4_fSCD"
   },
   "outputs": [],
   "source": [
    "# now re-run one of the feature set definitions with the new_word_features instead of word_features\n",
    "# check whether you'll get a higher accuracy when compared with the previous word_features"
   ]
  },
  {
   "cell_type": "code",
   "execution_count": 54,
   "metadata": {},
   "outputs": [],
   "source": [
    "def document_features(document, new_word_features):\n",
    "    document_words = set(document)\n",
    "    features = {}\n",
    "    for word in new_word_features:\n",
    "        features['V_{}'.format(word)] = (word in document_words)\n",
    "    return features"
   ]
  },
  {
   "cell_type": "code",
   "execution_count": 55,
   "metadata": {},
   "outputs": [],
   "source": [
    "featuresets = [(document_features(d, new_word_features), c) for (d, c) in documents]"
   ]
  },
  {
   "cell_type": "code",
   "execution_count": 56,
   "metadata": {},
   "outputs": [],
   "source": [
    "train_set, test_set = featuresets[1000:], featuresets[:1000]\n",
    "classifier = nltk.NaiveBayesClassifier.train(train_set)"
   ]
  },
  {
   "cell_type": "code",
   "execution_count": 57,
   "metadata": {},
   "outputs": [
    {
     "data": {
      "text/plain": [
       "0.738"
      ]
     },
     "execution_count": 57,
     "metadata": {},
     "output_type": "execute_result"
    }
   ],
   "source": [
    "nltk.classify.accuracy(classifier, test_set)"
   ]
  }
 ],
 "metadata": {
  "colab": {
   "provenance": []
  },
  "kernelspec": {
   "display_name": "Python 3 (ipykernel)",
   "language": "python",
   "name": "python3"
  },
  "language_info": {
   "codemirror_mode": {
    "name": "ipython",
    "version": 3
   },
   "file_extension": ".py",
   "mimetype": "text/x-python",
   "name": "python",
   "nbconvert_exporter": "python",
   "pygments_lexer": "ipython3",
   "version": "3.10.6"
  }
 },
 "nbformat": 4,
 "nbformat_minor": 1
}
