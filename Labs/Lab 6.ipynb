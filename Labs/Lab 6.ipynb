{
 "cells": [
  {
   "cell_type": "markdown",
   "metadata": {
    "id": "QqPSPoBOqucY"
   },
   "source": [
    "# Lab: Lexical Semantics:  WordNet\n",
    "\n"
   ]
  },
  {
   "cell_type": "markdown",
   "metadata": {
    "id": "yNa-1Ercq0mm"
   },
   "source": [
    "\n",
    "# Part 1: WordNet\n",
    "\n",
    "## Task 1: understanding of the basic structure of WordNet\n"
   ]
  },
  {
   "cell_type": "code",
   "execution_count": 1,
   "metadata": {
    "id": "xBzdesWcq63F"
   },
   "outputs": [],
   "source": [
    "import nltk"
   ]
  },
  {
   "cell_type": "code",
   "execution_count": 2,
   "metadata": {
    "id": "O5BSN6xyq7-Q"
   },
   "outputs": [],
   "source": [
    "# import wordnet and shorten its name to wn\n",
    "from nltk.corpus import wordnet as wn"
   ]
  },
  {
   "cell_type": "code",
   "execution_count": 10,
   "metadata": {
    "colab": {
     "base_uri": "https://localhost:8080/"
    },
    "id": "hohbjoZHq-8u",
    "outputId": "28c75639-5a91-45a5-96e0-e80cb1dcdcfd"
   },
   "outputs": [
    {
     "data": {
      "text/plain": [
       "[Synset('dog.n.01'),\n",
       " Synset('frump.n.01'),\n",
       " Synset('dog.n.03'),\n",
       " Synset('cad.n.01'),\n",
       " Synset('frank.n.02'),\n",
       " Synset('pawl.n.01'),\n",
       " Synset('andiron.n.01'),\n",
       " Synset('chase.v.01')]"
      ]
     },
     "execution_count": 10,
     "metadata": {},
     "output_type": "execute_result"
    }
   ],
   "source": [
    "# for each sense of a word, there is a synset with an id consisting of one of the words,\n",
    "#    whether it is noun, verb, adj or adverb and a number among the synsets of that word\n",
    "# given word \"dog\", returns the ids of the synsets\n",
    "wn.synsets('dog')\n",
    "\n"
   ]
  },
  {
   "cell_type": "code",
   "execution_count": 11,
   "metadata": {
    "colab": {
     "base_uri": "https://localhost:8080/"
    },
    "id": "zOANJJyjrXnW",
    "outputId": "ba2412cb-7a1c-416f-ce50-809874373f51"
   },
   "outputs": [
    {
     "data": {
      "text/plain": [
       "['dog', 'domestic_dog', 'Canis_familiaris']"
      ]
     },
     "execution_count": 11,
     "metadata": {},
     "output_type": "execute_result"
    }
   ],
   "source": [
    "# given a synset id, find words/lemma names (the synonyms) of the first noun sense of \"dog\"\n",
    "wn.synset('dog.n.01').lemma_names()"
   ]
  },
  {
   "cell_type": "code",
   "execution_count": 12,
   "metadata": {
    "colab": {
     "base_uri": "https://localhost:8080/"
    },
    "id": "d2RB-TeirX-X",
    "outputId": "a4eb60f4-57db-4d2a-ebdc-523344d28ca7"
   },
   "outputs": [
    {
     "data": {
      "text/plain": [
       "[Lemma('dog.n.01.dog'),\n",
       " Lemma('dog.n.01.domestic_dog'),\n",
       " Lemma('dog.n.01.Canis_familiaris')]"
      ]
     },
     "execution_count": 12,
     "metadata": {},
     "output_type": "execute_result"
    }
   ],
   "source": [
    "# given a synset id, find lemmas of the synset (a lemma pairs a word with a synset)\n",
    "wn.synset('dog.n.01').lemmas()"
   ]
  },
  {
   "cell_type": "code",
   "execution_count": 13,
   "metadata": {
    "colab": {
     "base_uri": "https://localhost:8080/"
    },
    "id": "x2-BZUInreDp",
    "outputId": "f9463d50-fb42-4429-ae34-41ee24791bd4"
   },
   "outputs": [
    {
     "data": {
      "text/plain": [
       "Synset('dog.n.01')"
      ]
     },
     "execution_count": 13,
     "metadata": {},
     "output_type": "execute_result"
    }
   ],
   "source": [
    "# find synset of a lemma\n",
    "wn.lemma('dog.n.01.domestic_dog').synset()"
   ]
  },
  {
   "cell_type": "code",
   "execution_count": 14,
   "metadata": {
    "colab": {
     "base_uri": "https://localhost:8080/"
    },
    "id": "SiVK9JLOrmB3",
    "outputId": "6e131a49-37a2-4dd0-ba2b-95dc6903eedf"
   },
   "outputs": [
    {
     "name": "stdout",
     "output_type": "stream",
     "text": [
      "Synset('dog.n.01') :   ['dog', 'domestic_dog', 'Canis_familiaris']\n",
      "Synset('frump.n.01') :   ['frump', 'dog']\n",
      "Synset('dog.n.03') :   ['dog']\n",
      "Synset('cad.n.01') :   ['cad', 'bounder', 'blackguard', 'dog', 'hound', 'heel']\n",
      "Synset('frank.n.02') :   ['frank', 'frankfurter', 'hotdog', 'hot_dog', 'dog', 'wiener', 'wienerwurst', 'weenie']\n",
      "Synset('pawl.n.01') :   ['pawl', 'detent', 'click', 'dog']\n",
      "Synset('andiron.n.01') :   ['andiron', 'firedog', 'dog', 'dog-iron']\n",
      "Synset('chase.v.01') :   ['chase', 'chase_after', 'trail', 'tail', 'tag', 'give_chase', 'dog', 'go_after', 'track']\n"
     ]
    }
   ],
   "source": [
    "# find lemma names for all senses of a word\n",
    "for synset in wn.synsets('dog'):\n",
    "\tprint (synset, \":  \", synset.lemma_names())\n"
   ]
  },
  {
   "cell_type": "code",
   "execution_count": 15,
   "metadata": {
    "colab": {
     "base_uri": "https://localhost:8080/",
     "height": 53
    },
    "id": "1lUDSNIXrog7",
    "outputId": "a77f33b9-d5c8-4467-ad31-69d46ddccf97"
   },
   "outputs": [
    {
     "data": {
      "application/vnd.google.colaboratory.intrinsic+json": {
       "type": "string"
      },
      "text/plain": [
       "'a member of the genus Canis (probably descended from the common wolf) that has been domesticated by man since prehistoric times; occurs in many breeds'"
      ]
     },
     "execution_count": 15,
     "metadata": {},
     "output_type": "execute_result"
    }
   ],
   "source": [
    "# find definition of the first noun sense of dog, or namely, the dog.n.01 synset\n",
    "wn.synset('dog.n.01').definition()\n"
   ]
  },
  {
   "cell_type": "code",
   "execution_count": 16,
   "metadata": {
    "colab": {
     "base_uri": "https://localhost:8080/"
    },
    "id": "pljTm4I8rs_q",
    "outputId": "e5b66263-6c8e-4a7d-a731-9e387dcce06e"
   },
   "outputs": [
    {
     "data": {
      "text/plain": [
       "['the dog barked all night']"
      ]
     },
     "execution_count": 16,
     "metadata": {},
     "output_type": "execute_result"
    }
   ],
   "source": [
    "# display an example of the synset\n",
    "wn.synset('dog.n.01').examples()\n"
   ]
  },
  {
   "cell_type": "code",
   "execution_count": 17,
   "metadata": {
    "colab": {
     "base_uri": "https://localhost:8080/"
    },
    "id": "LnRNwA3mrvEL",
    "outputId": "8aafb822-395f-49b1-9137-fb17594fe0f4"
   },
   "outputs": [
    {
     "name": "stdout",
     "output_type": "stream",
     "text": [
      "Synset('dog.n.01') :   a member of the genus Canis (probably descended from the common wolf) that has been domesticated by man since prehistoric times; occurs in many breeds\n",
      "Synset('frump.n.01') :   a dull unattractive unpleasant girl or woman\n",
      "Synset('dog.n.03') :   informal term for a man\n",
      "Synset('cad.n.01') :   someone who is morally reprehensible\n",
      "Synset('frank.n.02') :   a smooth-textured sausage of minced beef or pork usually smoked; often served on a bread roll\n",
      "Synset('pawl.n.01') :   a hinged catch that fits into a notch of a ratchet to move a wheel forward or prevent it from moving backward\n",
      "Synset('andiron.n.01') :   metal supports for logs in a fireplace\n",
      "Synset('chase.v.01') :   go after with the intent to catch\n"
     ]
    }
   ],
   "source": [
    "# or show the definitions for all the synsets of a word\n",
    "for synset in wn.synsets('dog'):\n",
    "\tprint (synset, \":  \", synset.definition())"
   ]
  },
  {
   "cell_type": "code",
   "execution_count": 18,
   "metadata": {
    "colab": {
     "base_uri": "https://localhost:8080/"
    },
    "id": "OR4y81gUrx8s",
    "outputId": "a144f163-1a15-4f5b-e123-9a571cbd25e5"
   },
   "outputs": [
    {
     "name": "stdout",
     "output_type": "stream",
     "text": [
      "Synset('dog.n.01') :  \n",
      "      ['dog', 'domestic_dog', 'Canis_familiaris']\n",
      "      a member of the genus Canis (probably descended from the common wolf) that has been domesticated by man since prehistoric times; occurs in many breeds\n",
      "      ['the dog barked all night']\n",
      "Synset('frump.n.01') :  \n",
      "      ['frump', 'dog']\n",
      "      a dull unattractive unpleasant girl or woman\n",
      "      ['she got a reputation as a frump', \"she's a real dog\"]\n",
      "Synset('dog.n.03') :  \n",
      "      ['dog']\n",
      "      informal term for a man\n",
      "      ['you lucky dog']\n",
      "Synset('cad.n.01') :  \n",
      "      ['cad', 'bounder', 'blackguard', 'dog', 'hound', 'heel']\n",
      "      someone who is morally reprehensible\n",
      "      ['you dirty dog']\n",
      "Synset('frank.n.02') :  \n",
      "      ['frank', 'frankfurter', 'hotdog', 'hot_dog', 'dog', 'wiener', 'wienerwurst', 'weenie']\n",
      "      a smooth-textured sausage of minced beef or pork usually smoked; often served on a bread roll\n",
      "      []\n",
      "Synset('pawl.n.01') :  \n",
      "      ['pawl', 'detent', 'click', 'dog']\n",
      "      a hinged catch that fits into a notch of a ratchet to move a wheel forward or prevent it from moving backward\n",
      "      []\n",
      "Synset('andiron.n.01') :  \n",
      "      ['andiron', 'firedog', 'dog', 'dog-iron']\n",
      "      metal supports for logs in a fireplace\n",
      "      ['the andirons were too hot to touch']\n",
      "Synset('chase.v.01') :  \n",
      "      ['chase', 'chase_after', 'trail', 'tail', 'tag', 'give_chase', 'dog', 'go_after', 'track']\n",
      "      go after with the intent to catch\n",
      "      ['The policeman chased the mugger down the alley', 'the dog chased the rabbit']\n"
     ]
    }
   ],
   "source": [
    "# or combine the synonyms/lemma names, definitions and examples\n",
    "for synset in wn.synsets('dog'):\n",
    "\tprint (synset, \":  \")\n",
    "\tprint ('     ', synset.lemma_names())\n",
    "\tprint ('     ', synset.definition())\n",
    "\tprint ('     ', synset.examples())"
   ]
  },
  {
   "cell_type": "markdown",
   "metadata": {
    "id": "Oo4igU2kr4fC"
   },
   "source": [
    "##  Task 2: Lexical relations between synsets in WordNet"
   ]
  },
  {
   "cell_type": "code",
   "execution_count": 19,
   "metadata": {
    "colab": {
     "base_uri": "https://localhost:8080/"
    },
    "id": "ufgyJxYzr7iV",
    "outputId": "e48b6ae1-243f-4792-ebd3-8b2b873dbf28"
   },
   "outputs": [
    {
     "data": {
      "text/plain": [
       "[Synset('canine.n.02'), Synset('domestic_animal.n.01')]"
      ]
     },
     "execution_count": 19,
     "metadata": {},
     "output_type": "execute_result"
    }
   ],
   "source": [
    "# find hypernyms of synsets\n",
    "dog1 = wn.synset('dog.n.01')\n",
    "dog1.hypernyms()"
   ]
  },
  {
   "cell_type": "code",
   "execution_count": 20,
   "metadata": {
    "colab": {
     "base_uri": "https://localhost:8080/"
    },
    "id": "RfCxHCOvr-EU",
    "outputId": "eb94c02d-020d-4149-acc4-e3369c7db820"
   },
   "outputs": [
    {
     "data": {
      "text/plain": [
       "[Synset('basenji.n.01'),\n",
       " Synset('corgi.n.01'),\n",
       " Synset('cur.n.01'),\n",
       " Synset('dalmatian.n.02'),\n",
       " Synset('great_pyrenees.n.01'),\n",
       " Synset('griffon.n.02'),\n",
       " Synset('hunting_dog.n.01'),\n",
       " Synset('lapdog.n.01'),\n",
       " Synset('leonberg.n.01'),\n",
       " Synset('mexican_hairless.n.01'),\n",
       " Synset('newfoundland.n.01'),\n",
       " Synset('pooch.n.01'),\n",
       " Synset('poodle.n.01'),\n",
       " Synset('pug.n.01'),\n",
       " Synset('puppy.n.01'),\n",
       " Synset('spitz.n.01'),\n",
       " Synset('toy_dog.n.01'),\n",
       " Synset('working_dog.n.01')]"
      ]
     },
     "execution_count": 20,
     "metadata": {},
     "output_type": "execute_result"
    }
   ],
   "source": [
    "# find hyponyms\n",
    "dog1.hyponyms()\n"
   ]
  },
  {
   "cell_type": "code",
   "execution_count": 21,
   "metadata": {
    "colab": {
     "base_uri": "https://localhost:8080/"
    },
    "id": "MiydXBd8sDM1",
    "outputId": "a38e1db2-8664-4a72-b68f-2247f4987056"
   },
   "outputs": [
    {
     "data": {
      "text/plain": [
       "[Synset('entity.n.01')]"
      ]
     },
     "execution_count": 21,
     "metadata": {},
     "output_type": "execute_result"
    }
   ],
   "source": [
    "# the most general hypernym of a synset\n",
    "dog1.root_hypernyms()"
   ]
  },
  {
   "cell_type": "code",
   "execution_count": 22,
   "metadata": {
    "colab": {
     "base_uri": "https://localhost:8080/"
    },
    "id": "PyoIFPCbsHEP",
    "outputId": "bbd86314-a98a-4b32-cd42-c1b9b4f2ad96"
   },
   "outputs": [
    {
     "data": {
      "text/plain": [
       "[Synset('flag.n.07')]"
      ]
     },
     "execution_count": 22,
     "metadata": {},
     "output_type": "execute_result"
    }
   ],
   "source": [
    "# from the wordnet browser, we see that dog1 has two more relations\n",
    "dog1.part_meronyms()\n"
   ]
  },
  {
   "cell_type": "code",
   "execution_count": 23,
   "metadata": {
    "colab": {
     "base_uri": "https://localhost:8080/"
    },
    "id": "YYFuCc8asLHh",
    "outputId": "578e22ce-ff2a-41e3-923e-1afe6c02bc6b"
   },
   "outputs": [
    {
     "name": "stdout",
     "output_type": "stream",
     "text": [
      "['flag'] a conspicuously marked or shaped tail []\n"
     ]
    }
   ],
   "source": [
    "# what is this \"flag\"?  check it out \n",
    "print (wn.synset('flag.n.07').lemma_names(),wn.synset('flag.n.07').definition(), \n",
    "       wn.synset('flag.n.07').examples())\n"
   ]
  },
  {
   "cell_type": "code",
   "execution_count": 24,
   "metadata": {
    "colab": {
     "base_uri": "https://localhost:8080/"
    },
    "id": "fK_z1zdMsSup",
    "outputId": "623f5fe8-b9c9-427b-9b89-8bbdc4117dad"
   },
   "outputs": [
    {
     "data": {
      "text/plain": [
       "[Synset('canis.n.01'), Synset('pack.n.06')]"
      ]
     },
     "execution_count": 24,
     "metadata": {},
     "output_type": "execute_result"
    }
   ],
   "source": [
    "# the other relation for dog1\n",
    "dog1.member_holonyms()\n"
   ]
  },
  {
   "cell_type": "markdown",
   "metadata": {
    "id": "khmMYBPFsXbx"
   },
   "source": [
    "## task 3: antonyms, entailments\n"
   ]
  },
  {
   "cell_type": "code",
   "execution_count": 25,
   "metadata": {
    "colab": {
     "base_uri": "https://localhost:8080/"
    },
    "id": "w7RWQyQtsgQL",
    "outputId": "dfdf853b-262a-4ea9-f59f-9c22b17b74cb"
   },
   "outputs": [
    {
     "data": {
      "text/plain": [
       "[Synset('good.n.01'),\n",
       " Synset('good.n.02'),\n",
       " Synset('good.n.03'),\n",
       " Synset('commodity.n.01'),\n",
       " Synset('good.a.01'),\n",
       " Synset('full.s.06'),\n",
       " Synset('good.a.03'),\n",
       " Synset('estimable.s.02'),\n",
       " Synset('beneficial.s.01'),\n",
       " Synset('good.s.06'),\n",
       " Synset('good.s.07'),\n",
       " Synset('adept.s.01'),\n",
       " Synset('good.s.09'),\n",
       " Synset('dear.s.02'),\n",
       " Synset('dependable.s.04'),\n",
       " Synset('good.s.12'),\n",
       " Synset('good.s.13'),\n",
       " Synset('effective.s.04'),\n",
       " Synset('good.s.15'),\n",
       " Synset('good.s.16'),\n",
       " Synset('good.s.17'),\n",
       " Synset('good.s.18'),\n",
       " Synset('good.s.19'),\n",
       " Synset('good.s.20'),\n",
       " Synset('good.s.21'),\n",
       " Synset('well.r.01'),\n",
       " Synset('thoroughly.r.02')]"
      ]
     },
     "execution_count": 25,
     "metadata": {},
     "output_type": "execute_result"
    }
   ],
   "source": [
    "# look at another word, the adjective \"good\"\n",
    "wn.synsets('good')"
   ]
  },
  {
   "cell_type": "code",
   "execution_count": 26,
   "metadata": {
    "colab": {
     "base_uri": "https://localhost:8080/"
    },
    "id": "9OK_7VW6sjcb",
    "outputId": "179aa64d-c3fe-41e0-e437-6fea8dd28b84"
   },
   "outputs": [
    {
     "data": {
      "text/plain": [
       "['good']"
      ]
     },
     "execution_count": 26,
     "metadata": {},
     "output_type": "execute_result"
    }
   ],
   "source": [
    "# find antonyms, sometimes need to specify for which lemma the antonym is needed\n",
    "good1 = wn.synset('good.a.01')\n",
    "# display synonyms of this synset\n",
    "good1.lemma_names()\n"
   ]
  },
  {
   "cell_type": "code",
   "execution_count": 27,
   "metadata": {
    "colab": {
     "base_uri": "https://localhost:8080/"
    },
    "id": "umtXlkyPtAGk",
    "outputId": "f1d255fe-1a3b-4660-dea9-863a4e616b8f"
   },
   "outputs": [
    {
     "name": "stdout",
     "output_type": "stream",
     "text": [
      "[Lemma('good.a.01.good')]\n"
     ]
    },
    {
     "data": {
      "text/plain": [
       "[Lemma('bad.a.01.bad')]"
      ]
     },
     "execution_count": 27,
     "metadata": {},
     "output_type": "execute_result"
    }
   ],
   "source": [
    "# the antonym function is defined only on the lemma, not the synset\n",
    "# find antonym for the first lemma of the synset\n",
    "print(good1.lemmas())\n",
    "good1.lemmas()[0].antonyms() "
   ]
  },
  {
   "cell_type": "code",
   "execution_count": 28,
   "metadata": {
    "colab": {
     "base_uri": "https://localhost:8080/"
    },
    "id": "RHFUV2r-tD1L",
    "outputId": "73fb1205-1633-4ce4-d791-c6748bbd3b0d"
   },
   "outputs": [
    {
     "name": "stdout",
     "output_type": "stream",
     "text": [
      "[Synset('step.v.01')]\n",
      "[Synset('chew.v.01'), Synset('swallow.v.01')]\n"
     ]
    }
   ],
   "source": [
    "# find entailments of verbs\n",
    "print(wn.synset('walk.v.01').entailments())\n",
    "print(wn.synset('eat.v.01').entailments())"
   ]
  },
  {
   "cell_type": "markdown",
   "metadata": {
    "id": "O5TgtRaetlGD"
   },
   "source": [
    "## task 4:  trace paths of a synset by visiting its hypernyms\n"
   ]
  },
  {
   "cell_type": "code",
   "execution_count": 29,
   "metadata": {
    "colab": {
     "base_uri": "https://localhost:8080/"
    },
    "id": "6YDRIIkRtIEi",
    "outputId": "bb7c0409-94c3-4139-e3d2-04ae12581376"
   },
   "outputs": [
    {
     "data": {
      "text/plain": [
       "[Synset('canine.n.02'), Synset('domestic_animal.n.01')]"
      ]
     },
     "execution_count": 29,
     "metadata": {},
     "output_type": "execute_result"
    }
   ],
   "source": [
    "## check out the hypernyms of dog1\n",
    "dog1.hypernyms()"
   ]
  },
  {
   "cell_type": "code",
   "execution_count": 30,
   "metadata": {
    "colab": {
     "base_uri": "https://localhost:8080/"
    },
    "id": "xMN6mGuJtdyH",
    "outputId": "8b8ec9ee-be34-4809-eb59-91ac575b0e61"
   },
   "outputs": [
    {
     "name": "stdout",
     "output_type": "stream",
     "text": [
      "2\n"
     ]
    }
   ],
   "source": [
    "# number of paths from the synset to the root concept \"entity\"\n",
    "paths=dog1.hypernym_paths()\n",
    "print(len(paths) )\n",
    "\n"
   ]
  },
  {
   "cell_type": "code",
   "execution_count": 31,
   "metadata": {
    "colab": {
     "base_uri": "https://localhost:8080/"
    },
    "id": "Y1t80tIAt449",
    "outputId": "fbb55af5-4ad0-47f0-d889-9a99a784da20"
   },
   "outputs": [
    {
     "data": {
      "text/plain": [
       "[Synset('entity.n.01'),\n",
       " Synset('physical_entity.n.01'),\n",
       " Synset('object.n.01'),\n",
       " Synset('whole.n.02'),\n",
       " Synset('living_thing.n.01'),\n",
       " Synset('organism.n.01'),\n",
       " Synset('animal.n.01'),\n",
       " Synset('chordate.n.01'),\n",
       " Synset('vertebrate.n.01'),\n",
       " Synset('mammal.n.01'),\n",
       " Synset('placental.n.01'),\n",
       " Synset('carnivore.n.01'),\n",
       " Synset('canine.n.02'),\n",
       " Synset('dog.n.01')]"
      ]
     },
     "execution_count": 31,
     "metadata": {},
     "output_type": "execute_result"
    }
   ],
   "source": [
    "# look at the first path\n",
    "paths[0]"
   ]
  },
  {
   "cell_type": "code",
   "execution_count": 32,
   "metadata": {
    "colab": {
     "base_uri": "https://localhost:8080/"
    },
    "id": "mGumhYO1t5c1",
    "outputId": "904f35da-d2d6-4c10-b440-e83dcb684285"
   },
   "outputs": [
    {
     "data": {
      "text/plain": [
       "['entity.n.01',\n",
       " 'physical_entity.n.01',\n",
       " 'object.n.01',\n",
       " 'whole.n.02',\n",
       " 'living_thing.n.01',\n",
       " 'organism.n.01',\n",
       " 'animal.n.01',\n",
       " 'chordate.n.01',\n",
       " 'vertebrate.n.01',\n",
       " 'mammal.n.01',\n",
       " 'placental.n.01',\n",
       " 'carnivore.n.01',\n",
       " 'canine.n.02',\n",
       " 'dog.n.01']"
      ]
     },
     "execution_count": 32,
     "metadata": {},
     "output_type": "execute_result"
    }
   ],
   "source": [
    "# or just list the names in the paths\n",
    "#list the first path\n",
    "[synset.name() for synset in paths[0]]\n"
   ]
  },
  {
   "cell_type": "code",
   "execution_count": 33,
   "metadata": {
    "colab": {
     "base_uri": "https://localhost:8080/"
    },
    "id": "7Cityr2wuO4f",
    "outputId": "c6e8331d-4528-4299-f700-bc66807f8d3a"
   },
   "outputs": [
    {
     "data": {
      "text/plain": [
       "['entity.n.01',\n",
       " 'physical_entity.n.01',\n",
       " 'object.n.01',\n",
       " 'whole.n.02',\n",
       " 'living_thing.n.01',\n",
       " 'organism.n.01',\n",
       " 'animal.n.01',\n",
       " 'domestic_animal.n.01',\n",
       " 'dog.n.01']"
      ]
     },
     "execution_count": 33,
     "metadata": {},
     "output_type": "execute_result"
    }
   ],
   "source": [
    "#list the second path \n",
    "[synset.name() for synset in paths[1]] "
   ]
  },
  {
   "cell_type": "markdown",
   "metadata": {
    "id": "juG2uDNLucr0"
   },
   "source": [
    "# Part 2: Word similarity\n",
    "## Task 5: define 3 different types of whales\n",
    "\n"
   ]
  },
  {
   "cell_type": "code",
   "execution_count": 34,
   "metadata": {
    "id": "5gAafogDuWr4"
   },
   "outputs": [],
   "source": [
    "right = wn.synset('right_whale.n.01')\n",
    "minke = wn.synset('minke_whale.n.01')  \n",
    "orca = wn.synset('orca.n.01') "
   ]
  },
  {
   "cell_type": "code",
   "execution_count": 35,
   "metadata": {
    "colab": {
     "base_uri": "https://localhost:8080/"
    },
    "id": "DO5xvRtUujVC",
    "outputId": "2b6479d5-650a-438e-b4a6-85d32bc53dd5"
   },
   "outputs": [
    {
     "name": "stdout",
     "output_type": "stream",
     "text": [
      "[[Synset('entity.n.01'), Synset('physical_entity.n.01'), Synset('object.n.01'), Synset('whole.n.02'), Synset('living_thing.n.01'), Synset('organism.n.01'), Synset('animal.n.01'), Synset('chordate.n.01'), Synset('vertebrate.n.01'), Synset('mammal.n.01'), Synset('placental.n.01'), Synset('aquatic_mammal.n.01'), Synset('cetacean.n.01'), Synset('whale.n.02'), Synset('baleen_whale.n.01'), Synset('right_whale.n.01')]]\n",
      "[[Synset('entity.n.01'), Synset('physical_entity.n.01'), Synset('object.n.01'), Synset('whole.n.02'), Synset('living_thing.n.01'), Synset('organism.n.01'), Synset('animal.n.01'), Synset('chordate.n.01'), Synset('vertebrate.n.01'), Synset('mammal.n.01'), Synset('placental.n.01'), Synset('aquatic_mammal.n.01'), Synset('cetacean.n.01'), Synset('whale.n.02'), Synset('baleen_whale.n.01'), Synset('rorqual.n.01'), Synset('lesser_rorqual.n.01')]]\n",
      "[[Synset('entity.n.01'), Synset('physical_entity.n.01'), Synset('object.n.01'), Synset('whole.n.02'), Synset('living_thing.n.01'), Synset('organism.n.01'), Synset('animal.n.01'), Synset('chordate.n.01'), Synset('vertebrate.n.01'), Synset('mammal.n.01'), Synset('placental.n.01'), Synset('aquatic_mammal.n.01'), Synset('cetacean.n.01'), Synset('whale.n.02'), Synset('toothed_whale.n.01'), Synset('dolphin.n.02'), Synset('killer_whale.n.01')]]\n"
     ]
    }
   ],
   "source": [
    "\n",
    "# look at the paths of these three whales\n",
    "print(right.hypernym_paths())\n",
    "print(minke.hypernym_paths())\n",
    "print(orca.hypernym_paths())"
   ]
  },
  {
   "cell_type": "code",
   "execution_count": 36,
   "metadata": {
    "colab": {
     "base_uri": "https://localhost:8080/"
    },
    "id": "6qsPxeKwul-C",
    "outputId": "8d0dcf0f-16d1-428c-bac0-f3b911a28589"
   },
   "outputs": [
    {
     "name": "stdout",
     "output_type": "stream",
     "text": [
      "[Synset('baleen_whale.n.01')]\n",
      "[Synset('whale.n.02')]\n"
     ]
    }
   ],
   "source": [
    "# find the least ancestor of right and minke, and then right and orca\n",
    "print(right.lowest_common_hypernyms(minke))\n",
    "print(right.lowest_common_hypernyms(orca))\n"
   ]
  },
  {
   "cell_type": "code",
   "execution_count": 37,
   "metadata": {
    "colab": {
     "base_uri": "https://localhost:8080/"
    },
    "id": "YiPM-gZ-uqdz",
    "outputId": "cbfe5df6-70a1-470e-dd69-b9b166668543"
   },
   "outputs": [
    {
     "name": "stdout",
     "output_type": "stream",
     "text": [
      "15\n",
      "14\n",
      "0\n"
     ]
    }
   ],
   "source": [
    "# the function min_depth gives the length of a path from a word to the top of the hierarchy\n",
    "print(right.min_depth() )\n",
    "print(wn.synset('baleen_whale.n.01').min_depth() )\n",
    "print(wn.synset('entity.n.01').min_depth())\n"
   ]
  },
  {
   "cell_type": "code",
   "execution_count": 38,
   "metadata": {
    "colab": {
     "base_uri": "https://localhost:8080/"
    },
    "id": "hSGa-pu3uvvc",
    "outputId": "884c70bf-a6df-4b65-a28a-70e0248f36b6"
   },
   "outputs": [
    {
     "name": "stdout",
     "output_type": "stream",
     "text": [
      "0.25\n",
      "0.16666666666666666\n"
     ]
    }
   ],
   "source": [
    "# the path similarity gives a similarity score between 0 and 1\n",
    "print(right.path_similarity(minke) )\n",
    "print(right.path_similarity(orca))"
   ]
  },
  {
   "cell_type": "markdown",
   "metadata": {
    "id": "zmXEtF7Vu7NB"
   },
   "source": [
    "## task 6: define 2 more words and look at their similarity"
   ]
  },
  {
   "cell_type": "code",
   "execution_count": 39,
   "metadata": {
    "colab": {
     "base_uri": "https://localhost:8080/"
    },
    "id": "QkZnGsCxu1BT",
    "outputId": "bc4169b9-3222-4e77-ca6a-74ed5fb31204"
   },
   "outputs": [
    {
     "name": "stdout",
     "output_type": "stream",
     "text": [
      "[Synset('vertebrate.n.01')]\n",
      "[Synset('entity.n.01')]\n",
      "0.07692307692307693\n",
      "0.043478260869565216\n"
     ]
    }
   ],
   "source": [
    "## 2 more words: tortoise, novel-- which is more similar to \"right whale\"?\n",
    "tortoise = wn.synset('tortoise.n.01')\n",
    "novel = wn.synset('novel.n.01')\n",
    "# note the least ancestor of these two words\n",
    "print(right.lowest_common_hypernyms(tortoise))\n",
    "print(right.lowest_common_hypernyms(novel))\n",
    "\n",
    "print(right.path_similarity(tortoise) )\n",
    "print(right.path_similarity(novel))"
   ]
  },
  {
   "cell_type": "markdown",
   "metadata": {
    "id": "eZOhjCcSvSz8"
   },
   "source": [
    "## task 7: other similarity measures"
   ]
  },
  {
   "cell_type": "code",
   "execution_count": 40,
   "metadata": {
    "colab": {
     "base_uri": "https://localhost:8080/"
    },
    "id": "7MGkZrg6vWeB",
    "outputId": "0c0e6213-daa9-4e84-8b9d-2422f1efe77a"
   },
   "outputs": [
    {
     "name": "stdout",
     "output_type": "stream",
     "text": [
      "1.845826690498331\n",
      "1.072636802264849\n",
      "0.5020919437972361\n"
     ]
    }
   ],
   "source": [
    "# Leacock-Chodorow Similarity, also uses path lengths and others\n",
    "print(right.lch_similarity(orca))\n",
    "print(right.lch_similarity(tortoise))\n",
    "print(right.lch_similarity(novel))"
   ]
  },
  {
   "cell_type": "markdown",
   "metadata": {
    "id": "CZ21_dYivtIB"
   },
   "source": [
    "# Part 3: SentiWordNet\n",
    "## task 8: find out the sentiment of each word"
   ]
  },
  {
   "cell_type": "code",
   "execution_count": 21,
   "metadata": {
    "id": "45mwIsvbvezw"
   },
   "outputs": [],
   "source": [
    "from nltk.corpus import sentiwordnet as swn"
   ]
  },
  {
   "cell_type": "code",
   "execution_count": 45,
   "metadata": {
    "colab": {
     "base_uri": "https://localhost:8080/"
    },
    "id": "UQpCosn4vwyB",
    "outputId": "e7154137-2101-4c32-a1d5-9102fea573e5"
   },
   "outputs": [
    {
     "name": "stdout",
     "output_type": "stream",
     "text": [
      "[SentiSynset('dislocation.n.02'), SentiSynset('breakdown.n.02'), SentiSynset('breakdown.n.03'), SentiSynset('breakdown.n.04')]\n",
      "[Synset('dislocation.n.02'), Synset('breakdown.n.02'), Synset('breakdown.n.03'), Synset('breakdown.n.04')]\n"
     ]
    }
   ],
   "source": [
    "# each word judged to be made up of positive, negative and objective meaning\n",
    "\n",
    "# sentiwordnet has the same synsets as wordnet, use wn functions\n",
    "print(list(swn.senti_synsets('breakdown')))\n",
    "print(wn.synsets('breakdown'))"
   ]
  },
  {
   "cell_type": "code",
   "execution_count": 46,
   "metadata": {
    "colab": {
     "base_uri": "https://localhost:8080/"
    },
    "id": "NsFCeZdHv2u9",
    "outputId": "d3a53e38-ffab-44d9-9f44-90e177417b70"
   },
   "outputs": [
    {
     "name": "stdout",
     "output_type": "stream",
     "text": [
      "<breakdown.n.03: PosScore=0.0 NegScore=0.25>\n"
     ]
    }
   ],
   "source": [
    "# the print function gives the positive and negative scores\n",
    "breakdown3 = swn.senti_synset('breakdown.n.03')\n",
    "print (breakdown3)"
   ]
  },
  {
   "cell_type": "code",
   "execution_count": 47,
   "metadata": {
    "colab": {
     "base_uri": "https://localhost:8080/"
    },
    "id": "ULCUCM7BwAGI",
    "outputId": "20f7e156-07c4-4651-c9a7-db737a2963b6"
   },
   "outputs": [
    {
     "name": "stdout",
     "output_type": "stream",
     "text": [
      "0.0\n",
      "0.25\n",
      "0.75\n"
     ]
    }
   ],
   "source": [
    "# there are also separate functions for all the scores\n",
    "print(breakdown3.pos_score())\n",
    "print(breakdown3.neg_score())\n",
    "print(breakdown3.obj_score())\n"
   ]
  },
  {
   "cell_type": "code",
   "execution_count": 48,
   "metadata": {
    "colab": {
     "base_uri": "https://localhost:8080/"
    },
    "id": "BJt15BGXwDdW",
    "outputId": "9b579e44-4c52-4a44-882a-bcd2303e6f34"
   },
   "outputs": [
    {
     "name": "stdout",
     "output_type": "stream",
     "text": [
      "<dog.n.01: PosScore=0.0 NegScore=0.0>\n",
      "1.0\n"
     ]
    }
   ],
   "source": [
    "# some more exploration of sentiment scores of words\n",
    "dogswn1 = swn.senti_synset('dog.n.01')\n",
    "print(dogswn1)\n",
    "print(dogswn1.obj_score())"
   ]
  },
  {
   "cell_type": "code",
   "execution_count": 49,
   "metadata": {
    "colab": {
     "base_uri": "https://localhost:8080/"
    },
    "id": "XWqsMdjGwFmp",
    "outputId": "11356990-e0ba-488d-f692-c63b1ea8d0ed"
   },
   "outputs": [
    {
     "name": "stdout",
     "output_type": "stream",
     "text": [
      "<good.a.01: PosScore=0.75 NegScore=0.0>\n",
      "0.25\n"
     ]
    }
   ],
   "source": [
    "goodswn1 = swn.senti_synset('good.a.01')\n",
    "print(goodswn1)\n",
    "print(goodswn1.obj_score())\n"
   ]
  },
  {
   "cell_type": "markdown",
   "metadata": {},
   "source": [
    "## Weekly Lab:\n",
    "\n",
    "The word I choose is \"base\""
   ]
  },
  {
   "cell_type": "code",
   "execution_count": 15,
   "metadata": {
    "id": "7Mp9NGFPwLJf"
   },
   "outputs": [
    {
     "name": "stdout",
     "output_type": "stream",
     "text": [
      "Synset('base.n.01') :  \n",
      "      ['base', 'base_of_operations']\n",
      "      installation from which a military force initiates operations\n",
      "      ['the attack wiped out our forward bases']\n",
      "Synset('foundation.n.03') :  \n",
      "      ['foundation', 'base', 'fundament', 'foot', 'groundwork', 'substructure', 'understructure']\n",
      "      lowest support of a structure\n",
      "      ['it was built on a base of solid rock', 'he stood at the foot of the tower']\n",
      "Synset('base.n.03') :  \n",
      "      ['base', 'bag']\n",
      "      a place that the runner must touch before scoring\n",
      "      ['he scrambled to get back to the bag']\n",
      "Synset('base.n.04') :  \n",
      "      ['base']\n",
      "      the bottom or lowest part\n",
      "      ['the base of the mountain']\n",
      "Synset('base.n.05') :  \n",
      "      ['base']\n",
      "      (anatomy) the part of an organ nearest its point of attachment\n",
      "      ['the base of the skull']\n",
      "Synset('floor.n.03') :  \n",
      "      ['floor', 'base']\n",
      "      a lower limit\n",
      "      ['the government established a wage floor']\n",
      "Synset('basis.n.02') :  \n",
      "      ['basis', 'base', 'foundation', 'fundament', 'groundwork', 'cornerstone']\n",
      "      the fundamental assumptions from which something is begun or developed or calculated or explained\n",
      "      ['the whole argument rested on a basis of conjecture']\n",
      "Synset('base.n.08') :  \n",
      "      ['base', 'pedestal', 'stand']\n",
      "      a support or foundation\n",
      "      ['the base of the lamp']\n",
      "Synset('nucleotide.n.01') :  \n",
      "      ['nucleotide', 'base']\n",
      "      a phosphoric ester of a nucleoside; the basic structural unit of nucleic acids (DNA or RNA)\n",
      "      []\n",
      "Synset('base.n.10') :  \n",
      "      ['base', 'alkali']\n",
      "      any of various water-soluble compounds capable of turning litmus blue and reacting with an acid to form a salt and water\n",
      "      ['bases include oxides and hydroxides of metals and ammonia']\n",
      "Synset('base.n.11') :  \n",
      "      ['base']\n",
      "      the bottom side of a geometric figure from which the altitude can be constructed\n",
      "      ['the base of the triangle']\n",
      "Synset('basis.n.03') :  \n",
      "      ['basis', 'base']\n",
      "      the most important or necessary part of something\n",
      "      ['the basis of this drink is orange juice']\n",
      "Synset('base.n.13') :  \n",
      "      ['base', 'radix']\n",
      "      (numeration system) the positive integer that is equivalent to one in the next higher counting place\n",
      "      ['10 is the radix of the decimal system']\n",
      "Synset('base.n.14') :  \n",
      "      ['base', 'home']\n",
      "      the place where you are stationed and from which missions start and end\n",
      "      []\n",
      "Synset('al-qaeda.n.01') :  \n",
      "      ['al-Qaeda', 'Qaeda', \"al-Qa'ida\", 'al-Qaida', 'Base']\n",
      "      a terrorist network intensely opposed to the United States that dispenses money and logistical support and training to a wide variety of radical Islamic terrorist groups; has cells in more than 50 countries\n",
      "      []\n",
      "Synset('root.n.03') :  \n",
      "      ['root', 'root_word', 'base', 'stem', 'theme', 'radical']\n",
      "      (linguistics) the form of a word after all affixes are removed\n",
      "      ['thematic vowels are part of the stem']\n",
      "Synset('infrastructure.n.02') :  \n",
      "      ['infrastructure', 'base']\n",
      "      the stock of basic facilities and capital equipment needed for the functioning of a country or area\n",
      "      ['the industrial base of Japan']\n",
      "Synset('base.n.18') :  \n",
      "      ['base']\n",
      "      the principal ingredient of a mixture\n",
      "      ['glycerinated gelatin is used as a base for many ointments', 'he told the painter that he wanted a yellow base with just a hint of green', 'everything she cooked seemed to have rice as the base']\n",
      "Synset('base.n.19') :  \n",
      "      ['base']\n",
      "      a flat bottom on which something is intended to sit\n",
      "      ['a tub should sit on its own base']\n",
      "Synset('base.n.20') :  \n",
      "      ['base']\n",
      "      (electronics) the part of a transistor that separates the emitter from the collector\n",
      "      []\n",
      "Synset('establish.v.08') :  \n",
      "      ['establish', 'base', 'ground', 'found']\n",
      "      use as a basis for; found on\n",
      "      ['base a claim on some observation']\n",
      "Synset('base.v.02') :  \n",
      "      ['base']\n",
      "      situate as a center of operations\n",
      "      ['we will base this project in the new lab']\n",
      "Synset('free-base.v.01') :  \n",
      "      ['free-base', 'base']\n",
      "      use (purified cocaine) by burning it and inhaling the fumes\n",
      "      []\n",
      "Synset('basal.s.02') :  \n",
      "      ['basal', 'base']\n",
      "      serving as or forming a base\n",
      "      ['the painter applied a base coat followed by two finishing coats']\n",
      "Synset('base.s.02') :  \n",
      "      ['base', 'baseborn', 'humble', 'lowly']\n",
      "      of low birth or station (`base' is archaic in this sense)\n",
      "      ['baseborn wretches with dirty faces', 'of humble (or lowly) birth']\n",
      "Synset('base.s.03') :  \n",
      "      ['base']\n",
      "      (used of metals) consisting of or alloyed with inferior metal\n",
      "      ['base coins of aluminum', 'a base metal']\n",
      "Synset('base.s.04') :  \n",
      "      ['base', 'immoral']\n",
      "      not adhering to ethical or moral principles\n",
      "      ['base and unpatriotic motives', 'a base, degrading way of life', 'cheating is dishonorable', 'they considered colonialism immoral', 'unethical practices in handling public funds']\n",
      "Synset('base.s.05') :  \n",
      "      ['base', 'mean', 'meanspirited']\n",
      "      having or showing an ignoble lack of honor or morality; - Edmund Burke; ; - Shakespeare\n",
      "      ['that liberal obedience without which your army would be a base rabble', 'taking a mean advantage', \"chok'd with ambition of the meaner sort\", 'something essentially vulgar and meanspirited in politics']\n",
      "Synset('base.s.06') :  \n",
      "      ['base', 'baseborn']\n",
      "      illegitimate\n",
      "      []\n",
      "Synset('base.s.07') :  \n",
      "      ['base']\n",
      "      debased; not genuine\n",
      "      ['an attempt to eliminate the base coinage']\n"
     ]
    }
   ],
   "source": [
    "# show all the synsets of that word, their lemma names, definitions, and examples.\n",
    "for synset in wn.synsets('base'):\n",
    "\tprint (synset, \":  \")\n",
    "\tprint ('     ', synset.lemma_names())\n",
    "\tprint ('     ', synset.definition())\n",
    "\tprint ('     ', synset.examples())"
   ]
  },
  {
   "cell_type": "code",
   "execution_count": 16,
   "metadata": {},
   "outputs": [
    {
     "data": {
      "text/plain": [
       "[Synset('air_base.n.01'),\n",
       " Synset('army_base.n.01'),\n",
       " Synset('firebase.n.01'),\n",
       " Synset('navy_base.n.01'),\n",
       " Synset('rocket_base.n.01')]"
      ]
     },
     "execution_count": 16,
     "metadata": {},
     "output_type": "execute_result"
    }
   ],
   "source": [
    "# find hypernyms of synsets\n",
    "base1 = wn.synset('base.n.01')\n",
    "base1.hypernyms()\n",
    "\n",
    "# find hyponyms\n",
    "base1.hyponyms()"
   ]
  },
  {
   "cell_type": "code",
   "execution_count": 20,
   "metadata": {},
   "outputs": [
    {
     "data": {
      "text/plain": [
       "['entity.n.01',\n",
       " 'physical_entity.n.01',\n",
       " 'object.n.01',\n",
       " 'whole.n.02',\n",
       " 'artifact.n.01',\n",
       " 'facility.n.01',\n",
       " 'military_installation.n.01',\n",
       " 'base.n.01']"
      ]
     },
     "execution_count": 20,
     "metadata": {},
     "output_type": "execute_result"
    }
   ],
   "source": [
    "# show the hypernym paths between the top of the hierarchy and that word sense.\n",
    "paths = base1.hypernym_paths()\n",
    "[synset.name() for synset in paths[0]]"
   ]
  },
  {
   "cell_type": "markdown",
   "metadata": {},
   "source": [
    "## Use the online WordNet search:\n",
    "\n",
    "See what other relations are defined for your word and show one or more of them using NLTK functions."
   ]
  },
  {
   "cell_type": "markdown",
   "metadata": {},
   "source": [
    "**S: (n) base, bag (a place that the runner must touch before scoring) \"he scrambled to get back to the bag\"**"
   ]
  },
  {
   "cell_type": "code",
   "execution_count": 22,
   "metadata": {},
   "outputs": [
    {
     "name": "stdout",
     "output_type": "stream",
     "text": [
      "<base.n.03: PosScore=0.0 NegScore=0.0>\n"
     ]
    }
   ],
   "source": [
    "base3 = swn.senti_synset('base.n.03')\n",
    "print (base3)"
   ]
  },
  {
   "cell_type": "code",
   "execution_count": 23,
   "metadata": {},
   "outputs": [
    {
     "name": "stdout",
     "output_type": "stream",
     "text": [
      "0.0\n",
      "0.0\n",
      "1.0\n"
     ]
    }
   ],
   "source": [
    "print(base3.pos_score())\n",
    "print(base3.neg_score())\n",
    "print(base3.obj_score())"
   ]
  }
 ],
 "metadata": {
  "colab": {
   "provenance": []
  },
  "kernelspec": {
   "display_name": "Python 3 (ipykernel)",
   "language": "python",
   "name": "python3"
  },
  "language_info": {
   "codemirror_mode": {
    "name": "ipython",
    "version": 3
   },
   "file_extension": ".py",
   "mimetype": "text/x-python",
   "name": "python",
   "nbconvert_exporter": "python",
   "pygments_lexer": "ipython3",
   "version": "3.10.6"
  }
 },
 "nbformat": 4,
 "nbformat_minor": 1
}
